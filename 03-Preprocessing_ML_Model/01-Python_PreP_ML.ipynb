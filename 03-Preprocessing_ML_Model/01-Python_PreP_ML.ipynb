{
    "metadata": {
        "kernelspec": {
            "name": "python3",
            "display_name": "Python 3",
            "language": "python"
        },
        "language_info": {
            "name": "python",
            "version": "3.11.10",
            "mimetype": "text/x-python",
            "codemirror_mode": {
                "name": "ipython",
                "version": 3
            },
            "pygments_lexer": "ipython3",
            "nbconvert_exporter": "python",
            "file_extension": ".py"
        }
    },
    "nbformat_minor": 2,
    "nbformat": 4,
    "cells": [
        {
            "cell_type": "markdown",
            "source": [
                "# Project: Human Resources Dataset Analysis\n",
                "\n",
                "## Week 2: (1) Exploratory Data Analysis (EDA) And Determine Data Analysis Questions:\n",
                "\n",
                "In the second week of this project, we focused on exploratory data analysis (EDA) to identify key questions related to employee retention. This phase aimed to determine how various factors, such as salary, job satisfaction, and overtime, impact the likelihood of employees leaving the company.\n",
                ""
            ],
            "metadata": {
                "azdata_cell_guid": "03683ed5-6374-4424-80d2-4db3f3fd702d"
            },
            "attachments": {}
        },
        {
            "cell_type": "markdown",
            "source": [
                "**This table includes the column names and their descriptions:**\r\n",
                "\r\n",
                "| **#** | **Column Name**                    | **Description**                                                |\r\n",
                "|-------|-------------------------------------|---------------------------------------------------------------|\r\n",
                "| 1     | EmployeeID                         | Unique identifier for each employee                           |\r\n",
                "| 2     | FirstName                          | The first name of the employee                                |\r\n",
                "| 3     | LastName                           | The last name of the employee                                 |\r\n",
                "| 4     | Gender                             | Gender of the employee (Male, Female, Non-binary)            |\r\n",
                "| 5     | Age                                | Age of the employee (in years)                               |\r\n",
                "| 6     | BusinessTravel                     | Frequency of business travel (Rarely, Occasionally, Frequent) |\r\n",
                "| 7     | Department                         | The department where the employee works                       |\r\n",
                "| 8     | DistanceFromHome                   | Distance from the employee's home to work (in kilometers)    |\r\n",
                "| 9     | State                              | The state where the employee resides                          |\r\n",
                "| 10    | Ethnicity                          | Ethnicity of the employee                                     |\r\n",
                "| 11    | EducationField                     | Field of education of the employee (e.g., IT, Marketing)    |\r\n",
                "| 12    | JobRole                            | Job title of the employee (e.g., Software Engineer, Sales Executive) |\r\n",
                "| 13    | MaritalStatus                      | Marital status of the employee (e.g., Married, Single)       |\r\n",
                "| 14    | Salary                             | Salary of the employee (in local currency)                   |\r\n",
                "| 15    | StockOptionLevel                   | Level of stock options granted to the employee (number of shares) |\r\n",
                "| 16    | OverTime                           | Whether the employee works overtime (Yes or No)              |\r\n",
                "| 17    | HireDate                           | Date of hiring the employee (in date format)                 |\r\n",
                "| 18    | Attrition                          | Whether the employee left the company (Yes or No)            |\r\n",
                "| 19    | YearsAtCompany                     | Number of years the employee has been with the company       |\r\n",
                "| 20    | YearsInMostRecentRole              | Number of years the employee has been in the most recent role |\r\n",
                "| 21    | YearsSinceLastPromotion             | Number of years since the last promotion of the employee      |\r\n",
                "| 22    | YearsWithCurrManager               | Number of years the employee has worked with the current manager |\r\n",
                "| 23    | EducationLevel                     | Level of education (e.g., Bachelor's, Master's)              |\r\n",
                "| 24    | PerformanceID                      | Performance evaluation identifier for the employee            |\r\n",
                "| 25    | ReviewDate                         | Date of the last performance review for the employee          |\r\n",
                "| 26    | TrainingOpportunitiesWithinYear    | Number of training opportunities available within the year    |\r\n",
                "| 27    | TrainingOpportunitiesTaken         | Number of training opportunities taken                         |\r\n",
                "| 28    | EnvironmentSatisfactionLevel       | Level of satisfaction with the work environment (Scale 1 to 5) |\r\n",
                "| 29    | JobSatisfactionLevel               | Level of satisfaction with the job (Scale 1 to 5)            |\r\n",
                "| 30    | RelationshipSatisfactionLevel      | Level of satisfaction with workplace relationships (Scale 1 to 5) |\r\n",
                "| 31    | WorkLifeBalanceLevel               | Level of work-life balance (Scale 1 to 5)                     |\r\n",
                "| 32    | SelfRatingLevel                    | Self-rating of the employee (Scale 1 to 5)                    |\r\n",
                "| 33    | ManagerRatingLevel                 | Manager's rating of the employee (Scale 1 to 5)               |\r\n",
                ""
            ],
            "metadata": {
                "azdata_cell_guid": "a6ee3b80-47c2-4f85-8cc9-ec2bad8eded0"
            },
            "attachments": {}
        },
        {
            "cell_type": "code",
            "source": [
                "# import Libraries\n",
                "import numpy as np\n",
                "import pandas as pd\n",
                "import plotly.express as px\n",
                "import matplotlib.pyplot as plt\n",
                "import seaborn as sns\n",
                "import pyodbc\n",
                "\n",
                "pd.options.display.max_rows = None\n",
                "\n",
                "pd.options.display.max_columns = None\n",
                "sns.set()\n"
            ],
            "metadata": {
                "azdata_cell_guid": "c6a4114d-8aa6-4495-a18e-0100b06c1ee1",
                "language": "python",
                "tags": []
            },
            "outputs": [],
            "execution_count": 1
        },
        {
            "cell_type": "code",
            "source": [
                "import pyodbc\n",
                "import pandas as pd\n",
                "\n",
                "\n",
                "def read_sql_query(query):\n",
                "    \n",
                "    server = 'DESKTOP-0CQ5N9B' \n",
                "    database = 'HR_system' \n",
                "    \n",
                "    # SQL Authentication\n",
                "    connection_string = (\n",
                "        f\"Driver={{ODBC Driver 17 for SQL Server}};\" \n",
                "        f\"Server={server};\" \n",
                "        f\"Database={database};\"\n",
                "        f\"Trusted_Connection=yes;\" \n",
                "    )\n",
                "\n",
                "    # Creating connection\n",
                "    try:\n",
                "        connection = pyodbc.connect(connection_string) \n",
                "        print(\"Connection successful!\")\n",
                "\n",
                "        # Use cursor to execute query\n",
                "        cursor = connection.cursor()\n",
                "        cursor.execute(query)\n",
                "        \n",
                "        # Get results\n",
                "        rows = cursor.fetchall()\n",
                "        columns = [column[0] for column in cursor.description] \n",
                "        \n",
                "        # Creating DataFrame\n",
                "        df = pd.DataFrame.from_records(rows, columns=columns)\n",
                "\n",
                "        return df\n",
                "\n",
                "    except Exception as e:\n",
                "        print(f\"Error: {e}\")\n",
                "        connection.close()\n",
                "        return None  \n",
                "    \n",
                "    finally:\n",
                "        # close connection\n",
                "        connection.close()\n",
                "\n",
                ""
            ],
            "metadata": {
                "scrolled": true,
                "azdata_cell_guid": "4cf0de89-3971-49ea-b03a-b774c6b63e06",
                "language": "python",
                "tags": []
            },
            "outputs": [],
            "execution_count": 2
        },
        {
            "cell_type": "markdown",
            "source": [
                "# Employees"
            ],
            "metadata": {
                "azdata_cell_guid": "c2e2f6e0-c35e-4524-93d5-e9f0826a8e9d"
            },
            "attachments": {}
        },
        {
            "cell_type": "code",
            "source": [
                "pth= \"../00-Dataset_Data_Model/\"\n",
                "#df_employees = pd.read_csv(f\"{pth}06-All_Data_Employees.csv\")\n",
                "\n",
                "## Load Dataset of All_Data_Employees.csv (the view \"FullEmployeePerformanceView\")\n",
                "query = \"\"\"SELECT * FROM FullEmployeePerformanceView;\"\"\"\n",
                "\n",
                "df_employees = read_sql_query(query)\n",
                "\n",
                "df_employees.head()"
            ],
            "metadata": {
                "azdata_cell_guid": "24640029-a944-4619-8347-04ae158fa423",
                "language": "python"
            },
            "outputs": [
                {
                    "output_type": "stream",
                    "name": "stdout",
                    "text": "Connection successful!\n"
                },
                {
                    "output_type": "execute_result",
                    "execution_count": 3,
                    "data": {
                        "text/plain": "  EmployeeID FirstName      LastName      Gender  Age      BusinessTravel  \\\n0  001A-8F88   Christy         Jumel        Male   22         Some Travel   \n1  005C-E0FB       Fin  O'Halleghane  Non-Binary   24  Frequent Traveller   \n2  005C-E0FB       Fin  O'Halleghane  Non-Binary   24  Frequent Traveller   \n3  005C-E0FB       Fin  O'Halleghane  Non-Binary   24  Frequent Traveller   \n4  00A3-2445     Wyatt         Ziehm        Male   30         Some Travel   \n\n   Department  DistanceFromHome State                  Ethnicity  \\\n0  Technology                40    CA                      White   \n1       Sales                17    CA                      White   \n2       Sales                17    CA                      White   \n3       Sales                17    CA                      White   \n4  Technology                 6    CA  Black or African American   \n\n        EducationField                    JobRole MaritalStatus    Salary  \\\n0  Information Systems          Software Engineer       Married   27763.0   \n1           Marketing             Sales Executive       Married   56155.0   \n2           Marketing             Sales Executive       Married   56155.0   \n3           Marketing             Sales Executive       Married   56155.0   \n4     Computer Science  Machine Learning Engineer       Married  126238.0   \n\n   StockOptionLevel OverTime   HireDate Attrition  YearsAtCompany  \\\n0                 0       No 2021-09-05        No               1   \n1                 1       No 2017-08-26        No               5   \n2                 1       No 2017-08-26        No               5   \n3                 1       No 2017-08-26        No               5   \n4                 0       No 2012-03-08        No              10   \n\n   YearsInMostRecentRole  YearsSinceLastPromotion  YearsWithCurrManager  \\\n0                      0                        1                     0   \n1                      2                        2                     0   \n2                      2                        2                     0   \n3                      2                        2                     0   \n4                      3                        6                     6   \n\n  EducationLevel PerformanceID ReviewDate  TrainingOpportunitiesWithinYear  \\\n0       Masters           None        NaT                              NaN   \n1       Masters         PR4067 2020-06-17                              1.0   \n2       Masters         PR5070 2021-06-17                              1.0   \n3       Masters         PR6165 2022-06-17                              3.0   \n4   High School         PR1165 2016-06-19                              2.0   \n\n   TrainingOpportunitiesTaken EnvironmentSatisfactionLevel  \\\n0                         NaN                         None   \n1                         2.0                      Neutral   \n2                         1.0                   Satisfied    \n3                         0.0                      Neutral   \n4                         2.0                   Satisfied    \n\n  JobSatisfactionLevel RelationshipSatisfactionLevel WorkLifeBalanceLevel  \\\n0                 None                          None                 None   \n1              Neutral                  Dissatisfied         Dissatisfied   \n2           Satisfied                 Very Satisfied       Very Satisfied   \n3           Satisfied                 Very Satisfied           Satisfied    \n4       Very Satisfied                    Satisfied        Very Satisfied   \n\n        SelfRatingLevel    ManagerRatingLevel  \n0                  None                  None  \n1  Exceeds Expectation      Meets Expectation  \n2     Meets Expectation     Meets Expectation  \n3  Exceeds Expectation   Exceeds Expectation   \n4  Exceeds Expectation      Meets Expectation  ",
                        "text/html": "<div>\n<style scoped>\n    .dataframe tbody tr th:only-of-type {\n        vertical-align: middle;\n    }\n\n    .dataframe tbody tr th {\n        vertical-align: top;\n    }\n\n    .dataframe thead th {\n        text-align: right;\n    }\n</style>\n<table border=\"1\" class=\"dataframe\">\n  <thead>\n    <tr style=\"text-align: right;\">\n      <th></th>\n      <th>EmployeeID</th>\n      <th>FirstName</th>\n      <th>LastName</th>\n      <th>Gender</th>\n      <th>Age</th>\n      <th>BusinessTravel</th>\n      <th>Department</th>\n      <th>DistanceFromHome</th>\n      <th>State</th>\n      <th>Ethnicity</th>\n      <th>EducationField</th>\n      <th>JobRole</th>\n      <th>MaritalStatus</th>\n      <th>Salary</th>\n      <th>StockOptionLevel</th>\n      <th>OverTime</th>\n      <th>HireDate</th>\n      <th>Attrition</th>\n      <th>YearsAtCompany</th>\n      <th>YearsInMostRecentRole</th>\n      <th>YearsSinceLastPromotion</th>\n      <th>YearsWithCurrManager</th>\n      <th>EducationLevel</th>\n      <th>PerformanceID</th>\n      <th>ReviewDate</th>\n      <th>TrainingOpportunitiesWithinYear</th>\n      <th>TrainingOpportunitiesTaken</th>\n      <th>EnvironmentSatisfactionLevel</th>\n      <th>JobSatisfactionLevel</th>\n      <th>RelationshipSatisfactionLevel</th>\n      <th>WorkLifeBalanceLevel</th>\n      <th>SelfRatingLevel</th>\n      <th>ManagerRatingLevel</th>\n    </tr>\n  </thead>\n  <tbody>\n    <tr>\n      <th>0</th>\n      <td>001A-8F88</td>\n      <td>Christy</td>\n      <td>Jumel</td>\n      <td>Male</td>\n      <td>22</td>\n      <td>Some Travel</td>\n      <td>Technology</td>\n      <td>40</td>\n      <td>CA</td>\n      <td>White</td>\n      <td>Information Systems</td>\n      <td>Software Engineer</td>\n      <td>Married</td>\n      <td>27763.0</td>\n      <td>0</td>\n      <td>No</td>\n      <td>2021-09-05</td>\n      <td>No</td>\n      <td>1</td>\n      <td>0</td>\n      <td>1</td>\n      <td>0</td>\n      <td>Masters</td>\n      <td>None</td>\n      <td>NaT</td>\n      <td>NaN</td>\n      <td>NaN</td>\n      <td>None</td>\n      <td>None</td>\n      <td>None</td>\n      <td>None</td>\n      <td>None</td>\n      <td>None</td>\n    </tr>\n    <tr>\n      <th>1</th>\n      <td>005C-E0FB</td>\n      <td>Fin</td>\n      <td>O'Halleghane</td>\n      <td>Non-Binary</td>\n      <td>24</td>\n      <td>Frequent Traveller</td>\n      <td>Sales</td>\n      <td>17</td>\n      <td>CA</td>\n      <td>White</td>\n      <td>Marketing</td>\n      <td>Sales Executive</td>\n      <td>Married</td>\n      <td>56155.0</td>\n      <td>1</td>\n      <td>No</td>\n      <td>2017-08-26</td>\n      <td>No</td>\n      <td>5</td>\n      <td>2</td>\n      <td>2</td>\n      <td>0</td>\n      <td>Masters</td>\n      <td>PR4067</td>\n      <td>2020-06-17</td>\n      <td>1.0</td>\n      <td>2.0</td>\n      <td>Neutral</td>\n      <td>Neutral</td>\n      <td>Dissatisfied</td>\n      <td>Dissatisfied</td>\n      <td>Exceeds Expectation</td>\n      <td>Meets Expectation</td>\n    </tr>\n    <tr>\n      <th>2</th>\n      <td>005C-E0FB</td>\n      <td>Fin</td>\n      <td>O'Halleghane</td>\n      <td>Non-Binary</td>\n      <td>24</td>\n      <td>Frequent Traveller</td>\n      <td>Sales</td>\n      <td>17</td>\n      <td>CA</td>\n      <td>White</td>\n      <td>Marketing</td>\n      <td>Sales Executive</td>\n      <td>Married</td>\n      <td>56155.0</td>\n      <td>1</td>\n      <td>No</td>\n      <td>2017-08-26</td>\n      <td>No</td>\n      <td>5</td>\n      <td>2</td>\n      <td>2</td>\n      <td>0</td>\n      <td>Masters</td>\n      <td>PR5070</td>\n      <td>2021-06-17</td>\n      <td>1.0</td>\n      <td>1.0</td>\n      <td>Satisfied</td>\n      <td>Satisfied</td>\n      <td>Very Satisfied</td>\n      <td>Very Satisfied</td>\n      <td>Meets Expectation</td>\n      <td>Meets Expectation</td>\n    </tr>\n    <tr>\n      <th>3</th>\n      <td>005C-E0FB</td>\n      <td>Fin</td>\n      <td>O'Halleghane</td>\n      <td>Non-Binary</td>\n      <td>24</td>\n      <td>Frequent Traveller</td>\n      <td>Sales</td>\n      <td>17</td>\n      <td>CA</td>\n      <td>White</td>\n      <td>Marketing</td>\n      <td>Sales Executive</td>\n      <td>Married</td>\n      <td>56155.0</td>\n      <td>1</td>\n      <td>No</td>\n      <td>2017-08-26</td>\n      <td>No</td>\n      <td>5</td>\n      <td>2</td>\n      <td>2</td>\n      <td>0</td>\n      <td>Masters</td>\n      <td>PR6165</td>\n      <td>2022-06-17</td>\n      <td>3.0</td>\n      <td>0.0</td>\n      <td>Neutral</td>\n      <td>Satisfied</td>\n      <td>Very Satisfied</td>\n      <td>Satisfied</td>\n      <td>Exceeds Expectation</td>\n      <td>Exceeds Expectation</td>\n    </tr>\n    <tr>\n      <th>4</th>\n      <td>00A3-2445</td>\n      <td>Wyatt</td>\n      <td>Ziehm</td>\n      <td>Male</td>\n      <td>30</td>\n      <td>Some Travel</td>\n      <td>Technology</td>\n      <td>6</td>\n      <td>CA</td>\n      <td>Black or African American</td>\n      <td>Computer Science</td>\n      <td>Machine Learning Engineer</td>\n      <td>Married</td>\n      <td>126238.0</td>\n      <td>0</td>\n      <td>No</td>\n      <td>2012-03-08</td>\n      <td>No</td>\n      <td>10</td>\n      <td>3</td>\n      <td>6</td>\n      <td>6</td>\n      <td>High School</td>\n      <td>PR1165</td>\n      <td>2016-06-19</td>\n      <td>2.0</td>\n      <td>2.0</td>\n      <td>Satisfied</td>\n      <td>Very Satisfied</td>\n      <td>Satisfied</td>\n      <td>Very Satisfied</td>\n      <td>Exceeds Expectation</td>\n      <td>Meets Expectation</td>\n    </tr>\n  </tbody>\n</table>\n</div>"
                    },
                    "metadata": {}
                }
            ],
            "execution_count": 3
        },
        {
            "cell_type": "markdown",
            "source": [
                "\r\n",
                "## Summary statistics"
            ],
            "metadata": {
                "azdata_cell_guid": "23a6bab8-95d0-4299-b0db-df450fc74202"
            },
            "attachments": {}
        },
        {
            "cell_type": "code",
            "source": [
                ""
            ],
            "metadata": {
                "azdata_cell_guid": "07743bf8-4ecd-45c4-b72a-b049fabf8717",
                "language": "python",
                "tags": []
            },
            "outputs": [],
            "execution_count": 5
        },
        {
            "cell_type": "code",
            "source": [
                ""
            ],
            "metadata": {
                "scrolled": true,
                "azdata_cell_guid": "9b177afc-fd94-4b9d-a393-8c4e6ee1497b",
                "language": "python"
            },
            "outputs": [],
            "execution_count": null
        },
        {
            "cell_type": "code",
            "source": [
                ""
            ],
            "metadata": {
                "azdata_cell_guid": "908d4f78-53dd-445f-8d64-4c49cdf92045",
                "language": "python",
                "tags": []
            },
            "outputs": [],
            "execution_count": null
        },
        {
            "cell_type": "code",
            "source": [
                ""
            ],
            "metadata": {
                "azdata_cell_guid": "cd214abb-daa2-41fc-b7a4-328220871ab0",
                "language": "python",
                "tags": []
            },
            "outputs": [],
            "execution_count": null
        },
        {
            "cell_type": "markdown",
            "source": [
                "1. **Do employees who live more than 20 miles away `DistanceFromHome` have a higher tendency to leave the company `Attrition`?**"
            ],
            "metadata": {
                "azdata_cell_guid": "9b81874e-5558-42fe-a072-4adc5e3309f1"
            },
            "attachments": {}
        },
        {
            "cell_type": "code",
            "source": [
                ""
            ],
            "metadata": {
                "azdata_cell_guid": "697c93cf-d889-46bd-8697-b509c39a0fcf",
                "language": "python"
            },
            "outputs": [],
            "execution_count": null
        },
        {
            "cell_type": "markdown",
            "source": [
                "**No**"
            ],
            "metadata": {
                "azdata_cell_guid": "2b7b22b3-a4ac-4bf7-86af-d659086a55b3"
            },
            "attachments": {}
        },
        {
            "cell_type": "markdown",
            "source": [
                "2. **Are employees who have a higher level of satisfaction with the work environment `EnvironmentSatisfactionLevel` more likely to stay at the company  `Attrition`?**"
            ],
            "metadata": {
                "azdata_cell_guid": "ec7391f1-c7a6-458d-b3cc-65a7f211095b"
            },
            "attachments": {}
        },
        {
            "cell_type": "code",
            "source": [
                ""
            ],
            "metadata": {
                "azdata_cell_guid": "e6c95da7-3c9a-48c4-b7bd-ad1d8792fc51",
                "language": "python",
                "tags": []
            },
            "outputs": [],
            "execution_count": null
        },
        {
            "cell_type": "markdown",
            "source": [
                "No"
            ],
            "metadata": {
                "azdata_cell_guid": "c4bc70e7-94cf-4a7e-8638-ba7ee6b56342"
            },
            "attachments": {}
        },
        {
            "cell_type": "markdown",
            "source": [
                "3. **Are employees who receive more training opportunities `TrainingOpportunitiesTaken` less likely to leave the company `Attrition`?**"
            ],
            "metadata": {
                "azdata_cell_guid": "a379dc72-5ec6-47cf-96f4-2b7efc870c89"
            },
            "attachments": {}
        },
        {
            "cell_type": "code",
            "source": [
                ""
            ],
            "metadata": {
                "azdata_cell_guid": "6fd4f029-e7d4-44dd-834b-7c0ff545c423",
                "language": "python",
                "tags": []
            },
            "outputs": [],
            "execution_count": null
        },
        {
            "cell_type": "markdown",
            "source": [
                "No"
            ],
            "metadata": {
                "language": "python",
                "azdata_cell_guid": "c321f8f8-476b-461b-8811-120c3e78aa75"
            },
            "attachments": {}
        },
        {
            "cell_type": "markdown",
            "source": [
                "4. **Does an increase in salary `Salary` positively impact employee retention `Attrition`?**"
            ],
            "metadata": {
                "azdata_cell_guid": "5de31274-002c-4368-8284-3ca1d309df94"
            },
            "attachments": {}
        },
        {
            "cell_type": "code",
            "source": [
                ""
            ],
            "metadata": {
                "azdata_cell_guid": "02a78e45-3aba-4008-8b65-593354c71e95",
                "language": "python"
            },
            "outputs": [],
            "execution_count": null
        },
        {
            "cell_type": "markdown",
            "source": [
                "Yes"
            ],
            "metadata": {
                "azdata_cell_guid": "e5bcc453-3c9c-4e77-84dc-f5cde4172a69"
            },
            "attachments": {}
        },
        {
            "cell_type": "markdown",
            "source": [
                "5. **Does working overtime `OverTime` negatively affect employee retention `Attrition`?**"
            ],
            "metadata": {
                "azdata_cell_guid": "4812c47d-02e5-4a36-879d-f432aa84f6ca"
            },
            "attachments": {}
        },
        {
            "cell_type": "code",
            "source": [
                ""
            ],
            "metadata": {
                "azdata_cell_guid": "fca27198-cbee-4ab2-99fc-9b7f6917b950",
                "language": "python"
            },
            "outputs": [],
            "execution_count": null
        },
        {
            "cell_type": "markdown",
            "source": [
                "Yes"
            ],
            "metadata": {
                "language": "python",
                "azdata_cell_guid": "384ca433-aa76-4490-a93b-3f279570afaf"
            },
            "attachments": {}
        },
        {
            "cell_type": "markdown",
            "source": [
                "6. **Is there a correlation between an employee’s gender `Gender` and retention rate `Attrition`?**"
            ],
            "metadata": {
                "azdata_cell_guid": "86ee3fd8-5c0e-4035-8f3a-cd3032706e93"
            },
            "attachments": {}
        },
        {
            "cell_type": "code",
            "source": [
                ""
            ],
            "metadata": {
                "azdata_cell_guid": "3b1f810d-b11a-48fd-9dc3-b30314311033",
                "language": "python"
            },
            "outputs": [],
            "execution_count": null
        },
        {
            "cell_type": "markdown",
            "source": [
                "Yes"
            ],
            "metadata": {
                "language": "python",
                "azdata_cell_guid": "3d0dffaa-57e2-4109-8286-5bc643bd3f0b"
            },
            "attachments": {}
        },
        {
            "cell_type": "markdown",
            "source": [
                "7. **Are employees who frequently travel for business `BusinessTravel` more likely to leave the company `Attrition` compared to others?**"
            ],
            "metadata": {
                "azdata_cell_guid": "bb72d489-3a52-491a-ad69-4b72a07ef6e2"
            },
            "attachments": {}
        },
        {
            "cell_type": "code",
            "source": [
                ""
            ],
            "metadata": {
                "language": "python",
                "azdata_cell_guid": "f4bd6216-852d-4e49-b9cd-465815fa0b0d"
            },
            "outputs": [],
            "execution_count": null
        },
        {
            "cell_type": "markdown",
            "source": [
                "Yes"
            ],
            "metadata": {
                "azdata_cell_guid": "ba5bf2fe-97e4-43ba-af80-65b5b8af8db0"
            },
            "attachments": {}
        },
        {
            "cell_type": "markdown",
            "source": [
                "__________________________"
            ],
            "metadata": {
                "azdata_cell_guid": "f04559b5-033b-4009-ae39-7f1e401ae72c"
            }
        },
        {
            "cell_type": "markdown",
            "source": [
                "### Results\n",
                "\n",
                "1. The `Distance From Home` exceeding 20 miles does not have a significant impact on employee turnover.\n",
                "   \n",
                "2. Higher `Job Satisfaction` does not show a clear influence on employees' decision to remain with the company.\n",
                "\n",
                "3. Providing additional `Training Opportunities` does not significantly affect employee retention.\n",
                "\n",
                "4. An increase in `Salary` positively impacts employee retention, with higher salaries leading to a greater likelihood of employees staying.\n",
                "\n",
                "5. `OverTime` negatively affects employee retention, contributing to a higher likelihood of turnover.\n",
                "\n",
                "6. There is a notable relationship between `Gender` and retention rates. Female employees are less likely to leave the company compared to their male counterparts.\n",
                "\n",
                "7. Employees who frequently travel for `Business Travel` are more likely to leave the company compared to those who travel less frequently.\n",
                "\n",
                "\n",
                "### Summary\n",
                "\n",
                "The analysis indicates that certain factors, such as `Salary` increases and `Gender`, significantly influence employee retention, with higher salaries leading to longer tenures and female employees being less likely to leave the company. However, other factors, including `Job Satisfaction`, `Distance From Home`, and `Training Opportunities`, do not show a clear or strong impact on retention. Additionally, `OverTime` and frequent `Business Travel` are associated with higher turnover rates.\n",
                "\n",
                "While these findings provide useful insights, further in-depth analysis and verification are needed to understand better the complex dynamics between these variables and employee retention."
            ],
            "metadata": {
                "azdata_cell_guid": "7256265f-33ab-4a3d-b69a-6094a65201b9"
            },
            "attachments": {}
        },
        {
            "cell_type": "markdown",
            "source": [
                "# END"
            ],
            "metadata": {
                "azdata_cell_guid": "f223fbea-4fdd-44a9-9b50-a6fb5c35b668"
            }
        }
    ]
}