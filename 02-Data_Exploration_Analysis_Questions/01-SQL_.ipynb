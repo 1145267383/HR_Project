{
    "metadata": {
        "kernelspec": {
            "name": "python3",
            "display_name": "Python 3",
            "language": "python"
        },
        "language_info": {
            "name": "python",
            "version": "3.11.7",
            "mimetype": "text/x-python",
            "codemirror_mode": {
                "name": "ipython",
                "version": 3
            },
            "pygments_lexer": "ipython3",
            "nbconvert_exporter": "python",
            "file_extension": ".py"
        }
    },
    "nbformat_minor": 2,
    "nbformat": 4,
    "cells": [
        {
            "cell_type": "code",
            "source": [
                "# pip install seaborn\r\n",
                "\r\n",
                "import numpy as np\r\n",
                "import pandas as pd\r\n",
                "import plotly.express as px\r\n",
                "import matplotlib.pyplot as plt\r\n",
                "import seaborn as sns\r\n",
                "import pyodbc\r\n",
                "\r\n",
                "pd.options.display.max_rows = None\r\n",
                "\r\n",
                "pd.options.display.max_columns = None\r\n",
                "sns.set()"
            ],
            "metadata": {
                "azdata_cell_guid": "c6a4114d-8aa6-4495-a18e-0100b06c1ee1",
                "language": "python",
                "tags": []
            },
            "outputs": [],
            "execution_count": 1
        },
        {
            "cell_type": "code",
            "source": [
                "query = \"\"\" SELECT * FROM Employees E LEFT JOIN PerformanceReviews PR ON E.EmployeeID = PR.EmployeeID\"\"\"\r\n",
                "\r\n",
                ""
            ],
            "metadata": {
                "language": "python",
                "azdata_cell_guid": "24640029-a944-4619-8347-04ae158fa423"
            },
            "outputs": [],
            "execution_count": null
        },
        {
            "cell_type": "code",
            "source": [
                "import pyodbc\r\n",
                "import pandas as pd\r\n",
                "\r\n",
                "# إعداد الاتصال بقاعدة البيانات المحلية\r\n",
                "conn = pyodbc.connect(\r\n",
                "    'DRIVER={ODBC Driver 17 for SQL Server};'\r\n",
                "    'SERVER=localhost;'\r\n",
                "    'DATABASE=HR_system;'\r\n",
                "    'Trusted_Connection=yes;'\r\n",
                ")\r\n",
                "\r\n",
                "\r\n",
                "# استخدام pandas لقراءة البيانات في DataFrame\r\n",
                "df = pd.read_sql(query, conn)\r\n",
                "\r\n",
                "# إغلاق الاتصال بقاعدة البيانات بعد الانتهاء\r\n",
                "conn.close()\r\n",
                ""
            ],
            "metadata": {
                "language": "python",
                "azdata_cell_guid": "d19908b1-bd3b-4e62-b981-c701a958c24f"
            },
            "outputs": [
                {
                    "output_type": "stream",
                    "name": "stderr",
                    "text": "<ipython-input-8-8565ee15c1e4>:14: UserWarning: pandas only supports SQLAlchemy connectable (engine/connection) or database string URI or sqlite3 DBAPI2 connection. Other DBAPI2 objects are not tested. Please consider using SQLAlchemy.\n  df = pd.read_sql(query, conn)\n"
                }
            ],
            "execution_count": null
        },
        {
            "cell_type": "code",
            "source": [
                "df.head()\r\n",
                ""
            ],
            "metadata": {
                "language": "python",
                "azdata_cell_guid": "3f0ea093-2c91-4723-8e23-df783a3239e6"
            },
            "outputs": [],
            "execution_count": null
        }
    ]
}