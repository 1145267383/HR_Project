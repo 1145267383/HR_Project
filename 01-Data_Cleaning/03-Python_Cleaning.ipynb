{
    "metadata": {
        "kernelspec": {
            "name": "python3",
            "display_name": "Python 3",
            "language": "python"
        },
        "language_info": {
            "name": "python",
            "version": "3.11.7",
            "mimetype": "text/x-python",
            "codemirror_mode": {
                "name": "ipython",
                "version": 3
            },
            "pygments_lexer": "ipython3",
            "nbconvert_exporter": "python",
            "file_extension": ".py"
        }
    },
    "nbformat_minor": 2,
    "nbformat": 4,
    "cells": [
        {
            "cell_type": "markdown",
            "source": [
                "# Project: Human Resources Dataset Analysis\n",
                "\n",
                "## Week 1: Cleaning, and Preprocessing"
            ],
            "metadata": {
                "azdata_cell_guid": "03683ed5-6374-4424-80d2-4db3f3fd702d"
            }
        },
        {
            "cell_type": "code",
            "source": [
                "# import Libraries\n",
                "import numpy as np\n",
                "import pandas as pd\n",
                "import plotly.express as px\n",
                "import matplotlib.pyplot as plt\n",
                "import seaborn as sns\n",
                "import pyodbc\n",
                "\n",
                "pd.options.display.max_rows = None\n",
                "\n",
                "pd.options.display.max_columns = None\n",
                "sns.set()\n"
            ],
            "metadata": {
                "azdata_cell_guid": "c6a4114d-8aa6-4495-a18e-0100b06c1ee1",
                "language": "python",
                "tags": []
            },
            "outputs": [],
            "execution_count": 1
        },
        {
            "cell_type": "code",
            "source": [
                "def read_sql_query(username, password, query):\n",
                "    \n",
                "    server = 'azuerserver.database.windows.net'\n",
                "    database = 'HR_System' \n",
                "    \n",
                "    # SQL Authentication\n",
                "    connection_string = (\n",
                "        f\"Driver={{ODBC Driver 17 for SQL Server}};\" \n",
                "        f\"Server=tcp:{server},1433;\" \n",
                "        f\"Database={database};\"\n",
                "        f\"UID={username};\" \n",
                "        f\"PWD={password};\" \n",
                "        f\"Encrypt=yes;\"  \n",
                "        f\"TrustServerCertificate=no;\"  \n",
                "        f\"Connection Timeout=30;\"  \n",
                "    )\n",
                "\n",
                "    # Creating connection\n",
                "    try:\n",
                "        connection = pyodbc.connect(connection_string) \n",
                "        print(\"Connection successful!\")\n",
                "\n",
                "        columns = [column[0] for column in cursor.description] \n",
                "        df = pd.DataFrame.from_records(rows, columns=columns)  # DataFrame\n",
                "\n",
                "        return(df)\n",
                "\n",
                "    except Exception as e:\n",
                "        print(f\"Error: {e}\")\n",
                "    finally:\n",
                "        # close connection\n",
                "        if 'connection' in locals():  \n",
                "            connection.close() \n"
            ],
            "metadata": {
                "scrolled": true,
                "azdata_cell_guid": "4cf0de89-3971-49ea-b03a-b774c6b63e06",
                "language": "python"
            },
            "outputs": [],
            "execution_count": 3
        },
        {
            "cell_type": "markdown",
            "source": [
                "### Employees:"
            ],
            "metadata": {
                "azdata_cell_guid": "c2e2f6e0-c35e-4524-93d5-e9f0826a8e9d"
            }
        },
        {
            "cell_type": "code",
            "source": [
                "pth= \"../00-Dataset_Data_Model/\"\n",
                "\n",
                "# reading Dataset of Employees\n",
                "#employee = read_sql_query(\"\", \"\", \"SELECT * FROM Employees;\")\n",
                "\n",
                "employee = pd.read_csv(f\"{pth}01-Employee.csv\")\n",
                "employee.head()"
            ],
            "metadata": {
                "azdata_cell_guid": "24640029-a944-4619-8347-04ae158fa423",
                "language": "python"
            },
            "outputs": [
                {
                    "data": {
                        "text/plain": "  EmployeeID   FirstName LastName      Gender  Age BusinessTravel  \\\n0  3012-1A41    Leonelle    Simco      Female   30    Some Travel   \n1  CBCB-9C9D     Leonerd    Aland        Male   38    Some Travel   \n2  95D7-1CE9       Ahmed    Sykes        Male   43    Some Travel   \n3  47A0-559B  Ermentrude   Berrie  Non-Binary   39    Some Travel   \n4  42CC-040A       Stace   Savege      Female   29    Some Travel   \n\n        Department  DistanceFromHome (KM) State                Ethnicity  \\\n0            Sales                     27    IL                    White   \n1            Sales                     23    CA                    White   \n2  Human Resources                     29    CA  Asian or Asian American   \n3       Technology                     12    IL                    White   \n4  Human Resources                     29    CA                    White   \n\n   Education    EducationField              JobRole MaritalStatus  Salary  \\\n0          5         Marketing      Sales Executive      Divorced  102059   \n1          4         Marketing      Sales Executive        Single  157718   \n2          4        Marketing   HR Business Partner       Married  309964   \n3          3  Computer Science  Engineering Manager       Married  293132   \n4          2  Technical Degree            Recruiter        Single   49606   \n\n   StockOptionLevel OverTime  HireDate Attrition  YearsAtCompany  \\\n0                 1       No  1/3/2012        No              10   \n1                 0      Yes  1/4/2012        No              10   \n2                 1       No  1/4/2012        No              10   \n3                 0       No  1/5/2012        No              10   \n4                 0       No  1/5/2012       Yes               6   \n\n   YearsInMostRecentRole  YearsSinceLastPromotion  YearsWithCurrManager  \n0                      4                        9                     7  \n1                      6                       10                     0  \n2                      6                       10                     8  \n3                     10                       10                     0  \n4                      1                        1                     6  ",
                        "text/html": "<div>\n<style scoped>\n    .dataframe tbody tr th:only-of-type {\n        vertical-align: middle;\n    }\n\n    .dataframe tbody tr th {\n        vertical-align: top;\n    }\n\n    .dataframe thead th {\n        text-align: right;\n    }\n</style>\n<table border=\"1\" class=\"dataframe\">\n  <thead>\n    <tr style=\"text-align: right;\">\n      <th></th>\n      <th>EmployeeID</th>\n      <th>FirstName</th>\n      <th>LastName</th>\n      <th>Gender</th>\n      <th>Age</th>\n      <th>BusinessTravel</th>\n      <th>Department</th>\n      <th>DistanceFromHome (KM)</th>\n      <th>State</th>\n      <th>Ethnicity</th>\n      <th>Education</th>\n      <th>EducationField</th>\n      <th>JobRole</th>\n      <th>MaritalStatus</th>\n      <th>Salary</th>\n      <th>StockOptionLevel</th>\n      <th>OverTime</th>\n      <th>HireDate</th>\n      <th>Attrition</th>\n      <th>YearsAtCompany</th>\n      <th>YearsInMostRecentRole</th>\n      <th>YearsSinceLastPromotion</th>\n      <th>YearsWithCurrManager</th>\n    </tr>\n  </thead>\n  <tbody>\n    <tr>\n      <th>0</th>\n      <td>3012-1A41</td>\n      <td>Leonelle</td>\n      <td>Simco</td>\n      <td>Female</td>\n      <td>30</td>\n      <td>Some Travel</td>\n      <td>Sales</td>\n      <td>27</td>\n      <td>IL</td>\n      <td>White</td>\n      <td>5</td>\n      <td>Marketing</td>\n      <td>Sales Executive</td>\n      <td>Divorced</td>\n      <td>102059</td>\n      <td>1</td>\n      <td>No</td>\n      <td>1/3/2012</td>\n      <td>No</td>\n      <td>10</td>\n      <td>4</td>\n      <td>9</td>\n      <td>7</td>\n    </tr>\n    <tr>\n      <th>1</th>\n      <td>CBCB-9C9D</td>\n      <td>Leonerd</td>\n      <td>Aland</td>\n      <td>Male</td>\n      <td>38</td>\n      <td>Some Travel</td>\n      <td>Sales</td>\n      <td>23</td>\n      <td>CA</td>\n      <td>White</td>\n      <td>4</td>\n      <td>Marketing</td>\n      <td>Sales Executive</td>\n      <td>Single</td>\n      <td>157718</td>\n      <td>0</td>\n      <td>Yes</td>\n      <td>1/4/2012</td>\n      <td>No</td>\n      <td>10</td>\n      <td>6</td>\n      <td>10</td>\n      <td>0</td>\n    </tr>\n    <tr>\n      <th>2</th>\n      <td>95D7-1CE9</td>\n      <td>Ahmed</td>\n      <td>Sykes</td>\n      <td>Male</td>\n      <td>43</td>\n      <td>Some Travel</td>\n      <td>Human Resources</td>\n      <td>29</td>\n      <td>CA</td>\n      <td>Asian or Asian American</td>\n      <td>4</td>\n      <td>Marketing</td>\n      <td>HR Business Partner</td>\n      <td>Married</td>\n      <td>309964</td>\n      <td>1</td>\n      <td>No</td>\n      <td>1/4/2012</td>\n      <td>No</td>\n      <td>10</td>\n      <td>6</td>\n      <td>10</td>\n      <td>8</td>\n    </tr>\n    <tr>\n      <th>3</th>\n      <td>47A0-559B</td>\n      <td>Ermentrude</td>\n      <td>Berrie</td>\n      <td>Non-Binary</td>\n      <td>39</td>\n      <td>Some Travel</td>\n      <td>Technology</td>\n      <td>12</td>\n      <td>IL</td>\n      <td>White</td>\n      <td>3</td>\n      <td>Computer Science</td>\n      <td>Engineering Manager</td>\n      <td>Married</td>\n      <td>293132</td>\n      <td>0</td>\n      <td>No</td>\n      <td>1/5/2012</td>\n      <td>No</td>\n      <td>10</td>\n      <td>10</td>\n      <td>10</td>\n      <td>0</td>\n    </tr>\n    <tr>\n      <th>4</th>\n      <td>42CC-040A</td>\n      <td>Stace</td>\n      <td>Savege</td>\n      <td>Female</td>\n      <td>29</td>\n      <td>Some Travel</td>\n      <td>Human Resources</td>\n      <td>29</td>\n      <td>CA</td>\n      <td>White</td>\n      <td>2</td>\n      <td>Technical Degree</td>\n      <td>Recruiter</td>\n      <td>Single</td>\n      <td>49606</td>\n      <td>0</td>\n      <td>No</td>\n      <td>1/5/2012</td>\n      <td>Yes</td>\n      <td>6</td>\n      <td>1</td>\n      <td>1</td>\n      <td>6</td>\n    </tr>\n  </tbody>\n</table>\n</div>"
                    },
                    "metadata": {},
                    "execution_count": 5,
                    "output_type": "execute_result"
                }
            ],
            "execution_count": 5
        },
        {
            "cell_type": "code",
            "source": [
                "employee.info()"
            ],
            "metadata": {
                "azdata_cell_guid": "3f0ea093-2c91-4723-8e23-df783a3239e6",
                "language": "python",
                "scrolled": false
            },
            "outputs": [
                {
                    "name": "stdout",
                    "text": "<class 'pandas.core.frame.DataFrame'>\nRangeIndex: 1470 entries, 0 to 1469\nData columns (total 23 columns):\n #   Column                   Non-Null Count  Dtype \n---  ------                   --------------  ----- \n 0   EmployeeID               1470 non-null   object\n 1   FirstName                1470 non-null   object\n 2   LastName                 1470 non-null   object\n 3   Gender                   1470 non-null   object\n 4   Age                      1470 non-null   int64 \n 5   BusinessTravel           1470 non-null   object\n 6   Department               1470 non-null   object\n 7   DistanceFromHome (KM)    1470 non-null   int64 \n 8   State                    1470 non-null   object\n 9   Ethnicity                1470 non-null   object\n 10  Education                1470 non-null   int64 \n 11  EducationField           1470 non-null   object\n 12  JobRole                  1470 non-null   object\n 13  MaritalStatus            1470 non-null   object\n 14  Salary                   1470 non-null   int64 \n 15  StockOptionLevel         1470 non-null   int64 \n 16  OverTime                 1470 non-null   object\n 17  HireDate                 1470 non-null   object\n 18  Attrition                1470 non-null   object\n 19  YearsAtCompany           1470 non-null   int64 \n 20  YearsInMostRecentRole    1470 non-null   int64 \n 21  YearsSinceLastPromotion  1470 non-null   int64 \n 22  YearsWithCurrManager     1470 non-null   int64 \ndtypes: int64(9), object(14)\nmemory usage: 264.3+ KB\n",
                    "output_type": "stream"
                }
            ],
            "execution_count": 6
        },
        {
            "cell_type": "code",
            "source": [
                "employee.describe()"
            ],
            "metadata": {
                "scrolled": true,
                "azdata_cell_guid": "9b177afc-fd94-4b9d-a393-8c4e6ee1497b",
                "language": "python"
            },
            "outputs": [
                {
                    "data": {
                        "text/plain": "               Age  DistanceFromHome (KM)    Education         Salary  \\\ncount  1470.000000            1470.000000  1470.000000    1470.000000   \nmean     28.989796              22.502721     2.912925  112956.497959   \nstd       7.993055              12.811124     1.024165  103342.889222   \nmin      18.000000               1.000000     1.000000   20387.000000   \n25%      23.000000              12.000000     2.000000   43580.500000   \n50%      26.000000              22.000000     3.000000   71199.500000   \n75%      34.000000              33.000000     4.000000  142055.750000   \nmax      51.000000              45.000000     5.000000  547204.000000   \n\n       StockOptionLevel  YearsAtCompany  YearsInMostRecentRole  \\\ncount       1470.000000     1470.000000            1470.000000   \nmean           0.793878        4.562585               2.293197   \nstd            0.852077        3.288048               2.539093   \nmin            0.000000        0.000000               0.000000   \n25%            0.000000        2.000000               0.000000   \n50%            1.000000        4.000000               1.000000   \n75%            1.000000        7.000000               4.000000   \nmax            3.000000       10.000000              10.000000   \n\n       YearsSinceLastPromotion  YearsWithCurrManager  \ncount              1470.000000           1470.000000  \nmean                  3.440816              2.239456  \nstd                   2.945194              2.505774  \nmin                   0.000000              0.000000  \n25%                   1.000000              0.000000  \n50%                   3.000000              1.000000  \n75%                   6.000000              4.000000  \nmax                  10.000000             10.000000  ",
                        "text/html": "<div>\n<style scoped>\n    .dataframe tbody tr th:only-of-type {\n        vertical-align: middle;\n    }\n\n    .dataframe tbody tr th {\n        vertical-align: top;\n    }\n\n    .dataframe thead th {\n        text-align: right;\n    }\n</style>\n<table border=\"1\" class=\"dataframe\">\n  <thead>\n    <tr style=\"text-align: right;\">\n      <th></th>\n      <th>Age</th>\n      <th>DistanceFromHome (KM)</th>\n      <th>Education</th>\n      <th>Salary</th>\n      <th>StockOptionLevel</th>\n      <th>YearsAtCompany</th>\n      <th>YearsInMostRecentRole</th>\n      <th>YearsSinceLastPromotion</th>\n      <th>YearsWithCurrManager</th>\n    </tr>\n  </thead>\n  <tbody>\n    <tr>\n      <th>count</th>\n      <td>1470.000000</td>\n      <td>1470.000000</td>\n      <td>1470.000000</td>\n      <td>1470.000000</td>\n      <td>1470.000000</td>\n      <td>1470.000000</td>\n      <td>1470.000000</td>\n      <td>1470.000000</td>\n      <td>1470.000000</td>\n    </tr>\n    <tr>\n      <th>mean</th>\n      <td>28.989796</td>\n      <td>22.502721</td>\n      <td>2.912925</td>\n      <td>112956.497959</td>\n      <td>0.793878</td>\n      <td>4.562585</td>\n      <td>2.293197</td>\n      <td>3.440816</td>\n      <td>2.239456</td>\n    </tr>\n    <tr>\n      <th>std</th>\n      <td>7.993055</td>\n      <td>12.811124</td>\n      <td>1.024165</td>\n      <td>103342.889222</td>\n      <td>0.852077</td>\n      <td>3.288048</td>\n      <td>2.539093</td>\n      <td>2.945194</td>\n      <td>2.505774</td>\n    </tr>\n    <tr>\n      <th>min</th>\n      <td>18.000000</td>\n      <td>1.000000</td>\n      <td>1.000000</td>\n      <td>20387.000000</td>\n      <td>0.000000</td>\n      <td>0.000000</td>\n      <td>0.000000</td>\n      <td>0.000000</td>\n      <td>0.000000</td>\n    </tr>\n    <tr>\n      <th>25%</th>\n      <td>23.000000</td>\n      <td>12.000000</td>\n      <td>2.000000</td>\n      <td>43580.500000</td>\n      <td>0.000000</td>\n      <td>2.000000</td>\n      <td>0.000000</td>\n      <td>1.000000</td>\n      <td>0.000000</td>\n    </tr>\n    <tr>\n      <th>50%</th>\n      <td>26.000000</td>\n      <td>22.000000</td>\n      <td>3.000000</td>\n      <td>71199.500000</td>\n      <td>1.000000</td>\n      <td>4.000000</td>\n      <td>1.000000</td>\n      <td>3.000000</td>\n      <td>1.000000</td>\n    </tr>\n    <tr>\n      <th>75%</th>\n      <td>34.000000</td>\n      <td>33.000000</td>\n      <td>4.000000</td>\n      <td>142055.750000</td>\n      <td>1.000000</td>\n      <td>7.000000</td>\n      <td>4.000000</td>\n      <td>6.000000</td>\n      <td>4.000000</td>\n    </tr>\n    <tr>\n      <th>max</th>\n      <td>51.000000</td>\n      <td>45.000000</td>\n      <td>5.000000</td>\n      <td>547204.000000</td>\n      <td>3.000000</td>\n      <td>10.000000</td>\n      <td>10.000000</td>\n      <td>10.000000</td>\n      <td>10.000000</td>\n    </tr>\n  </tbody>\n</table>\n</div>"
                    },
                    "metadata": {},
                    "execution_count": 7,
                    "output_type": "execute_result"
                }
            ],
            "execution_count": 7
        },
        {
            "cell_type": "markdown",
            "source": [
                "____________________________"
            ],
            "metadata": {
                "azdata_cell_guid": "5e111d45-1919-49db-80aa-fbb6346b3ceb"
            }
        },
        {
            "cell_type": "code",
            "source": [
                "# Reading Dataset of EducationLevel.\n",
                "Educationlevel = pd.read_csv(f\"{pth}03-EducationLevel.csv\")\n",
                "Educationlevel\n"
            ],
            "metadata": {
                "scrolled": true,
                "azdata_cell_guid": "1429661d-fe19-43d4-9631-1559841865f4",
                "language": "python"
            },
            "outputs": [
                {
                    "data": {
                        "text/plain": "   EducationLevelID            EducationLevel\n0                 1  No Formal Qualifications\n1                 2              High School \n2                 3                Bachelors \n3                 4                  Masters \n4                 5                 Doctorate",
                        "text/html": "<div>\n<style scoped>\n    .dataframe tbody tr th:only-of-type {\n        vertical-align: middle;\n    }\n\n    .dataframe tbody tr th {\n        vertical-align: top;\n    }\n\n    .dataframe thead th {\n        text-align: right;\n    }\n</style>\n<table border=\"1\" class=\"dataframe\">\n  <thead>\n    <tr style=\"text-align: right;\">\n      <th></th>\n      <th>EducationLevelID</th>\n      <th>EducationLevel</th>\n    </tr>\n  </thead>\n  <tbody>\n    <tr>\n      <th>0</th>\n      <td>1</td>\n      <td>No Formal Qualifications</td>\n    </tr>\n    <tr>\n      <th>1</th>\n      <td>2</td>\n      <td>High School</td>\n    </tr>\n    <tr>\n      <th>2</th>\n      <td>3</td>\n      <td>Bachelors</td>\n    </tr>\n    <tr>\n      <th>3</th>\n      <td>4</td>\n      <td>Masters</td>\n    </tr>\n    <tr>\n      <th>4</th>\n      <td>5</td>\n      <td>Doctorate</td>\n    </tr>\n  </tbody>\n</table>\n</div>"
                    },
                    "metadata": {},
                    "execution_count": 8,
                    "output_type": "execute_result"
                }
            ],
            "execution_count": 8
        },
        {
            "cell_type": "code",
            "source": [
                "Educationlevel.info()"
            ],
            "metadata": {
                "azdata_cell_guid": "d4efd85b-d324-4192-90f0-81a0025c2fa7",
                "language": "python"
            },
            "outputs": [
                {
                    "name": "stdout",
                    "text": "<class 'pandas.core.frame.DataFrame'>\nRangeIndex: 5 entries, 0 to 4\nData columns (total 2 columns):\n #   Column            Non-Null Count  Dtype \n---  ------            --------------  ----- \n 0   EducationLevelID  5 non-null      int64 \n 1   EducationLevel    5 non-null      object\ndtypes: int64(1), object(1)\nmemory usage: 212.0+ bytes\n",
                    "output_type": "stream"
                }
            ],
            "execution_count": 9
        },
        {
            "cell_type": "markdown",
            "source": [
                "____________________________"
            ],
            "metadata": {
                "azdata_cell_guid": "84db67ca-4887-4e2f-bb2c-9f76b66f5849"
            }
        },
        {
            "cell_type": "markdown",
            "source": [
                "### PerformanceRating:"
            ],
            "metadata": {
                "azdata_cell_guid": "23498fdf-3b48-4f2d-8878-cac3b5558994"
            }
        },
        {
            "cell_type": "code",
            "source": [
                "# Reading Dataset of PerformanceRating.\n",
                "PerformanceRating = pd.read_csv(f\"{pth}02-PerformanceRating.csv\")\n",
                "PerformanceRating.head()"
            ],
            "metadata": {
                "scrolled": true,
                "azdata_cell_guid": "77771ee4-787a-4e39-8f70-c608c0c2166e",
                "language": "python"
            },
            "outputs": [
                {
                    "data": {
                        "text/plain": "  PerformanceID EmployeeID ReviewDate  EnvironmentSatisfaction  \\\n0          PR01  79F7-78EC   1/2/2013                        5   \n1          PR02  B61E-0F26   1/3/2013                        5   \n2          PR03  F5E3-48BB   1/3/2013                        3   \n3          PR04  0678-748A   1/4/2013                        5   \n4          PR05  541F-3E19   1/4/2013                        5   \n\n   JobSatisfaction  RelationshipSatisfaction  TrainingOpportunitiesWithinYear  \\\n0                4                         5                                1   \n1                4                         4                                1   \n2                4                         5                                3   \n3                3                         2                                2   \n4                2                         3                                1   \n\n   TrainingOpportunitiesTaken  WorkLifeBalance  SelfRating  ManagerRating  \n0                           0                4           4              4  \n1                           3                4           4              3  \n2                           2                3           5              4  \n3                           0                2           3              2  \n4                           0                4           4              3  ",
                        "text/html": "<div>\n<style scoped>\n    .dataframe tbody tr th:only-of-type {\n        vertical-align: middle;\n    }\n\n    .dataframe tbody tr th {\n        vertical-align: top;\n    }\n\n    .dataframe thead th {\n        text-align: right;\n    }\n</style>\n<table border=\"1\" class=\"dataframe\">\n  <thead>\n    <tr style=\"text-align: right;\">\n      <th></th>\n      <th>PerformanceID</th>\n      <th>EmployeeID</th>\n      <th>ReviewDate</th>\n      <th>EnvironmentSatisfaction</th>\n      <th>JobSatisfaction</th>\n      <th>RelationshipSatisfaction</th>\n      <th>TrainingOpportunitiesWithinYear</th>\n      <th>TrainingOpportunitiesTaken</th>\n      <th>WorkLifeBalance</th>\n      <th>SelfRating</th>\n      <th>ManagerRating</th>\n    </tr>\n  </thead>\n  <tbody>\n    <tr>\n      <th>0</th>\n      <td>PR01</td>\n      <td>79F7-78EC</td>\n      <td>1/2/2013</td>\n      <td>5</td>\n      <td>4</td>\n      <td>5</td>\n      <td>1</td>\n      <td>0</td>\n      <td>4</td>\n      <td>4</td>\n      <td>4</td>\n    </tr>\n    <tr>\n      <th>1</th>\n      <td>PR02</td>\n      <td>B61E-0F26</td>\n      <td>1/3/2013</td>\n      <td>5</td>\n      <td>4</td>\n      <td>4</td>\n      <td>1</td>\n      <td>3</td>\n      <td>4</td>\n      <td>4</td>\n      <td>3</td>\n    </tr>\n    <tr>\n      <th>2</th>\n      <td>PR03</td>\n      <td>F5E3-48BB</td>\n      <td>1/3/2013</td>\n      <td>3</td>\n      <td>4</td>\n      <td>5</td>\n      <td>3</td>\n      <td>2</td>\n      <td>3</td>\n      <td>5</td>\n      <td>4</td>\n    </tr>\n    <tr>\n      <th>3</th>\n      <td>PR04</td>\n      <td>0678-748A</td>\n      <td>1/4/2013</td>\n      <td>5</td>\n      <td>3</td>\n      <td>2</td>\n      <td>2</td>\n      <td>0</td>\n      <td>2</td>\n      <td>3</td>\n      <td>2</td>\n    </tr>\n    <tr>\n      <th>4</th>\n      <td>PR05</td>\n      <td>541F-3E19</td>\n      <td>1/4/2013</td>\n      <td>5</td>\n      <td>2</td>\n      <td>3</td>\n      <td>1</td>\n      <td>0</td>\n      <td>4</td>\n      <td>4</td>\n      <td>3</td>\n    </tr>\n  </tbody>\n</table>\n</div>"
                    },
                    "metadata": {},
                    "execution_count": 10,
                    "output_type": "execute_result"
                }
            ],
            "execution_count": 10
        },
        {
            "cell_type": "code",
            "source": [
                "PerformanceRating.info()"
            ],
            "metadata": {
                "scrolled": true,
                "azdata_cell_guid": "d25b72c6-65c2-4ed8-a57c-a0d3c5640e7b",
                "language": "python"
            },
            "outputs": [
                {
                    "name": "stdout",
                    "text": "<class 'pandas.core.frame.DataFrame'>\nRangeIndex: 6709 entries, 0 to 6708\nData columns (total 11 columns):\n #   Column                           Non-Null Count  Dtype \n---  ------                           --------------  ----- \n 0   PerformanceID                    6709 non-null   object\n 1   EmployeeID                       6709 non-null   object\n 2   ReviewDate                       6709 non-null   object\n 3   EnvironmentSatisfaction          6709 non-null   int64 \n 4   JobSatisfaction                  6709 non-null   int64 \n 5   RelationshipSatisfaction         6709 non-null   int64 \n 6   TrainingOpportunitiesWithinYear  6709 non-null   int64 \n 7   TrainingOpportunitiesTaken       6709 non-null   int64 \n 8   WorkLifeBalance                  6709 non-null   int64 \n 9   SelfRating                       6709 non-null   int64 \n 10  ManagerRating                    6709 non-null   int64 \ndtypes: int64(8), object(3)\nmemory usage: 576.7+ KB\n",
                    "output_type": "stream"
                }
            ],
            "execution_count": 12
        },
        {
            "cell_type": "code",
            "source": [
                "PerformanceRating.describe()"
            ],
            "metadata": {
                "azdata_cell_guid": "def854ae-8da2-4fb2-b49a-b4b765921ecb",
                "language": "python"
            },
            "outputs": [
                {
                    "data": {
                        "text/plain": "       EnvironmentSatisfaction  JobSatisfaction  RelationshipSatisfaction  \\\ncount              6709.000000      6709.000000               6709.000000   \nmean                  3.872559         3.430616                  3.427336   \nstd                   0.940701         1.152565                  1.156753   \nmin                   1.000000         1.000000                  1.000000   \n25%                   3.000000         2.000000                  2.000000   \n50%                   4.000000         3.000000                  3.000000   \n75%                   5.000000         4.000000                  4.000000   \nmax                   5.000000         5.000000                  5.000000   \n\n       TrainingOpportunitiesWithinYear  TrainingOpportunitiesTaken  \\\ncount                      6709.000000                 6709.000000   \nmean                          2.012968                    1.017290   \nstd                           0.820310                    0.950316   \nmin                           1.000000                    0.000000   \n25%                           1.000000                    0.000000   \n50%                           2.000000                    1.000000   \n75%                           3.000000                    2.000000   \nmax                           3.000000                    3.000000   \n\n       WorkLifeBalance   SelfRating  ManagerRating  \ncount      6709.000000  6709.000000    6709.000000  \nmean          3.414667     3.984051       3.473394  \nstd           1.143961     0.816432       0.961738  \nmin           1.000000     3.000000       2.000000  \n25%           2.000000     3.000000       3.000000  \n50%           3.000000     4.000000       3.000000  \n75%           4.000000     5.000000       4.000000  \nmax           5.000000     5.000000       5.000000  ",
                        "text/html": "<div>\n<style scoped>\n    .dataframe tbody tr th:only-of-type {\n        vertical-align: middle;\n    }\n\n    .dataframe tbody tr th {\n        vertical-align: top;\n    }\n\n    .dataframe thead th {\n        text-align: right;\n    }\n</style>\n<table border=\"1\" class=\"dataframe\">\n  <thead>\n    <tr style=\"text-align: right;\">\n      <th></th>\n      <th>EnvironmentSatisfaction</th>\n      <th>JobSatisfaction</th>\n      <th>RelationshipSatisfaction</th>\n      <th>TrainingOpportunitiesWithinYear</th>\n      <th>TrainingOpportunitiesTaken</th>\n      <th>WorkLifeBalance</th>\n      <th>SelfRating</th>\n      <th>ManagerRating</th>\n    </tr>\n  </thead>\n  <tbody>\n    <tr>\n      <th>count</th>\n      <td>6709.000000</td>\n      <td>6709.000000</td>\n      <td>6709.000000</td>\n      <td>6709.000000</td>\n      <td>6709.000000</td>\n      <td>6709.000000</td>\n      <td>6709.000000</td>\n      <td>6709.000000</td>\n    </tr>\n    <tr>\n      <th>mean</th>\n      <td>3.872559</td>\n      <td>3.430616</td>\n      <td>3.427336</td>\n      <td>2.012968</td>\n      <td>1.017290</td>\n      <td>3.414667</td>\n      <td>3.984051</td>\n      <td>3.473394</td>\n    </tr>\n    <tr>\n      <th>std</th>\n      <td>0.940701</td>\n      <td>1.152565</td>\n      <td>1.156753</td>\n      <td>0.820310</td>\n      <td>0.950316</td>\n      <td>1.143961</td>\n      <td>0.816432</td>\n      <td>0.961738</td>\n    </tr>\n    <tr>\n      <th>min</th>\n      <td>1.000000</td>\n      <td>1.000000</td>\n      <td>1.000000</td>\n      <td>1.000000</td>\n      <td>0.000000</td>\n      <td>1.000000</td>\n      <td>3.000000</td>\n      <td>2.000000</td>\n    </tr>\n    <tr>\n      <th>25%</th>\n      <td>3.000000</td>\n      <td>2.000000</td>\n      <td>2.000000</td>\n      <td>1.000000</td>\n      <td>0.000000</td>\n      <td>2.000000</td>\n      <td>3.000000</td>\n      <td>3.000000</td>\n    </tr>\n    <tr>\n      <th>50%</th>\n      <td>4.000000</td>\n      <td>3.000000</td>\n      <td>3.000000</td>\n      <td>2.000000</td>\n      <td>1.000000</td>\n      <td>3.000000</td>\n      <td>4.000000</td>\n      <td>3.000000</td>\n    </tr>\n    <tr>\n      <th>75%</th>\n      <td>5.000000</td>\n      <td>4.000000</td>\n      <td>4.000000</td>\n      <td>3.000000</td>\n      <td>2.000000</td>\n      <td>4.000000</td>\n      <td>5.000000</td>\n      <td>4.000000</td>\n    </tr>\n    <tr>\n      <th>max</th>\n      <td>5.000000</td>\n      <td>5.000000</td>\n      <td>5.000000</td>\n      <td>3.000000</td>\n      <td>3.000000</td>\n      <td>5.000000</td>\n      <td>5.000000</td>\n      <td>5.000000</td>\n    </tr>\n  </tbody>\n</table>\n</div>"
                    },
                    "metadata": {},
                    "execution_count": 13,
                    "output_type": "execute_result"
                }
            ],
            "execution_count": 13
        },
        {
            "cell_type": "markdown",
            "source": [
                "__________________________"
            ],
            "metadata": {
                "azdata_cell_guid": "79d28b0d-04f5-43ef-90a0-0c3cd842a66b"
            }
        },
        {
            "cell_type": "code",
            "source": [
                "# Reading Dataset of SatisfiedLevel.\n",
                "SatisfiedLevel = pd.read_csv(f\"{pth}04-SatisfiedLevel.csv\")\n",
                "SatisfiedLevel"
            ],
            "metadata": {
                "azdata_cell_guid": "c82e4805-a5d4-447f-b8f6-b42d78fa5e60",
                "language": "python"
            },
            "outputs": [
                {
                    "data": {
                        "text/plain": "   SatisfactionID  SatisfactionLevel\n0               1  Very Dissatisfied\n1               2       Dissatisfied\n2               3            Neutral\n3               4         Satisfied \n4               5     Very Satisfied",
                        "text/html": "<div>\n<style scoped>\n    .dataframe tbody tr th:only-of-type {\n        vertical-align: middle;\n    }\n\n    .dataframe tbody tr th {\n        vertical-align: top;\n    }\n\n    .dataframe thead th {\n        text-align: right;\n    }\n</style>\n<table border=\"1\" class=\"dataframe\">\n  <thead>\n    <tr style=\"text-align: right;\">\n      <th></th>\n      <th>SatisfactionID</th>\n      <th>SatisfactionLevel</th>\n    </tr>\n  </thead>\n  <tbody>\n    <tr>\n      <th>0</th>\n      <td>1</td>\n      <td>Very Dissatisfied</td>\n    </tr>\n    <tr>\n      <th>1</th>\n      <td>2</td>\n      <td>Dissatisfied</td>\n    </tr>\n    <tr>\n      <th>2</th>\n      <td>3</td>\n      <td>Neutral</td>\n    </tr>\n    <tr>\n      <th>3</th>\n      <td>4</td>\n      <td>Satisfied</td>\n    </tr>\n    <tr>\n      <th>4</th>\n      <td>5</td>\n      <td>Very Satisfied</td>\n    </tr>\n  </tbody>\n</table>\n</div>"
                    },
                    "metadata": {},
                    "execution_count": 14,
                    "output_type": "execute_result"
                }
            ],
            "execution_count": 14
        },
        {
            "cell_type": "code",
            "source": [
                "SatisfiedLevel.info()"
            ],
            "metadata": {
                "azdata_cell_guid": "91b37be0-a526-4585-b8b9-a1cb40968aad",
                "language": "python"
            },
            "outputs": [
                {
                    "name": "stdout",
                    "text": "<class 'pandas.core.frame.DataFrame'>\nRangeIndex: 5 entries, 0 to 4\nData columns (total 2 columns):\n #   Column             Non-Null Count  Dtype \n---  ------             --------------  ----- \n 0   SatisfactionID     5 non-null      int64 \n 1   SatisfactionLevel  5 non-null      object\ndtypes: int64(1), object(1)\nmemory usage: 212.0+ bytes\n",
                    "output_type": "stream"
                }
            ],
            "execution_count": 17
        },
        {
            "cell_type": "markdown",
            "source": [
                "__________________________"
            ],
            "metadata": {
                "azdata_cell_guid": "f04559b5-033b-4009-ae39-7f1e401ae72c"
            }
        },
        {
            "cell_type": "code",
            "source": [
                "# Reading Dataset of RatingLevel\n",
                "RatingLevel = pd.read_csv(f\"{pth}05-RatingLevel.csv\")\n",
                "RatingLevel"
            ],
            "metadata": {
                "scrolled": true,
                "azdata_cell_guid": "917bf43d-0c3a-45c2-adbd-82513396e4ec",
                "language": "python"
            },
            "outputs": [
                {
                    "data": {
                        "text/plain": "   RatingID           RatingLevel\n0         1          Unacceptable\n1         2     Needs Improvement\n2         3     Meets Expectation\n3         4  Exceeds Expectation \n4         5      Above and Beyond",
                        "text/html": "<div>\n<style scoped>\n    .dataframe tbody tr th:only-of-type {\n        vertical-align: middle;\n    }\n\n    .dataframe tbody tr th {\n        vertical-align: top;\n    }\n\n    .dataframe thead th {\n        text-align: right;\n    }\n</style>\n<table border=\"1\" class=\"dataframe\">\n  <thead>\n    <tr style=\"text-align: right;\">\n      <th></th>\n      <th>RatingID</th>\n      <th>RatingLevel</th>\n    </tr>\n  </thead>\n  <tbody>\n    <tr>\n      <th>0</th>\n      <td>1</td>\n      <td>Unacceptable</td>\n    </tr>\n    <tr>\n      <th>1</th>\n      <td>2</td>\n      <td>Needs Improvement</td>\n    </tr>\n    <tr>\n      <th>2</th>\n      <td>3</td>\n      <td>Meets Expectation</td>\n    </tr>\n    <tr>\n      <th>3</th>\n      <td>4</td>\n      <td>Exceeds Expectation</td>\n    </tr>\n    <tr>\n      <th>4</th>\n      <td>5</td>\n      <td>Above and Beyond</td>\n    </tr>\n  </tbody>\n</table>\n</div>"
                    },
                    "metadata": {},
                    "execution_count": 18,
                    "output_type": "execute_result"
                }
            ],
            "execution_count": 18
        },
        {
            "cell_type": "code",
            "source": [
                "RatingLevel.info()"
            ],
            "metadata": {
                "azdata_cell_guid": "31d90f29-f9a0-4b57-949b-8e5b24265ca6",
                "language": "python"
            },
            "outputs": [
                {
                    "name": "stdout",
                    "text": "<class 'pandas.core.frame.DataFrame'>\nRangeIndex: 5 entries, 0 to 4\nData columns (total 2 columns):\n #   Column       Non-Null Count  Dtype \n---  ------       --------------  ----- \n 0   RatingID     5 non-null      int64 \n 1   RatingLevel  5 non-null      object\ndtypes: int64(1), object(1)\nmemory usage: 212.0+ bytes\n",
                    "output_type": "stream"
                }
            ],
            "execution_count": 19
        },
        {
            "cell_type": "markdown",
            "source": [
                "_____________________________________"
            ],
            "metadata": {
                "azdata_cell_guid": "3ef7326f-0257-48f1-b93b-f39335d0b907"
            }
        },
        {
            "cell_type": "markdown",
            "source": [
                "## Data Cleaning and Preprocessing\n",
                "After building the data model, we proceeded with data cleaning and preprocessing. Here’s a summary of the key observations:\n",
                "\n",
                "- The data had no missing values or unusual entries across all tables. Each field, such as age, salary, and years of experience, showed values within expected ranges.\n",
                "- Data entries for categorical variables like gender, marital status, and job roles were consistent without any spelling or formatting issues.\n",
                "\n",
                "- Date fields, such as the employee `HireDate` and `ReviewDate` in the performance review table, were in the correct format and adhered to the expected chronological order.\n",
                "- Numeric fields, including `Salary`, `YearsAtCompany`, and `DistanceFromHome`, were confirmed to contain only valid numbers without any outliers or inconsistent values.\n",
                "\n",
                "## Conclusion\n",
                "The dataset was found to be clean, free of errors, and consistent with the designed data model. The foreign key relationships worked as expected, linking employee details to education levels, satisfaction levels, and performance ratings. With this well-prepared and consistent dataset, we are ready to move forward to the next phase of analysis, ensuring that our data pipeline is reliable and efficient.\n"
            ],
            "metadata": {
                "azdata_cell_guid": "7256265f-33ab-4a3d-b69a-6094a65201b9"
            }
        },
        {
            "cell_type": "markdown",
            "source": [
                "# END"
            ],
            "metadata": {
                "azdata_cell_guid": "f223fbea-4fdd-44a9-9b50-a6fb5c35b668"
            }
        }
    ]
}