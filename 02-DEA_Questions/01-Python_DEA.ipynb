{
    "metadata": {
        "kernelspec": {
            "name": "python3",
            "display_name": "Python 3",
            "language": "python"
        },
        "language_info": {
            "name": "python",
            "version": "3.11.10",
            "mimetype": "text/x-python",
            "codemirror_mode": {
                "name": "ipython",
                "version": 3
            },
            "pygments_lexer": "ipython3",
            "nbconvert_exporter": "python",
            "file_extension": ".py"
        }
    },
    "nbformat_minor": 2,
    "nbformat": 4,
    "cells": [
        {
            "cell_type": "markdown",
            "source": [
                "# Project: Human Resources Dataset Analysis\n",
                "\n",
                "## Week 2: (1) Exploratory Data Analysis (EDA) And Determine Data Analysis Questions"
            ],
            "metadata": {
                "azdata_cell_guid": "03683ed5-6374-4424-80d2-4db3f3fd702d"
            },
            "attachments": {}
        },
        {
            "cell_type": "markdown",
            "source": [
                "**This table includes the column names and their descriptions:**\r\n",
                "\r\n",
                "| **#** | **Column Name**                    | **Description**                                                |\r\n",
                "|-------|-------------------------------------|---------------------------------------------------------------|\r\n",
                "| 1     | EmployeeID                         | Unique identifier for each employee                           |\r\n",
                "| 2     | FirstName                          | The first name of the employee                                |\r\n",
                "| 3     | LastName                           | The last name of the employee                                 |\r\n",
                "| 4     | Gender                             | Gender of the employee (Male, Female, Non-binary)            |\r\n",
                "| 5     | Age                                | Age of the employee (in years)                               |\r\n",
                "| 6     | BusinessTravel                     | Frequency of business travel (Rarely, Occasionally, Frequent) |\r\n",
                "| 7     | Department                         | The department where the employee works                       |\r\n",
                "| 8     | DistanceFromHome                   | Distance from the employee's home to work (in kilometers)    |\r\n",
                "| 9     | State                              | The state where the employee resides                          |\r\n",
                "| 10    | Ethnicity                          | Ethnicity of the employee                                     |\r\n",
                "| 11    | EducationField                     | Field of education of the employee (e.g., IT, Marketing)    |\r\n",
                "| 12    | JobRole                            | Job title of the employee (e.g., Software Engineer, Sales Executive) |\r\n",
                "| 13    | MaritalStatus                      | Marital status of the employee (e.g., Married, Single)       |\r\n",
                "| 14    | Salary                             | Salary of the employee (in local currency)                   |\r\n",
                "| 15    | StockOptionLevel                   | Level of stock options granted to the employee (number of shares) |\r\n",
                "| 16    | OverTime                           | Whether the employee works overtime (Yes or No)              |\r\n",
                "| 17    | HireDate                           | Date of hiring the employee (in date format)                 |\r\n",
                "| 18    | Attrition                          | Whether the employee left the company (Yes or No)            |\r\n",
                "| 19    | YearsAtCompany                     | Number of years the employee has been with the company       |\r\n",
                "| 20    | YearsInMostRecentRole              | Number of years the employee has been in the most recent role |\r\n",
                "| 21    | YearsSinceLastPromotion             | Number of years since the last promotion of the employee      |\r\n",
                "| 22    | YearsWithCurrManager               | Number of years the employee has worked with the current manager |\r\n",
                "| 23    | EducationLevel                     | Level of education (e.g., Bachelor's, Master's)              |\r\n",
                "| 24    | PerformanceID                      | Performance evaluation identifier for the employee            |\r\n",
                "| 25    | ReviewDate                         | Date of the last performance review for the employee          |\r\n",
                "| 26    | TrainingOpportunitiesWithinYear    | Number of training opportunities available within the year    |\r\n",
                "| 27    | TrainingOpportunitiesTaken         | Number of training opportunities taken                         |\r\n",
                "| 28    | EnvironmentSatisfactionLevel       | Level of satisfaction with the work environment (Scale 1 to 5) |\r\n",
                "| 29    | JobSatisfactionLevel               | Level of satisfaction with the job (Scale 1 to 5)            |\r\n",
                "| 30    | RelationshipSatisfactionLevel      | Level of satisfaction with workplace relationships (Scale 1 to 5) |\r\n",
                "| 31    | WorkLifeBalanceLevel               | Level of work-life balance (Scale 1 to 5)                     |\r\n",
                "| 32    | SelfRatingLevel                    | Self-rating of the employee (Scale 1 to 5)                    |\r\n",
                "| 33    | ManagerRatingLevel                 | Manager's rating of the employee (Scale 1 to 5)               |\r\n",
                ""
            ],
            "metadata": {
                "azdata_cell_guid": "a6ee3b80-47c2-4f85-8cc9-ec2bad8eded0"
            },
            "attachments": {}
        },
        {
            "cell_type": "code",
            "source": [
                "# import Libraries\n",
                "import numpy as np\n",
                "import pandas as pd\n",
                "import plotly.express as px\n",
                "import matplotlib.pyplot as plt\n",
                "import seaborn as sns\n",
                "import pyodbc\n",
                "\n",
                "pd.options.display.max_rows = None\n",
                "\n",
                "pd.options.display.max_columns = None\n",
                "sns.set()\n"
            ],
            "metadata": {
                "azdata_cell_guid": "c6a4114d-8aa6-4495-a18e-0100b06c1ee1",
                "language": "python",
                "tags": []
            },
            "outputs": [],
            "execution_count": 18
        },
        {
            "cell_type": "code",
            "source": [
                "import pyodbc\n",
                "import pandas as pd\n",
                "\n",
                "\n",
                "def read_sql_query(query):\n",
                "    \n",
                "    server = 'DESKTOP-0CQ5N9B' \n",
                "    database = 'HR_system' \n",
                "    \n",
                "    # SQL Authentication\n",
                "    connection_string = (\n",
                "        f\"Driver={{ODBC Driver 17 for SQL Server}};\" \n",
                "        f\"Server={server};\" \n",
                "        f\"Database={database};\"\n",
                "        f\"Trusted_Connection=yes;\" \n",
                "    )\n",
                "\n",
                "    # Creating connection\n",
                "    try:\n",
                "        connection = pyodbc.connect(connection_string) \n",
                "        print(\"Connection successful!\")\n",
                "\n",
                "        # Use cursor to execute query\n",
                "        cursor = connection.cursor()\n",
                "        cursor.execute(query)\n",
                "        \n",
                "        # Get results\n",
                "        rows = cursor.fetchall()\n",
                "        columns = [column[0] for column in cursor.description] \n",
                "        \n",
                "        # Creating DataFrame\n",
                "        df = pd.DataFrame.from_records(rows, columns=columns)\n",
                "\n",
                "        return df\n",
                "\n",
                "    except Exception as e:\n",
                "        print(f\"Error: {e}\")\n",
                "        connection.close()\n",
                "        return None  \n",
                "    \n",
                "    finally:\n",
                "        # close connection\n",
                "        connection.close()\n",
                "\n",
                ""
            ],
            "metadata": {
                "scrolled": true,
                "azdata_cell_guid": "4cf0de89-3971-49ea-b03a-b774c6b63e06",
                "language": "python",
                "tags": []
            },
            "outputs": [],
            "execution_count": 59
        },
        {
            "cell_type": "markdown",
            "source": [
                "# Employees"
            ],
            "metadata": {
                "azdata_cell_guid": "c2e2f6e0-c35e-4524-93d5-e9f0826a8e9d"
            },
            "attachments": {}
        },
        {
            "cell_type": "code",
            "source": [
                "pth= \"../00-Dataset_Data_Model/\"\n",
                "#df_employees = pd.read_csv(f\"{pth}06-All_Data_Employees.csv\")\n",
                "\n",
                "## Load Dataset of All_Data_Employees.csv (the view \"FullEmployeePerformanceView\")\n",
                "query = \"\"\"SELECT * FROM FullEmployeePerformanceView;\"\"\"\n",
                "\n",
                "df_employees = read_sql_query(query)\n",
                "\n",
                "df_employees.head()"
            ],
            "metadata": {
                "azdata_cell_guid": "24640029-a944-4619-8347-04ae158fa423",
                "language": "python"
            },
            "outputs": [
                {
                    "name": "stdout",
                    "text": "Connection successful!\n",
                    "output_type": "stream"
                },
                {
                    "data": {
                        "text/plain": "  EmployeeID FirstName      LastName      Gender  Age      BusinessTravel  \\\n0  001A-8F88   Christy         Jumel        Male   22         Some Travel   \n1  005C-E0FB       Fin  O'Halleghane  Non-Binary   24  Frequent Traveller   \n2  005C-E0FB       Fin  O'Halleghane  Non-Binary   24  Frequent Traveller   \n3  005C-E0FB       Fin  O'Halleghane  Non-Binary   24  Frequent Traveller   \n4  00A3-2445     Wyatt         Ziehm        Male   30         Some Travel   \n\n   Department  DistanceFromHome State                  Ethnicity  \\\n0  Technology                40    CA                      White   \n1       Sales                17    CA                      White   \n2       Sales                17    CA                      White   \n3       Sales                17    CA                      White   \n4  Technology                 6    CA  Black or African American   \n\n        EducationField                    JobRole MaritalStatus    Salary  \\\n0  Information Systems          Software Engineer       Married   27763.0   \n1           Marketing             Sales Executive       Married   56155.0   \n2           Marketing             Sales Executive       Married   56155.0   \n3           Marketing             Sales Executive       Married   56155.0   \n4     Computer Science  Machine Learning Engineer       Married  126238.0   \n\n   StockOptionLevel OverTime   HireDate Attrition  YearsAtCompany  \\\n0                 0       No 2021-09-05        No               1   \n1                 1       No 2017-08-26        No               5   \n2                 1       No 2017-08-26        No               5   \n3                 1       No 2017-08-26        No               5   \n4                 0       No 2012-03-08        No              10   \n\n   YearsInMostRecentRole  YearsSinceLastPromotion  YearsWithCurrManager  \\\n0                      0                        1                     0   \n1                      2                        2                     0   \n2                      2                        2                     0   \n3                      2                        2                     0   \n4                      3                        6                     6   \n\n  EducationLevel PerformanceID ReviewDate  TrainingOpportunitiesWithinYear  \\\n0       Masters           None        NaT                              NaN   \n1       Masters         PR4067 2020-06-17                              1.0   \n2       Masters         PR5070 2021-06-17                              1.0   \n3       Masters         PR6165 2022-06-17                              3.0   \n4   High School         PR1165 2016-06-19                              2.0   \n\n   TrainingOpportunitiesTaken EnvironmentSatisfactionLevel  \\\n0                         NaN                         None   \n1                         2.0                      Neutral   \n2                         1.0                   Satisfied    \n3                         0.0                      Neutral   \n4                         2.0                   Satisfied    \n\n  JobSatisfactionLevel RelationshipSatisfactionLevel WorkLifeBalanceLevel  \\\n0                 None                          None                 None   \n1              Neutral                  Dissatisfied         Dissatisfied   \n2           Satisfied                 Very Satisfied       Very Satisfied   \n3           Satisfied                 Very Satisfied           Satisfied    \n4       Very Satisfied                    Satisfied        Very Satisfied   \n\n        SelfRatingLevel    ManagerRatingLevel  \n0                  None                  None  \n1  Exceeds Expectation      Meets Expectation  \n2     Meets Expectation     Meets Expectation  \n3  Exceeds Expectation   Exceeds Expectation   \n4  Exceeds Expectation      Meets Expectation  ",
                        "text/html": "<div>\n<style scoped>\n    .dataframe tbody tr th:only-of-type {\n        vertical-align: middle;\n    }\n\n    .dataframe tbody tr th {\n        vertical-align: top;\n    }\n\n    .dataframe thead th {\n        text-align: right;\n    }\n</style>\n<table border=\"1\" class=\"dataframe\">\n  <thead>\n    <tr style=\"text-align: right;\">\n      <th></th>\n      <th>EmployeeID</th>\n      <th>FirstName</th>\n      <th>LastName</th>\n      <th>Gender</th>\n      <th>Age</th>\n      <th>BusinessTravel</th>\n      <th>Department</th>\n      <th>DistanceFromHome</th>\n      <th>State</th>\n      <th>Ethnicity</th>\n      <th>EducationField</th>\n      <th>JobRole</th>\n      <th>MaritalStatus</th>\n      <th>Salary</th>\n      <th>StockOptionLevel</th>\n      <th>OverTime</th>\n      <th>HireDate</th>\n      <th>Attrition</th>\n      <th>YearsAtCompany</th>\n      <th>YearsInMostRecentRole</th>\n      <th>YearsSinceLastPromotion</th>\n      <th>YearsWithCurrManager</th>\n      <th>EducationLevel</th>\n      <th>PerformanceID</th>\n      <th>ReviewDate</th>\n      <th>TrainingOpportunitiesWithinYear</th>\n      <th>TrainingOpportunitiesTaken</th>\n      <th>EnvironmentSatisfactionLevel</th>\n      <th>JobSatisfactionLevel</th>\n      <th>RelationshipSatisfactionLevel</th>\n      <th>WorkLifeBalanceLevel</th>\n      <th>SelfRatingLevel</th>\n      <th>ManagerRatingLevel</th>\n    </tr>\n  </thead>\n  <tbody>\n    <tr>\n      <th>0</th>\n      <td>001A-8F88</td>\n      <td>Christy</td>\n      <td>Jumel</td>\n      <td>Male</td>\n      <td>22</td>\n      <td>Some Travel</td>\n      <td>Technology</td>\n      <td>40</td>\n      <td>CA</td>\n      <td>White</td>\n      <td>Information Systems</td>\n      <td>Software Engineer</td>\n      <td>Married</td>\n      <td>27763.0</td>\n      <td>0</td>\n      <td>No</td>\n      <td>2021-09-05</td>\n      <td>No</td>\n      <td>1</td>\n      <td>0</td>\n      <td>1</td>\n      <td>0</td>\n      <td>Masters</td>\n      <td>None</td>\n      <td>NaT</td>\n      <td>NaN</td>\n      <td>NaN</td>\n      <td>None</td>\n      <td>None</td>\n      <td>None</td>\n      <td>None</td>\n      <td>None</td>\n      <td>None</td>\n    </tr>\n    <tr>\n      <th>1</th>\n      <td>005C-E0FB</td>\n      <td>Fin</td>\n      <td>O'Halleghane</td>\n      <td>Non-Binary</td>\n      <td>24</td>\n      <td>Frequent Traveller</td>\n      <td>Sales</td>\n      <td>17</td>\n      <td>CA</td>\n      <td>White</td>\n      <td>Marketing</td>\n      <td>Sales Executive</td>\n      <td>Married</td>\n      <td>56155.0</td>\n      <td>1</td>\n      <td>No</td>\n      <td>2017-08-26</td>\n      <td>No</td>\n      <td>5</td>\n      <td>2</td>\n      <td>2</td>\n      <td>0</td>\n      <td>Masters</td>\n      <td>PR4067</td>\n      <td>2020-06-17</td>\n      <td>1.0</td>\n      <td>2.0</td>\n      <td>Neutral</td>\n      <td>Neutral</td>\n      <td>Dissatisfied</td>\n      <td>Dissatisfied</td>\n      <td>Exceeds Expectation</td>\n      <td>Meets Expectation</td>\n    </tr>\n    <tr>\n      <th>2</th>\n      <td>005C-E0FB</td>\n      <td>Fin</td>\n      <td>O'Halleghane</td>\n      <td>Non-Binary</td>\n      <td>24</td>\n      <td>Frequent Traveller</td>\n      <td>Sales</td>\n      <td>17</td>\n      <td>CA</td>\n      <td>White</td>\n      <td>Marketing</td>\n      <td>Sales Executive</td>\n      <td>Married</td>\n      <td>56155.0</td>\n      <td>1</td>\n      <td>No</td>\n      <td>2017-08-26</td>\n      <td>No</td>\n      <td>5</td>\n      <td>2</td>\n      <td>2</td>\n      <td>0</td>\n      <td>Masters</td>\n      <td>PR5070</td>\n      <td>2021-06-17</td>\n      <td>1.0</td>\n      <td>1.0</td>\n      <td>Satisfied</td>\n      <td>Satisfied</td>\n      <td>Very Satisfied</td>\n      <td>Very Satisfied</td>\n      <td>Meets Expectation</td>\n      <td>Meets Expectation</td>\n    </tr>\n    <tr>\n      <th>3</th>\n      <td>005C-E0FB</td>\n      <td>Fin</td>\n      <td>O'Halleghane</td>\n      <td>Non-Binary</td>\n      <td>24</td>\n      <td>Frequent Traveller</td>\n      <td>Sales</td>\n      <td>17</td>\n      <td>CA</td>\n      <td>White</td>\n      <td>Marketing</td>\n      <td>Sales Executive</td>\n      <td>Married</td>\n      <td>56155.0</td>\n      <td>1</td>\n      <td>No</td>\n      <td>2017-08-26</td>\n      <td>No</td>\n      <td>5</td>\n      <td>2</td>\n      <td>2</td>\n      <td>0</td>\n      <td>Masters</td>\n      <td>PR6165</td>\n      <td>2022-06-17</td>\n      <td>3.0</td>\n      <td>0.0</td>\n      <td>Neutral</td>\n      <td>Satisfied</td>\n      <td>Very Satisfied</td>\n      <td>Satisfied</td>\n      <td>Exceeds Expectation</td>\n      <td>Exceeds Expectation</td>\n    </tr>\n    <tr>\n      <th>4</th>\n      <td>00A3-2445</td>\n      <td>Wyatt</td>\n      <td>Ziehm</td>\n      <td>Male</td>\n      <td>30</td>\n      <td>Some Travel</td>\n      <td>Technology</td>\n      <td>6</td>\n      <td>CA</td>\n      <td>Black or African American</td>\n      <td>Computer Science</td>\n      <td>Machine Learning Engineer</td>\n      <td>Married</td>\n      <td>126238.0</td>\n      <td>0</td>\n      <td>No</td>\n      <td>2012-03-08</td>\n      <td>No</td>\n      <td>10</td>\n      <td>3</td>\n      <td>6</td>\n      <td>6</td>\n      <td>High School</td>\n      <td>PR1165</td>\n      <td>2016-06-19</td>\n      <td>2.0</td>\n      <td>2.0</td>\n      <td>Satisfied</td>\n      <td>Very Satisfied</td>\n      <td>Satisfied</td>\n      <td>Very Satisfied</td>\n      <td>Exceeds Expectation</td>\n      <td>Meets Expectation</td>\n    </tr>\n  </tbody>\n</table>\n</div>"
                    },
                    "metadata": {},
                    "execution_count": 99,
                    "output_type": "execute_result"
                }
            ],
            "execution_count": 99
        },
        {
            "cell_type": "code",
            "source": [
                "# df_employees[\"HireDate\"]=pd.to_datetime(df_employees[\"HireDate\"], format='%Y-%m-%d', errors='coerce')\r\n",
                "# Display df_employees data information\r\n",
                "df_employees.info()\r\n",
                ""
            ],
            "metadata": {
                "azdata_cell_guid": "3f0ea093-2c91-4723-8e23-df783a3239e6",
                "language": "python",
                "scrolled": false,
                "tags": []
            },
            "outputs": [
                {
                    "name": "stdout",
                    "text": "<class 'pandas.core.frame.DataFrame'>\nRangeIndex: 6899 entries, 0 to 6898\nData columns (total 33 columns):\n #   Column                           Non-Null Count  Dtype         \n---  ------                           --------------  -----         \n 0   EmployeeID                       6899 non-null   object        \n 1   FirstName                        6899 non-null   object        \n 2   LastName                         6899 non-null   object        \n 3   Gender                           6899 non-null   object        \n 4   Age                              6899 non-null   int64         \n 5   BusinessTravel                   6899 non-null   object        \n 6   Department                       6899 non-null   object        \n 7   DistanceFromHome                 6899 non-null   int64         \n 8   State                            6899 non-null   object        \n 9   Ethnicity                        6899 non-null   object        \n 10  EducationField                   6899 non-null   object        \n 11  JobRole                          6899 non-null   object        \n 12  MaritalStatus                    6899 non-null   object        \n 13  Salary                           6899 non-null   float64       \n 14  StockOptionLevel                 6899 non-null   int64         \n 15  OverTime                         6899 non-null   object        \n 16  HireDate                         6899 non-null   datetime64[ns]\n 17  Attrition                        6899 non-null   object        \n 18  YearsAtCompany                   6899 non-null   int64         \n 19  YearsInMostRecentRole            6899 non-null   int64         \n 20  YearsSinceLastPromotion          6899 non-null   int64         \n 21  YearsWithCurrManager             6899 non-null   int64         \n 22  EducationLevel                   6899 non-null   object        \n 23  PerformanceID                    6709 non-null   object        \n 24  ReviewDate                       6709 non-null   datetime64[ns]\n 25  TrainingOpportunitiesWithinYear  6709 non-null   float64       \n 26  TrainingOpportunitiesTaken       6709 non-null   float64       \n 27  EnvironmentSatisfactionLevel     6709 non-null   object        \n 28  JobSatisfactionLevel             6709 non-null   object        \n 29  RelationshipSatisfactionLevel    6709 non-null   object        \n 30  WorkLifeBalanceLevel             6709 non-null   object        \n 31  SelfRatingLevel                  6709 non-null   object        \n 32  ManagerRatingLevel               6709 non-null   object        \ndtypes: datetime64[ns](2), float64(3), int64(7), object(21)\nmemory usage: 1.7+ MB\n",
                    "output_type": "stream"
                }
            ],
            "execution_count": 101
        },
        {
            "cell_type": "markdown",
            "source": [
                "\r\n",
                "## Summary statistics"
            ],
            "metadata": {
                "azdata_cell_guid": "23a6bab8-95d0-4299-b0db-df450fc74202"
            },
            "attachments": {}
        },
        {
            "cell_type": "code",
            "source": [
                "numeric_df_employees = [\r\n",
                "    \"Age\",\r\n",
                "    \"DistanceFromHome\",\r\n",
                "    \"Salary\",\r\n",
                "    \"StockOptionLevel\",\r\n",
                "    \"HireDate\",\r\n",
                "    \"YearsAtCompany\",\r\n",
                "    \"YearsInMostRecentRole\",\r\n",
                "    \"YearsSinceLastPromotion\",\r\n",
                "    \"YearsWithCurrManager\",\r\n",
                "    \"ReviewDate\", \r\n",
                "    \"TrainingOpportunitiesWithinYear\",\r\n",
                "    \"TrainingOpportunitiesTaken\"\r\n",
                "]\r\n",
                "\r\n",
                "categorical_df_employees =[\r\n",
                "    \"Gender\",\r\n",
                "    \"BusinessTravel\",\r\n",
                "    \"Department\",\r\n",
                "    \"State\",\r\n",
                "    \"Ethnicity\",\r\n",
                "    \"EducationField\",\r\n",
                "    \"JobRole\",\r\n",
                "    \"MaritalStatus\",\r\n",
                "    \"OverTime\",\r\n",
                "    \"Attrition\",\r\n",
                "    \"EducationLevel\",\r\n",
                "    \"EnvironmentSatisfactionLevel\", \r\n",
                "    \"JobSatisfactionLevel\", \r\n",
                "    \"RelationshipSatisfactionLevel\",\r\n",
                "    \"WorkLifeBalanceLevel\", \r\n",
                "    \"SelfRatingLevel\",\r\n",
                "    \"ManagerRatingLevel\"\r\n",
                "]\r\n",
                "\r\n",
                "\r\n",
                ""
            ],
            "metadata": {
                "azdata_cell_guid": "07743bf8-4ecd-45c4-b72a-b049fabf8717",
                "language": "python",
                "tags": []
            },
            "outputs": [],
            "execution_count": 103
        },
        {
            "cell_type": "markdown",
            "source": [
                "#### **Numeric Columns Table:**\r\n",
                "\r\n",
                "| **#** | **Column Name**                    | **Description**                                          |\r\n",
                "|-------|-------------------------------------|---------------------------------------------------------|\r\n",
                "| 1     | Age                                | The age of the employee (in years)                     |\r\n",
                "| 2     | DistanceFromHome                   | The distance from the employee's home to work (in km)  |\r\n",
                "| 3     | Salary                             | The employee's salary (in local currency)              |\r\n",
                "| 4     | StockOptionLevel                   | The level of stock options granted to the employee (number of shares) |\r\n",
                "| 5     | HireDate                           | The date of hiring the employee (in date format)       |\r\n",
                "| 6     | YearsAtCompany                     | The number of years the employee has been with the company |\r\n",
                "| 7     | YearsInMostRecentRole              | The number of years the employee has spent in their most recent role |\r\n",
                "| 8     | YearsSinceLastPromotion             | The number of years since the employee's last promotion |\r\n",
                "| 9     | YearsWithCurrManager               | The number of years the employee has worked with the current manager |\r\n",
                "| 10    | ReviewDate                         | The date of the employee's last performance review      |\r\n",
                "| 11    | TrainingOpportunitiesWithinYear    | The number of training opportunities available within the year |\r\n",
                "| 12    | TrainingOpportunitiesTaken         | The number of training opportunities that have been taken |\r\n",
                ""
            ],
            "metadata": {
                "language": "python",
                "azdata_cell_guid": "5edb1739-06a3-4be9-ae5f-785bb6a1aa75"
            },
            "attachments": {}
        },
        {
            "cell_type": "code",
            "source": [
                "# Summary statistics of numeric\r\n",
                "df_employees[numeric_df_employees].describe()\r\n",
                ""
            ],
            "metadata": {
                "scrolled": true,
                "azdata_cell_guid": "9b177afc-fd94-4b9d-a393-8c4e6ee1497b",
                "language": "python"
            },
            "outputs": [
{
    "data": {
        "text/plain": "               Age  DistanceFromHome         Salary  StockOptionLevel  \\\ncount  6899.000000       6899.000000    6899.000000       6899.000000   \nmean     30.604146         22.327874  110898.374112          0.725467   \nmin      18.000000          1.000000   20387.000000          0.000000   \n25%      25.000000         12.000000   44646.000000          0.000000   \n50%      28.000000         22.000000   74458.000000          1.000000   \n75%      36.000000         33.000000  137219.500000          1.000000   \nmax      51.000000         45.000000  547204.000000          3.000000   \nstd       7.986542         12.899799   98427.862382          0.839724   \n\n                            HireDate  YearsAtCompany  YearsInMostRecentRole  \\\ncount                           6899     6899.000000            6899.000000   \nmean   2016-01-12 15:39:53.564284416        5.578055               2.778953   \nmin              2012-01-03 00:00:00        0.000000               0.000000   \n25%              2013-07-02 00:00:00        3.000000               0.000000   \n50%              2015-05-19 00:00:00        6.000000               2.000000   \n75%              2018-06-11 00:00:00        9.000000               5.000000   \nmax              2022-12-31 00:00:00       10.000000              10.000000   \nstd                              NaN        3.410087               2.810170   \n\n       YearsSinceLastPromotion  YearsWithCurrManager  \\\ncount              6899.000000           6899.000000   \nmean                  4.143934              2.741412   \nmin                   0.000000              0.000000   \n25%                   1.000000              0.000000   \n50%                   4.000000              2.000000   \n75%                   7.000000              5.000000   \nmax                  10.000000             10.000000   \nstd                   3.203770              2.792284   \n\n                          ReviewDate  TrainingOpportunitiesWithinYear  \\\ncount                           6709                      6709.000000   \nmean   2019-04-14 05:12:04.936652288                         2.012968   \nmin              2013-01-02 00:00:00                         1.000000   \n25%              2017-05-21 00:00:00                         1.000000   \n50%              2019-09-15 00:00:00                         2.000000   \n75%              2021-06-01 00:00:00                         3.000000   \nmax              2022-12-31 00:00:00                         3.000000   \nstd                              NaN                         0.820310   \n\n       TrainingOpportunitiesTaken  \ncount                 6709.000000  \nmean                     1.017290  \nmin                      0.000000  \n25%                      0.000000  \n50%                      1.000000  \n75%                      2.000000  \nmax                      3.000000  \nstd                      0.950316  ",
        "text/html": "<div>\n<style scoped>\n    .dataframe tbody tr th:only-of-type {\n        vertical-align: middle;\n    }\n\n    .dataframe tbody tr th {\n        vertical-align: top;\n    }\n\n    .dataframe thead th {\n        text-align: right;\n    }\n</style>\n<table border=\"1\" class=\"dataframe\">\n  <thead>\n    <tr style=\"text-align: right;\">\n      <th></th>\n      <th>Age</th>\n      <th>DistanceFromHome</th>\n      <th>Salary</th>\n      <th>StockOptionLevel</th>\n      <th>HireDate</th>\n      <th>YearsAtCompany</th>\n      <th>YearsInMostRecentRole</th>\n      <th>YearsSinceLastPromotion</th>\n      <th>YearsWithCurrManager</th>\n      <th>ReviewDate</th>\n      <th>TrainingOpportunitiesWithinYear</th>\n      <th>TrainingOpportunitiesTaken</th>\n    </tr>\n  </thead>\n  <tbody>\n    <tr>\n      <th>count</th>\n      <td>6899.000000</td>\n      <td>6899.000000</td>\n      <td>6899.000000</td>\n      <td>6899.000000</td>\n      <td>6899</td>\n      <td>6899.000000</td>\n      <td>6899.000000</td>\n      <td>6899.000000</td>\n      <td>6899.000000</td>\n      <td>6709</td>\n      <td>6709.000000</td>\n      <td>6709.000000</td>\n    </tr>\n    <tr>\n      <th>mean</th>\n      <td>30.604146</td>\n      <td>22.327874</td>\n      <td>110898.374112</td>\n      <td>0.725467</td>\n      <td>2016-01-12 15:39:53.564284416</td>\n      <td>5.578055</td>\n      <td>2.778953</td>\n      <td>4.143934</td>\n      <td>2.741412</td>\n      <td>2019-04-14 05:12:04.936652288</td>\n      <td>2.012968</td>\n      <td>1.017290</td>\n    </tr>\n    <tr>\n      <th>min</th>\n      <td>18.000000</td>\n      <td>1.000000</td>\n      <td>20387.000000</td>\n      <td>0.000000</td>\n      <td>2012-01-03 00:00:00</td>\n      <td>0.000000</td>\n      <td>0.000000</td>\n      <td>0.000000</td>\n      <td>0.000000</td>\n      <td>2013-01-02 00:00:00</td>\n      <td>1.000000</td>\n      <td>0.000000</td>\n    </tr>\n    <tr>\n      <th>25%</th>\n      <td>25.000000</td>\n      <td>12.000000</td>\n      <td>44646.000000</td>\n      <td>0.000000</td>\n      <td>2013-07-02 00:00:00</td>\n      <td>3.000000</td>\n      <td>0.000000</td>\n      <td>1.000000</td>\n      <td>0.000000</td>\n      <td>2017-05-21 00:00:00</td>\n      <td>1.000000</td>\n      <td>0.000000</td>\n    </tr>\n    <tr>\n      <th>50%</th>\n      <td>28.000000</td>\n      <td>22.000000</td>\n      <td>74458.000000</td>\n      <td>1.000000</td>\n      <td>2015-05-19 00:00:00</td>\n      <td>6.000000</td>\n      <td>2.000000</td>\n      <td>4.000000</td>\n      <td>2.000000</td>\n      <td>2019-09-15 00:00:00</td>\n      <td>2.000000</td>\n      <td>1.000000</td>\n    </tr>\n    <tr>\n      <th>75%</th>\n      <td>36.000000</td>\n      <td>33.000000</td>\n      <td>137219.500000</td>\n      <td>1.000000</td>\n      <td>2018-06-11 00:00:00</td>\n      <td>9.000000</td>\n      <td>5.000000</td>\n      <td>7.000000</td>\n      <td>5.000000</td>\n      <td>2021-06-01 00:00:00</td>\n      <td>3.000000</td>\n      <td>2.000000</td>\n    </tr>\n    <tr>\n      <th>max</th>\n      <td>51.000000</td>\n      <td>45.000000</td>\n      <td>547204.000000</td>\n      <td>3.000000</td>\n      <td>2022-12-31 00:00:00</td>\n      <td>10.000000</td>\n      <td>10.000000</td>\n      <td>10.000000</td>\n      <td>10.000000</td>\n      <td>2022-12-31 00:00:00</td>\n      <td>3.000000</td>\n      <td>3.000000</td>\n    </tr>\n    <tr>\n      <th>std</th>\n      <td>7.986542</td>\n      <td>12.899799</td>\n      <td>98427.862382</td>\n      <td>0.839724</td>\n      <td>NaN</td>\n      <td>3.410087</td>\n      <td>2.810170</td>\n      <td>3.203770</td>\n      <td>2.792284</td>\n      <td>NaN</td>\n      <td>0.820310</td>\n      <td>0.950316</td>\n    </tr>\n  </tbody>\n</table>\n</div>"
    },
    "metadata": {},
    "execution_count": 104,
    "output_type": "execute_result"
}
],
            "execution_count": 104
        },
        {
            "cell_type": "markdown",
            "source": [
                ""
            ],
            "metadata": {
                "azdata_cell_guid": "4bf9bdd8-160c-4bb3-8334-5a606797390d"
            }
        },
        {
            "cell_type": "markdown",
            "source": [
                "_________________________________________________________________\r\n",
                "\r\n",
                "#### **Categorical Columns Table:**\r\n",
                "\r\n",
                "| **#** | **Column Name**                    | **Description**                                          |\r\n",
                "|-------|-------------------------------------|---------------------------------------------------------|\r\n",
                "| 1     | Gender                             | The gender of the employee (Male, Female, Non-binary)  |\r\n",
                "| 2     | BusinessTravel                     | Frequency of business travel (Rarely, Sometimes, Frequently) |\r\n",
                "| 3     | Department                         | The department the employee works in                    |\r\n",
                "| 4     | State                              | The state where the employee resides                     |\r\n",
                "| 5     | Ethnicity                          | The ethnicity of the employee                           |\r\n",
                "| 6     | EducationField                     | The field of education of the employee (e.g., Information Technology, Marketing) |\r\n",
                "| 7     | JobRole                            | The job role of the employee (e.g., Software Engineer, Sales Representative) |\r\n",
                "| 8     | MaritalStatus                      | The marital status of the employee (e.g., Married, Single) |\r\n",
                "| 9     | OverTime                           | Whether the employee works overtime (Yes or No)        |\r\n",
                "| 10     | Attrition                          | Whether the employee has left the company (Yes or No)  |\r\n",
                "| 11    | EducationLevel                     | The level of education (e.g., Bachelor's, Master's)    |\r\n",
                "| 12    | EnvironmentSatisfactionLevel       | The level of satisfaction with the work environment (Scale of 1 to 5) |\r\n",
                "| 13    | JobSatisfactionLevel               | The level of satisfaction with the job (Scale of 1 to 5) |\r\n",
                "| 14    | RelationshipSatisfactionLevel      | The level of satisfaction with workplace relationships (Scale of 1 to 5) |\r\n",
                "| 15    | WorkLifeBalanceLevel               | The level of work-life balance (Scale of 1 to 5)       |\r\n",
                "| 16    | SelfRatingLevel                    | The employee's self-rating (Scale of 1 to 5)           |\r\n",
                "| 17    | ManagerRatingLevel                 | The manager's rating of the employee (Scale of 1 to 5)  |\r\n",
                ""
            ],
            "metadata": {
                "azdata_cell_guid": "902cd4d1-3bf6-455c-a599-343c71650ec3"
            },
            "attachments": {}
        },
        {
            "cell_type": "code",
            "source": [
                "# Summary statistics of categorical\r\n",
                "df_employees[categorical_df_employees].describe(include=[object]).T\r\n",
                ""
            ],
            "metadata": {
                "azdata_cell_guid": "908d4f78-53dd-445f-8d64-4c49cdf92045",
                "language": "python",
                "tags": []
            },
            "outputs": [
                {
                    "data": {
                        "text/plain": "                              count unique                top  freq\nGender                         6899      4             Female  3171\nBusinessTravel                 6899      3        Some Travel  4871\nDepartment                     6899      3         Technology  4375\nState                          6899      3                 CA  4162\nEthnicity                      6899      7              White  3497\nEducationField                 6899      9   Computer Science  2039\nJobRole                        6899     13    Sales Executive  1567\nMaritalStatus                  6899      3            Married  2922\nAttrition                      6899      2                 No  4638\nEducationLevel                 6899      5         Bachelors   2706\nEnvironmentSatisfactionLevel   6709      5            Neutral  2211\nJobSatisfactionLevel           6709      5         Satisfied   1685\nRelationshipSatisfactionLevel  6709      5         Satisfied   1690\nWorkLifeBalanceLevel           6709      5         Satisfied   1706\nSelfRatingLevel                6709      3  Meets Expectation  2290\nManagerRatingLevel             6709      4  Meets Expectation  2223",
                        "text/html": "<div>\n<style scoped>\n    .dataframe tbody tr th:only-of-type {\n        vertical-align: middle;\n    }\n\n    .dataframe tbody tr th {\n        vertical-align: top;\n    }\n\n    .dataframe thead th {\n        text-align: right;\n    }\n</style>\n<table border=\"1\" class=\"dataframe\">\n  <thead>\n    <tr style=\"text-align: right;\">\n      <th></th>\n      <th>count</th>\n      <th>unique</th>\n      <th>top</th>\n      <th>freq</th>\n    </tr>\n  </thead>\n  <tbody>\n    <tr>\n      <th>Gender</th>\n      <td>6899</td>\n      <td>4</td>\n      <td>Female</td>\n      <td>3171</td>\n    </tr>\n    <tr>\n      <th>BusinessTravel</th>\n      <td>6899</td>\n      <td>3</td>\n      <td>Some Travel</td>\n      <td>4871</td>\n    </tr>\n    <tr>\n      <th>Department</th>\n      <td>6899</td>\n      <td>3</td>\n      <td>Technology</td>\n      <td>4375</td>\n    </tr>\n    <tr>\n      <th>State</th>\n      <td>6899</td>\n      <td>3</td>\n      <td>CA</td>\n      <td>4162</td>\n    </tr>\n    <tr>\n      <th>Ethnicity</th>\n      <td>6899</td>\n      <td>7</td>\n      <td>White</td>\n      <td>3497</td>\n    </tr>\n    <tr>\n      <th>EducationField</th>\n      <td>6899</td>\n      <td>9</td>\n      <td>Computer Science</td>\n      <td>2039</td>\n    </tr>\n    <tr>\n      <th>JobRole</th>\n      <td>6899</td>\n      <td>13</td>\n      <td>Sales Executive</td>\n      <td>1567</td>\n    </tr>\n    <tr>\n      <th>MaritalStatus</th>\n      <td>6899</td>\n      <td>3</td>\n      <td>Married</td>\n      <td>2922</td>\n    </tr>\n    <tr>\n      <th>Attrition</th>\n      <td>6899</td>\n      <td>2</td>\n      <td>No</td>\n      <td>4638</td>\n    </tr>\n    <tr>\n      <th>EducationLevel</th>\n      <td>6899</td>\n      <td>5</td>\n      <td>Bachelors</td>\n      <td>2706</td>\n    </tr>\n    <tr>\n      <th>EnvironmentSatisfactionLevel</th>\n      <td>6709</td>\n      <td>5</td>\n      <td>Neutral</td>\n      <td>2211</td>\n    </tr>\n    <tr>\n      <th>JobSatisfactionLevel</th>\n      <td>6709</td>\n      <td>5</td>\n      <td>Satisfied</td>\n      <td>1685</td>\n    </tr>\n    <tr>\n      <th>RelationshipSatisfactionLevel</th>\n      <td>6709</td>\n      <td>5</td>\n      <td>Satisfied</td>\n      <td>1690</td>\n    </tr>\n    <tr>\n      <th>WorkLifeBalanceLevel</th>\n      <td>6709</td>\n      <td>5</td>\n      <td>Satisfied</td>\n      <td>1706</td>\n    </tr>\n    <tr>\n      <th>SelfRatingLevel</th>\n      <td>6709</td>\n      <td>3</td>\n      <td>Meets Expectation</td>\n      <td>2290</td>\n    </tr>\n    <tr>\n      <th>ManagerRatingLevel</th>\n      <td>6709</td>\n      <td>4</td>\n      <td>Meets Expectation</td>\n      <td>2223</td>\n    </tr>\n  </tbody>\n</table>\n</div>"
                    },
                    "metadata": {},
                    "execution_count": 70,
                    "output_type": "execute_result"
                }
            ],
            "execution_count": 70
        },
        {
            "cell_type": "code",
            "source": [
                "# Summary statistics of categorical\r\n",
                "for cat_df in categorical_df_employees:\r\n",
                "    print(f\"Summary statistics of: {cat_df}\")\r\n",
                "    print((df_employees[cat_df].value_counts(normalize=True)*100).to_string(index=True, header=True,float_format='%.2f%%'))\r\n",
                "    print(\"\\n\")  \r\n",
                ""
            ],
            "metadata": {
                "azdata_cell_guid": "cd214abb-daa2-41fc-b7a4-328220871ab0",
                "language": "python",
                "tags": []
            },
            "outputs": [
                {
                    "name": "stdout",
                    "text": "Summary statistics of: Gender\nGender\nFemale              45.96%\nMale                44.33%\nNon-Binary           8.75%\nPrefer Not To Say    0.96%\n\n\nSummary statistics of: BusinessTravel\nBusinessTravel\nSome Travel          70.60%\nFrequent Traveller   20.21%\nNo Travel             9.19%\n\n\nSummary statistics of: Department\nDepartment\nTechnology        63.41%\nSales             32.05%\nHuman Resources    4.54%\n\n\nSummary statistics of: State\nState\nCA   60.33%\nNY   27.60%\nIL   12.07%\n\n\nSummary statistics of: Ethnicity\nEthnicity\nWhite                              50.69%\nMixed or multiple ethnic groups    15.93%\nBlack or African American          15.83%\nAsian or Asian American             9.90%\nAmerican Indian or Alaska Native    4.12%\nNative Hawaiian                     2.28%\nOther                               1.26%\n\n\nSummary statistics of: EducationField\nEducationField\nComputer Science      29.56%\nInformation Systems   23.13%\nMarketing             11.62%\nMarketing             11.42%\nBusiness Studies       6.74%\nEconomics              6.70%\nOther                  5.48%\nTechnical Degree       3.35%\nHuman Resources        2.00%\n\n\nSummary statistics of: JobRole\nJobRole\nSales Executive             22.71%\nData Scientist              20.10%\nSoftware Engineer           19.90%\nMachine Learning Engineer    8.44%\nSenior Software Engineer     7.42%\nSales Representative         7.25%\nEngineering Manager          4.45%\nAnalytics Manager            3.09%\nRecruiter                    2.20%\nManager                      2.10%\nHR Executive                 1.72%\nHR Business Partner          0.36%\nHR Manager                   0.25%\n\n\nSummary statistics of: MaritalStatus\nMaritalStatus\nMarried    42.35%\nSingle     38.37%\nDivorced   19.28%\n\n\nSummary statistics of: Attrition\nAttrition\nNo    67.23%\nYes   32.77%\n\n\nSummary statistics of: EducationLevel\nEducationLevel\nBachelors                  39.22%\nMasters                    25.19%\nHigh School                20.00%\nNo Formal Qualifications   12.42%\nDoctorate                   3.16%\n\n\nSummary statistics of: EnvironmentSatisfactionLevel\nEnvironmentSatisfactionLevel\nNeutral             32.96%\nSatisfied           32.42%\nVery Satisfied      30.50%\nDissatisfied         2.10%\nVery Dissatisfied    2.03%\n\n\nSummary statistics of: JobSatisfactionLevel\nJobSatisfactionLevel\nSatisfied           25.12%\nDissatisfied        24.95%\nNeutral             24.61%\nVery Satisfied      23.39%\nVery Dissatisfied    1.94%\n\n\nSummary statistics of: RelationshipSatisfactionLevel\nRelationshipSatisfactionLevel\nSatisfied           25.19%\nDissatisfied        25.15%\nNeutral             24.24%\nVery Satisfied      23.39%\nVery Dissatisfied    2.04%\n\n\nSummary statistics of: WorkLifeBalanceLevel\nWorkLifeBalanceLevel\nSatisfied           25.43%\nDissatisfied        25.37%\nNeutral             24.89%\nVery Satisfied      22.51%\nVery Dissatisfied    1.80%\n\n\nSummary statistics of: SelfRatingLevel\nSelfRatingLevel\nMeets Expectation      34.13%\nExceeds Expectation    33.33%\nAbove and Beyond       32.54%\n\n\nSummary statistics of: ManagerRatingLevel\nManagerRatingLevel\nMeets Expectation      33.13%\nExceeds Expectation    33.09%\nNeeds Improvement      17.77%\nAbove and Beyond       16.01%\n\n\n",
                    "output_type": "stream"
                }
            ],
            "execution_count": 52
        },
        {
            "cell_type": "markdown",
            "source": [
                ""
            ],
            "metadata": {
                "azdata_cell_guid": "dd5c719e-0da7-4ba4-8f62-ef365f8f7644"
            }
        },
        {
            "cell_type": "markdown",
            "source": [
                "__________________________________\r\n",
                "\r\n",
                "## Summary "
            ],
            "metadata": {
                "language": "python",
                "azdata_cell_guid": "74b8b8e4-4043-446e-a45a-4490d6fe65c9"
            },
            "attachments": {}
        },
        {
            "cell_type": "code",
            "source": [
                ""
            ],
            "metadata": {
                "language": "python",
                "azdata_cell_guid": "f4bd6216-852d-4e49-b9cd-465815fa0b0d"
            },
            "outputs": [],
            "execution_count": null
        },
        {
            "cell_type": "markdown",
            "source": [
                ""
            ],
            "metadata": {
                "language": "python",
                "azdata_cell_guid": "bfd238c3-af20-449f-940b-8af13294df90"
            }
        },
        {
            "cell_type": "code",
            "source": [
                ""
            ],
            "metadata": {
                "language": "python",
                "azdata_cell_guid": "d9893787-809c-4c7a-aca7-f12fc5d421c1"
            },
            "outputs": [],
            "execution_count": null
        },
        {
            "cell_type": "markdown",
            "source": [
                ""
            ],
            "metadata": {
                "language": "python",
                "azdata_cell_guid": "6954b39c-7b55-4bb8-aab5-9fcc76da21b8"
            }
        },
        {
            "cell_type": "markdown",
            "source": [
                "____________________________"
            ],
            "metadata": {
                "azdata_cell_guid": "5e111d45-1919-49db-80aa-fbb6346b3ceb"
            }
        },
        {
            "cell_type": "markdown",
            "source": [
                "____________________________"
            ],
            "metadata": {
                "azdata_cell_guid": "84db67ca-4887-4e2f-bb2c-9f76b66f5849"
            }
        },
        {
            "cell_type": "markdown",
            "source": [
                "__________________________"
            ],
            "metadata": {
                "azdata_cell_guid": "79d28b0d-04f5-43ef-90a0-0c3cd842a66b"
            }
        },
        {
            "cell_type": "markdown",
            "source": [
                "__________________________"
            ],
            "metadata": {
                "azdata_cell_guid": "f04559b5-033b-4009-ae39-7f1e401ae72c"
            }
        },
        {
            "cell_type": "markdown",
            "source": [
                "## PerformanceRating"
            ],
            "metadata": {
                "azdata_cell_guid": "23498fdf-3b48-4f2d-8878-cac3b5558994"
            },
            "attachments": {}
        },
        {
            "cell_type": "markdown",
            "source": [
                "# Summary statistics"
            ],
            "metadata": {
                "azdata_cell_guid": "82a1fb6a-cdf8-4e3c-a955-698b624c2b1b"
            },
            "attachments": {}
        },
        {
            "cell_type": "markdown",
            "source": [
                "____________________________\r\n",
                ""
            ],
            "metadata": {
                "language": "python",
                "azdata_cell_guid": "fca080b2-ead5-46de-b0e3-b8dad8ea73d6"
            },
            "attachments": {}
        },
        {
            "cell_type": "markdown",
            "source": [
                "____________________________\r\n",
                ""
            ],
            "metadata": {
                "language": "python",
                "azdata_cell_guid": "e0a92818-a40b-4090-8fc5-28f3e5494e73"
            },
            "attachments": {}
        },
        {
            "cell_type": "markdown",
            "source": [
                "____________________________"
            ],
            "metadata": {
                "language": "python",
                "azdata_cell_guid": "3cafa1a1-f536-469d-9771-90c41231e747"
            },
            "attachments": {}
        },
        {
            "cell_type": "markdown",
            "source": [
                "_____________________________________"
            ],
            "metadata": {
                "azdata_cell_guid": "3ef7326f-0257-48f1-b93b-f39335d0b907"
            }
        },
        {
            "cell_type": "markdown",
            "source": [
                "## (2) Data Cleaning:\n",
                "After building the data model, we proceeded with data cleaning and preprocessing. Here’s a summary of the key observations:\n",
                "\n",
                "- The data had no missing values or unusual entries across all tables. Each field, such as age, salary, and years of experience, showed values within expected ranges.\n",
                "- Data entries for categorical variables like gender, marital status, and job roles were consistent without any spelling or formatting issues.\n",
                "- Date fields, such as the employee `HireDate` and `ReviewDate` in the performance review table, were in the correct format and adhered to the expected chronological order.\n",
                "- Numeric fields, including `Salary`, `YearsAtCompany`, and `DistanceFromHome`, were confirmed to contain only valid numbers without any outliers or inconsistent values.\n",
                "\n",
                "## Conclusion:\n",
                "The dataset was thoroughly examined and found to be clean, consistent, and aligned with the designed data model. There were no missing values, illogical entries, or repeated values, ensuring data integrity across all tables. \n",
                "\n",
                "\n",
                "- **Python (pandas, Matplotlib)**: For detailed data Cleaning and visual inspection."
            ],
            "metadata": {
                "azdata_cell_guid": "7256265f-33ab-4a3d-b69a-6094a65201b9"
            },
            "attachments": {}
        },
        {
            "cell_type": "markdown",
            "source": [
                "# END"
            ],
            "metadata": {
                "azdata_cell_guid": "f223fbea-4fdd-44a9-9b50-a6fb5c35b668"
            }
        }
    ]
}