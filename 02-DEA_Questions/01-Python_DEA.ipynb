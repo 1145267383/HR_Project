{
    "metadata": {
        "kernelspec": {
            "name": "python3",
            "display_name": "Python 3",
            "language": "python"
        },
        "language_info": {
            "name": "python",
            "version": "3.11.10",
            "mimetype": "text/x-python",
            "codemirror_mode": {
                "name": "ipython",
                "version": 3
            },
            "pygments_lexer": "ipython3",
            "nbconvert_exporter": "python",
            "file_extension": ".py"
        }
    },
    "nbformat_minor": 2,
    "nbformat": 4,
    "cells": [
        {
            "cell_type": "markdown",
            "source": [
                "# Project: Human Resources Dataset Analysis\n",
                "\n",
                "## Week 2: (1) Exploratory Data Analysis (EDA) And Determine Data Analysis Questions"
            ],
            "metadata": {
                "azdata_cell_guid": "03683ed5-6374-4424-80d2-4db3f3fd702d"
            },
            "attachments": {}
        },
        {
            "cell_type": "code",
            "source": [
                "# import Libraries\n",
                "import numpy as np\n",
                "import pandas as pd\n",
                "import plotly.express as px\n",
                "import matplotlib.pyplot as plt\n",
                "import seaborn as sns\n",
                "import pyodbc\n",
                "\n",
                "pd.options.display.max_rows = None\n",
                "\n",
                "pd.options.display.max_columns = None\n",
                "sns.set()\n"
            ],
            "metadata": {
                "azdata_cell_guid": "c6a4114d-8aa6-4495-a18e-0100b06c1ee1",
                "language": "python",
                "tags": []
            },
            "outputs": [],
            "execution_count": 53
        },
        {
            "cell_type": "code",
            "source": [
                "import pyodbc\n",
                "import pandas as pd\n",
                "\n",
                "def read_sql_query(query):\n",
                "    \n",
                "    server = 'DESKTOP-0CQ5N9B' \n",
                "    database = 'HR_system' \n",
                "    \n",
                "    # SQL Authentication\n",
                "    connection_string = (\n",
                "        f\"Driver={{ODBC Driver 17 for SQL Server}};\" \n",
                "        f\"Server={server};\" \n",
                "        f\"Database={database};\"\n",
                "        f\"Trusted_Connection=yes;\" \n",
                "    )\n",
                "\n",
                "    # Creating connection\n",
                "    try:\n",
                "        connection = pyodbc.connect(connection_string) \n",
                "        print(\"Connection successful!\")\n",
                "\n",
                "        # Use cursor to execute query\n",
                "        cursor = connection.cursor()\n",
                "        cursor.execute(query)\n",
                "        \n",
                "        # Get results\n",
                "        rows = cursor.fetchall()\n",
                "        columns = [column[0] for column in cursor.description] \n",
                "        \n",
                "        # Creating DataFrame\n",
                "        df = pd.DataFrame.from_records(rows, columns=columns)\n",
                "\n",
                "        return df\n",
                "\n",
                "    except Exception as e:\n",
                "        print(f\"Error: {e}\")\n",
                "        return None  \n",
                "    \n",
                "    finally:\n",
                "        # close connection\n",
                "        if 'connection' in locals():  \n",
                "            connection.close()\n",
                ""
            ],
            "metadata": {
                "scrolled": true,
                "azdata_cell_guid": "4cf0de89-3971-49ea-b03a-b774c6b63e06",
                "language": "python",
                "tags": []
            },
            "outputs": [],
            "execution_count": 55
        },
        {
            "cell_type": "markdown",
            "source": [
                "### Employees:"
            ],
            "metadata": {
                "azdata_cell_guid": "c2e2f6e0-c35e-4524-93d5-e9f0826a8e9d"
            }
        },
        {
            "cell_type": "code",
            "source": [
                "pth= \"../00-Dataset_Data_Model/\"\n",
                "# employees = pd.read_csv(f\"{pth}01-Employees.csv\")\n",
                "# educationlevels = pd.read_csv(f\"{pth}03-EducationLevels.csv\")\n",
                "\n",
                "\n",
                "## Load Dataset of Employees with EducationLevels as categories\n",
                "query = \"\"\" \n",
                "SELECT \n",
                "    E.*,\n",
                "    EL.EducationLevel AS EducationLevel\n",
                "FROM \n",
                "    Employees E\n",
                "LEFT JOIN \n",
                "    EducationLevels EL ON E.Education = EL.EducationLevelID;\n",
                "\"\"\"\n",
                "employees = read_sql_query(query)\n",
                "\n",
                "employees.head()"
            ],
            "metadata": {
                "azdata_cell_guid": "24640029-a944-4619-8347-04ae158fa423",
                "language": "python"
            },
            "outputs": [
                {
                    "name": "stdout",
                    "text": "Connection successful!\n",
                    "output_type": "stream"
                },
                {
                    "data": {
                        "text/plain": "  EmployeeID FirstName      LastName      Gender  Age      BusinessTravel  \\\n0  001A-8F88   Christy         Jumel        Male   22         Some Travel   \n1  005C-E0FB       Fin  O'Halleghane  Non-Binary   24  Frequent Traveller   \n2  00A3-2445     Wyatt         Ziehm        Male   30         Some Travel   \n3  00B0-F199   Trueman       Jirasek        Male   23         Some Travel   \n4  00D4-DD53     Joyce          Goor      Female   30  Frequent Traveller   \n\n   Department  DistanceFromHome State                  Ethnicity  Education  \\\n0  Technology                40    CA                      White          4   \n1       Sales                17    CA                      White          4   \n2  Technology                 6    CA  Black or African American          2   \n3       Sales                35    CA                      White          1   \n4  Technology                44    CA  Black or African American          1   \n\n        EducationField                    JobRole MaritalStatus     Salary  \\\n0  Information Systems          Software Engineer       Married   27763.00   \n1           Marketing             Sales Executive       Married   56155.00   \n2     Computer Science  Machine Learning Engineer       Married  126238.00   \n3           Marketing             Sales Executive       Married   97824.00   \n4     Computer Science          Software Engineer        Single   68508.00   \n\n   StockOptionLevel OverTime    HireDate Attrition  YearsAtCompany  \\\n0                 0       No  2021-09-05        No               1   \n1                 1       No  2017-08-26        No               5   \n2                 0       No  2012-03-08        No              10   \n3                 1      Yes  2020-03-16       Yes               1   \n4                 0      Yes  2012-01-28       Yes               5   \n\n   YearsInMostRecentRole  YearsSinceLastPromotion  YearsWithCurrManager  \\\n0                      0                        1                     0   \n1                      2                        2                     0   \n2                      3                        6                     6   \n3                      0                        1                     0   \n4                      4                        4                     4   \n\n             EducationLevel  \n0                  Masters   \n1                  Masters   \n2              High School   \n3  No Formal Qualifications  \n4  No Formal Qualifications  ",
                        "text/html": "<div>\n<style scoped>\n    .dataframe tbody tr th:only-of-type {\n        vertical-align: middle;\n    }\n\n    .dataframe tbody tr th {\n        vertical-align: top;\n    }\n\n    .dataframe thead th {\n        text-align: right;\n    }\n</style>\n<table border=\"1\" class=\"dataframe\">\n  <thead>\n    <tr style=\"text-align: right;\">\n      <th></th>\n      <th>EmployeeID</th>\n      <th>FirstName</th>\n      <th>LastName</th>\n      <th>Gender</th>\n      <th>Age</th>\n      <th>BusinessTravel</th>\n      <th>Department</th>\n      <th>DistanceFromHome</th>\n      <th>State</th>\n      <th>Ethnicity</th>\n      <th>Education</th>\n      <th>EducationField</th>\n      <th>JobRole</th>\n      <th>MaritalStatus</th>\n      <th>Salary</th>\n      <th>StockOptionLevel</th>\n      <th>OverTime</th>\n      <th>HireDate</th>\n      <th>Attrition</th>\n      <th>YearsAtCompany</th>\n      <th>YearsInMostRecentRole</th>\n      <th>YearsSinceLastPromotion</th>\n      <th>YearsWithCurrManager</th>\n      <th>EducationLevel</th>\n    </tr>\n  </thead>\n  <tbody>\n    <tr>\n      <th>0</th>\n      <td>001A-8F88</td>\n      <td>Christy</td>\n      <td>Jumel</td>\n      <td>Male</td>\n      <td>22</td>\n      <td>Some Travel</td>\n      <td>Technology</td>\n      <td>40</td>\n      <td>CA</td>\n      <td>White</td>\n      <td>4</td>\n      <td>Information Systems</td>\n      <td>Software Engineer</td>\n      <td>Married</td>\n      <td>27763.00</td>\n      <td>0</td>\n      <td>No</td>\n      <td>2021-09-05</td>\n      <td>No</td>\n      <td>1</td>\n      <td>0</td>\n      <td>1</td>\n      <td>0</td>\n      <td>Masters</td>\n    </tr>\n    <tr>\n      <th>1</th>\n      <td>005C-E0FB</td>\n      <td>Fin</td>\n      <td>O'Halleghane</td>\n      <td>Non-Binary</td>\n      <td>24</td>\n      <td>Frequent Traveller</td>\n      <td>Sales</td>\n      <td>17</td>\n      <td>CA</td>\n      <td>White</td>\n      <td>4</td>\n      <td>Marketing</td>\n      <td>Sales Executive</td>\n      <td>Married</td>\n      <td>56155.00</td>\n      <td>1</td>\n      <td>No</td>\n      <td>2017-08-26</td>\n      <td>No</td>\n      <td>5</td>\n      <td>2</td>\n      <td>2</td>\n      <td>0</td>\n      <td>Masters</td>\n    </tr>\n    <tr>\n      <th>2</th>\n      <td>00A3-2445</td>\n      <td>Wyatt</td>\n      <td>Ziehm</td>\n      <td>Male</td>\n      <td>30</td>\n      <td>Some Travel</td>\n      <td>Technology</td>\n      <td>6</td>\n      <td>CA</td>\n      <td>Black or African American</td>\n      <td>2</td>\n      <td>Computer Science</td>\n      <td>Machine Learning Engineer</td>\n      <td>Married</td>\n      <td>126238.00</td>\n      <td>0</td>\n      <td>No</td>\n      <td>2012-03-08</td>\n      <td>No</td>\n      <td>10</td>\n      <td>3</td>\n      <td>6</td>\n      <td>6</td>\n      <td>High School</td>\n    </tr>\n    <tr>\n      <th>3</th>\n      <td>00B0-F199</td>\n      <td>Trueman</td>\n      <td>Jirasek</td>\n      <td>Male</td>\n      <td>23</td>\n      <td>Some Travel</td>\n      <td>Sales</td>\n      <td>35</td>\n      <td>CA</td>\n      <td>White</td>\n      <td>1</td>\n      <td>Marketing</td>\n      <td>Sales Executive</td>\n      <td>Married</td>\n      <td>97824.00</td>\n      <td>1</td>\n      <td>Yes</td>\n      <td>2020-03-16</td>\n      <td>Yes</td>\n      <td>1</td>\n      <td>0</td>\n      <td>1</td>\n      <td>0</td>\n      <td>No Formal Qualifications</td>\n    </tr>\n    <tr>\n      <th>4</th>\n      <td>00D4-DD53</td>\n      <td>Joyce</td>\n      <td>Goor</td>\n      <td>Female</td>\n      <td>30</td>\n      <td>Frequent Traveller</td>\n      <td>Technology</td>\n      <td>44</td>\n      <td>CA</td>\n      <td>Black or African American</td>\n      <td>1</td>\n      <td>Computer Science</td>\n      <td>Software Engineer</td>\n      <td>Single</td>\n      <td>68508.00</td>\n      <td>0</td>\n      <td>Yes</td>\n      <td>2012-01-28</td>\n      <td>Yes</td>\n      <td>5</td>\n      <td>4</td>\n      <td>4</td>\n      <td>4</td>\n      <td>No Formal Qualifications</td>\n    </tr>\n  </tbody>\n</table>\n</div>"
                    },
                    "metadata": {},
                    "execution_count": 73,
                    "output_type": "execute_result"
                }
            ],
            "execution_count": 73
        },
        {
            "cell_type": "code",
            "source": [
                "# Display employees data information\r\n",
                "employees.info()\r\n",
                ""
            ],
            "metadata": {
                "azdata_cell_guid": "3f0ea093-2c91-4723-8e23-df783a3239e6",
                "language": "python",
                "scrolled": false,
                "tags": [
                    "hide_input"
                ]
            },
            "outputs": [
                {
                    "output_type": "stream",
                    "name": "stdout",
                    "text": "<class 'pandas.core.frame.DataFrame'>\nRangeIndex: 1470 entries, 0 to 1469\nData columns (total 23 columns):\n #   Column                   Non-Null Count  Dtype \n---  ------                   --------------  ----- \n 0   EmployeeID               1470 non-null   object\n 1   FirstName                1470 non-null   object\n 2   LastName                 1470 non-null   object\n 3   Gender                   1470 non-null   object\n 4   Age                      1470 non-null   int64 \n 5   BusinessTravel           1470 non-null   object\n 6   Department               1470 non-null   object\n 7   DistanceFromHome (KM)    1470 non-null   int64 \n 8   State                    1470 non-null   object\n 9   Ethnicity                1470 non-null   object\n 10  Education                1470 non-null   int64 \n 11  EducationField           1470 non-null   object\n 12  JobRole                  1470 non-null   object\n 13  MaritalStatus            1470 non-null   object\n 14  Salary                   1470 non-null   int64 \n 15  StockOptionLevel         1470 non-null   int64 \n 16  OverTime                 1470 non-null   object\n 17  HireDate                 1470 non-null   object\n 18  Attrition                1470 non-null   object\n 19  YearsAtCompany           1470 non-null   int64 \n 20  YearsInMostRecentRole    1470 non-null   int64 \n 21  YearsSinceLastPromotion  1470 non-null   int64 \n 22  YearsWithCurrManager     1470 non-null   int64 \ndtypes: int64(9), object(14)\nmemory usage: 264.3+ KB\n"
                }
            ],
            "execution_count": 9
        },
        {
            "cell_type": "code",
            "source": [
                "# Summary statistics\r\n",
                "employees.describe()\r\n",
                ""
            ],
            "metadata": {
                "scrolled": true,
                "azdata_cell_guid": "9b177afc-fd94-4b9d-a393-8c4e6ee1497b",
                "language": "python"
            },
            "outputs": [
                {
                    "data": {
                        "text/plain": "               Age  DistanceFromHome    Education  StockOptionLevel  \\\ncount  1470.000000       1470.000000  1470.000000       1470.000000   \nmean     28.989796         22.502721     2.912925          0.793878   \nstd       7.993055         12.811124     1.024165          0.852077   \nmin      18.000000          1.000000     1.000000          0.000000   \n25%      23.000000         12.000000     2.000000          0.000000   \n50%      26.000000         22.000000     3.000000          1.000000   \n75%      34.000000         33.000000     4.000000          1.000000   \nmax      51.000000         45.000000     5.000000          3.000000   \n\n       YearsAtCompany  YearsInMostRecentRole  YearsSinceLastPromotion  \\\ncount     1470.000000            1470.000000              1470.000000   \nmean         4.562585               2.293197                 3.440816   \nstd          3.288048               2.539093                 2.945194   \nmin          0.000000               0.000000                 0.000000   \n25%          2.000000               0.000000                 1.000000   \n50%          4.000000               1.000000                 3.000000   \n75%          7.000000               4.000000                 6.000000   \nmax         10.000000              10.000000                10.000000   \n\n       YearsWithCurrManager  \ncount           1470.000000  \nmean               2.239456  \nstd                2.505774  \nmin                0.000000  \n25%                0.000000  \n50%                1.000000  \n75%                4.000000  \nmax               10.000000  ",
                        "text/html": "<div>\n<style scoped>\n    .dataframe tbody tr th:only-of-type {\n        vertical-align: middle;\n    }\n\n    .dataframe tbody tr th {\n        vertical-align: top;\n    }\n\n    .dataframe thead th {\n        text-align: right;\n    }\n</style>\n<table border=\"1\" class=\"dataframe\">\n  <thead>\n    <tr style=\"text-align: right;\">\n      <th></th>\n      <th>Age</th>\n      <th>DistanceFromHome</th>\n      <th>Education</th>\n      <th>StockOptionLevel</th>\n      <th>YearsAtCompany</th>\n      <th>YearsInMostRecentRole</th>\n      <th>YearsSinceLastPromotion</th>\n      <th>YearsWithCurrManager</th>\n    </tr>\n  </thead>\n  <tbody>\n    <tr>\n      <th>count</th>\n      <td>1470.000000</td>\n      <td>1470.000000</td>\n      <td>1470.000000</td>\n      <td>1470.000000</td>\n      <td>1470.000000</td>\n      <td>1470.000000</td>\n      <td>1470.000000</td>\n      <td>1470.000000</td>\n    </tr>\n    <tr>\n      <th>mean</th>\n      <td>28.989796</td>\n      <td>22.502721</td>\n      <td>2.912925</td>\n      <td>0.793878</td>\n      <td>4.562585</td>\n      <td>2.293197</td>\n      <td>3.440816</td>\n      <td>2.239456</td>\n    </tr>\n    <tr>\n      <th>std</th>\n      <td>7.993055</td>\n      <td>12.811124</td>\n      <td>1.024165</td>\n      <td>0.852077</td>\n      <td>3.288048</td>\n      <td>2.539093</td>\n      <td>2.945194</td>\n      <td>2.505774</td>\n    </tr>\n    <tr>\n      <th>min</th>\n      <td>18.000000</td>\n      <td>1.000000</td>\n      <td>1.000000</td>\n      <td>0.000000</td>\n      <td>0.000000</td>\n      <td>0.000000</td>\n      <td>0.000000</td>\n      <td>0.000000</td>\n    </tr>\n    <tr>\n      <th>25%</th>\n      <td>23.000000</td>\n      <td>12.000000</td>\n      <td>2.000000</td>\n      <td>0.000000</td>\n      <td>2.000000</td>\n      <td>0.000000</td>\n      <td>1.000000</td>\n      <td>0.000000</td>\n    </tr>\n    <tr>\n      <th>50%</th>\n      <td>26.000000</td>\n      <td>22.000000</td>\n      <td>3.000000</td>\n      <td>1.000000</td>\n      <td>4.000000</td>\n      <td>1.000000</td>\n      <td>3.000000</td>\n      <td>1.000000</td>\n    </tr>\n    <tr>\n      <th>75%</th>\n      <td>34.000000</td>\n      <td>33.000000</td>\n      <td>4.000000</td>\n      <td>1.000000</td>\n      <td>7.000000</td>\n      <td>4.000000</td>\n      <td>6.000000</td>\n      <td>4.000000</td>\n    </tr>\n    <tr>\n      <th>max</th>\n      <td>51.000000</td>\n      <td>45.000000</td>\n      <td>5.000000</td>\n      <td>3.000000</td>\n      <td>10.000000</td>\n      <td>10.000000</td>\n      <td>10.000000</td>\n      <td>10.000000</td>\n    </tr>\n  </tbody>\n</table>\n</div>"
                    },
                    "metadata": {},
                    "execution_count": 76,
                    "output_type": "execute_result"
                }
            ],
            "execution_count": 76
        },
        {
            "cell_type": "markdown",
            "source": [
                "____________________________"
            ],
            "metadata": {
                "azdata_cell_guid": "5e111d45-1919-49db-80aa-fbb6346b3ceb"
            }
        },
        {
            "cell_type": "markdown",
            "source": [
                "____________________________"
            ],
            "metadata": {
                "azdata_cell_guid": "84db67ca-4887-4e2f-bb2c-9f76b66f5849"
            }
        },
        {
            "cell_type": "markdown",
            "source": [
                "__________________________"
            ],
            "metadata": {
                "azdata_cell_guid": "79d28b0d-04f5-43ef-90a0-0c3cd842a66b"
            }
        },
        {
            "cell_type": "markdown",
            "source": [
                "__________________________"
            ],
            "metadata": {
                "azdata_cell_guid": "f04559b5-033b-4009-ae39-7f1e401ae72c"
            }
        },
        {
            "cell_type": "markdown",
            "source": [
                "### PerformanceRating:"
            ],
            "metadata": {
                "azdata_cell_guid": "23498fdf-3b48-4f2d-8878-cac3b5558994"
            }
        },
        {
            "cell_type": "code",
            "source": [
                "# Reading Dataset of PerformanceRating.\n",
                "#performancerating = pd.read_csv(f\"{pth}02-PerformanceRating.csv\")\n",
                "#satisfactionlevels = pd.read_csv(f\"{pth}04-SatisfactionLevels.csv\")\n",
                "#ratinglevels = pd.read_csv(f\"{pth}05-RatingLevels.csv\")\n",
                "\n",
                "\n",
                "## Load Dataset of PerformanceRating with SatisfactionLevels and RatingLevels as categories\n",
                "query = \"\"\" \n",
                "SELECT \n",
                "    PR.*,\n",
                "    SL1.SatisfactionLevel AS EnvironmentSatisfaction,\n",
                "    SL2.SatisfactionLevel AS JobSatisfaction,\n",
                "    SL3.SatisfactionLevel AS RelationshipSatisfaction,\n",
                "    SL4.SatisfactionLevel AS WorkLifeBalance,\n",
                "    RL1.RatingLevel AS SelfRating,\n",
                "    RL2.RatingLevel AS ManagerRating\n",
                "FROM \n",
                "    PerformanceRating PR\n",
                "LEFT JOIN \n",
                "    SatisfactionLevels SL1 ON PR.EnvironmentSatisfaction = SL1.SatisfactionID\n",
                "LEFT JOIN \n",
                "    SatisfactionLevels SL2 ON PR.JobSatisfaction = SL2.SatisfactionID\n",
                "LEFT JOIN \n",
                "    SatisfactionLevels SL3 ON PR.RelationshipSatisfaction = SL3.SatisfactionID\n",
                "LEFT JOIN \n",
                "    SatisfactionLevels SL4 ON PR.WorkLifeBalance = SL4.SatisfactionID\n",
                "LEFT JOIN \n",
                "    RatingLevels RL1 ON PR.SelfRating = RL1.RatingID\n",
                "LEFT JOIN \n",
                "    RatingLevels RL2 ON PR.ManagerRating = RL2.RatingID;\n",
                "\"\"\"\n",
                "performancerating = read_sql_query(query)\n",
                "\n",
                "performancerating.head()"
            ],
            "metadata": {
                "scrolled": true,
                "azdata_cell_guid": "917bf43d-0c3a-45c2-adbd-82513396e4ec",
                "language": "python",
                "tags": []
            },
            "outputs": [
                {
                    "name": "stdout",
                    "text": "Connection successful!\n",
                    "output_type": "stream"
                },
                {
                    "data": {
                        "text/plain": "  PerformanceID EmployeeID  ReviewDate EnvironmentSatisfaction  \\\n0          PR01  79F7-78EC  2013-01-02                       5   \n1          PR02  B61E-0F26  2013-01-03                       5   \n2          PR03  F5E3-48BB  2013-01-03                       3   \n3          PR04  0678-748A  2013-01-04                       5   \n4          PR05  541F-3E19  2013-01-04                       5   \n\n  JobSatisfaction RelationshipSatisfaction  TrainingOpportunitiesWithinYear  \\\n0               4                        5                                1   \n1               4                        4                                1   \n2               4                        5                                3   \n3               3                        2                                2   \n4               2                        3                                1   \n\n   TrainingOpportunitiesTaken WorkLifeBalance SelfRating ManagerRating  \\\n0                           0               4          4             4   \n1                           3               4          4             3   \n2                           2               3          5             4   \n3                           0               2          3             2   \n4                           0               4          4             3   \n\n  EnvironmentSatisfaction JobSatisfaction RelationshipSatisfaction  \\\n0          Very Satisfied      Satisfied            Very Satisfied   \n1          Very Satisfied      Satisfied                Satisfied    \n2                 Neutral      Satisfied            Very Satisfied   \n3          Very Satisfied         Neutral             Dissatisfied   \n4          Very Satisfied    Dissatisfied                  Neutral   \n\n  WorkLifeBalance            SelfRating         ManagerRating  \n0      Satisfied   Exceeds Expectation   Exceeds Expectation   \n1      Satisfied   Exceeds Expectation      Meets Expectation  \n2         Neutral      Above and Beyond  Exceeds Expectation   \n3    Dissatisfied     Meets Expectation     Needs Improvement  \n4      Satisfied   Exceeds Expectation      Meets Expectation  ",
                        "text/html": "<div>\n<style scoped>\n    .dataframe tbody tr th:only-of-type {\n        vertical-align: middle;\n    }\n\n    .dataframe tbody tr th {\n        vertical-align: top;\n    }\n\n    .dataframe thead th {\n        text-align: right;\n    }\n</style>\n<table border=\"1\" class=\"dataframe\">\n  <thead>\n    <tr style=\"text-align: right;\">\n      <th></th>\n      <th>PerformanceID</th>\n      <th>EmployeeID</th>\n      <th>ReviewDate</th>\n      <th>EnvironmentSatisfaction</th>\n      <th>JobSatisfaction</th>\n      <th>RelationshipSatisfaction</th>\n      <th>TrainingOpportunitiesWithinYear</th>\n      <th>TrainingOpportunitiesTaken</th>\n      <th>WorkLifeBalance</th>\n      <th>SelfRating</th>\n      <th>ManagerRating</th>\n      <th>EnvironmentSatisfaction</th>\n      <th>JobSatisfaction</th>\n      <th>RelationshipSatisfaction</th>\n      <th>WorkLifeBalance</th>\n      <th>SelfRating</th>\n      <th>ManagerRating</th>\n    </tr>\n  </thead>\n  <tbody>\n    <tr>\n      <th>0</th>\n      <td>PR01</td>\n      <td>79F7-78EC</td>\n      <td>2013-01-02</td>\n      <td>5</td>\n      <td>4</td>\n      <td>5</td>\n      <td>1</td>\n      <td>0</td>\n      <td>4</td>\n      <td>4</td>\n      <td>4</td>\n      <td>Very Satisfied</td>\n      <td>Satisfied</td>\n      <td>Very Satisfied</td>\n      <td>Satisfied</td>\n      <td>Exceeds Expectation</td>\n      <td>Exceeds Expectation</td>\n    </tr>\n    <tr>\n      <th>1</th>\n      <td>PR02</td>\n      <td>B61E-0F26</td>\n      <td>2013-01-03</td>\n      <td>5</td>\n      <td>4</td>\n      <td>4</td>\n      <td>1</td>\n      <td>3</td>\n      <td>4</td>\n      <td>4</td>\n      <td>3</td>\n      <td>Very Satisfied</td>\n      <td>Satisfied</td>\n      <td>Satisfied</td>\n      <td>Satisfied</td>\n      <td>Exceeds Expectation</td>\n      <td>Meets Expectation</td>\n    </tr>\n    <tr>\n      <th>2</th>\n      <td>PR03</td>\n      <td>F5E3-48BB</td>\n      <td>2013-01-03</td>\n      <td>3</td>\n      <td>4</td>\n      <td>5</td>\n      <td>3</td>\n      <td>2</td>\n      <td>3</td>\n      <td>5</td>\n      <td>4</td>\n      <td>Neutral</td>\n      <td>Satisfied</td>\n      <td>Very Satisfied</td>\n      <td>Neutral</td>\n      <td>Above and Beyond</td>\n      <td>Exceeds Expectation</td>\n    </tr>\n    <tr>\n      <th>3</th>\n      <td>PR04</td>\n      <td>0678-748A</td>\n      <td>2013-01-04</td>\n      <td>5</td>\n      <td>3</td>\n      <td>2</td>\n      <td>2</td>\n      <td>0</td>\n      <td>2</td>\n      <td>3</td>\n      <td>2</td>\n      <td>Very Satisfied</td>\n      <td>Neutral</td>\n      <td>Dissatisfied</td>\n      <td>Dissatisfied</td>\n      <td>Meets Expectation</td>\n      <td>Needs Improvement</td>\n    </tr>\n    <tr>\n      <th>4</th>\n      <td>PR05</td>\n      <td>541F-3E19</td>\n      <td>2013-01-04</td>\n      <td>5</td>\n      <td>2</td>\n      <td>3</td>\n      <td>1</td>\n      <td>0</td>\n      <td>4</td>\n      <td>4</td>\n      <td>3</td>\n      <td>Very Satisfied</td>\n      <td>Dissatisfied</td>\n      <td>Neutral</td>\n      <td>Satisfied</td>\n      <td>Exceeds Expectation</td>\n      <td>Meets Expectation</td>\n    </tr>\n  </tbody>\n</table>\n</div>"
                    },
                    "metadata": {},
                    "execution_count": 75,
                    "output_type": "execute_result"
                }
            ],
            "execution_count": 75
        },
        {
            "cell_type": "code",
            "source": [
                "# Summary statistics\r\n",
                "employees.describe()\r\n",
                ""
            ],
            "metadata": {
                "azdata_cell_guid": "31d90f29-f9a0-4b57-949b-8e5b24265ca6",
                "language": "python"
            },
            "outputs": [
                {
                    "data": {
                        "text/plain": "               Age  DistanceFromHome    Education  StockOptionLevel  \\\ncount  1470.000000       1470.000000  1470.000000       1470.000000   \nmean     28.989796         22.502721     2.912925          0.793878   \nstd       7.993055         12.811124     1.024165          0.852077   \nmin      18.000000          1.000000     1.000000          0.000000   \n25%      23.000000         12.000000     2.000000          0.000000   \n50%      26.000000         22.000000     3.000000          1.000000   \n75%      34.000000         33.000000     4.000000          1.000000   \nmax      51.000000         45.000000     5.000000          3.000000   \n\n       YearsAtCompany  YearsInMostRecentRole  YearsSinceLastPromotion  \\\ncount     1470.000000            1470.000000              1470.000000   \nmean         4.562585               2.293197                 3.440816   \nstd          3.288048               2.539093                 2.945194   \nmin          0.000000               0.000000                 0.000000   \n25%          2.000000               0.000000                 1.000000   \n50%          4.000000               1.000000                 3.000000   \n75%          7.000000               4.000000                 6.000000   \nmax         10.000000              10.000000                10.000000   \n\n       YearsWithCurrManager  \ncount           1470.000000  \nmean               2.239456  \nstd                2.505774  \nmin                0.000000  \n25%                0.000000  \n50%                1.000000  \n75%                4.000000  \nmax               10.000000  ",
                        "text/html": "<div>\n<style scoped>\n    .dataframe tbody tr th:only-of-type {\n        vertical-align: middle;\n    }\n\n    .dataframe tbody tr th {\n        vertical-align: top;\n    }\n\n    .dataframe thead th {\n        text-align: right;\n    }\n</style>\n<table border=\"1\" class=\"dataframe\">\n  <thead>\n    <tr style=\"text-align: right;\">\n      <th></th>\n      <th>Age</th>\n      <th>DistanceFromHome</th>\n      <th>Education</th>\n      <th>StockOptionLevel</th>\n      <th>YearsAtCompany</th>\n      <th>YearsInMostRecentRole</th>\n      <th>YearsSinceLastPromotion</th>\n      <th>YearsWithCurrManager</th>\n    </tr>\n  </thead>\n  <tbody>\n    <tr>\n      <th>count</th>\n      <td>1470.000000</td>\n      <td>1470.000000</td>\n      <td>1470.000000</td>\n      <td>1470.000000</td>\n      <td>1470.000000</td>\n      <td>1470.000000</td>\n      <td>1470.000000</td>\n      <td>1470.000000</td>\n    </tr>\n    <tr>\n      <th>mean</th>\n      <td>28.989796</td>\n      <td>22.502721</td>\n      <td>2.912925</td>\n      <td>0.793878</td>\n      <td>4.562585</td>\n      <td>2.293197</td>\n      <td>3.440816</td>\n      <td>2.239456</td>\n    </tr>\n    <tr>\n      <th>std</th>\n      <td>7.993055</td>\n      <td>12.811124</td>\n      <td>1.024165</td>\n      <td>0.852077</td>\n      <td>3.288048</td>\n      <td>2.539093</td>\n      <td>2.945194</td>\n      <td>2.505774</td>\n    </tr>\n    <tr>\n      <th>min</th>\n      <td>18.000000</td>\n      <td>1.000000</td>\n      <td>1.000000</td>\n      <td>0.000000</td>\n      <td>0.000000</td>\n      <td>0.000000</td>\n      <td>0.000000</td>\n      <td>0.000000</td>\n    </tr>\n    <tr>\n      <th>25%</th>\n      <td>23.000000</td>\n      <td>12.000000</td>\n      <td>2.000000</td>\n      <td>0.000000</td>\n      <td>2.000000</td>\n      <td>0.000000</td>\n      <td>1.000000</td>\n      <td>0.000000</td>\n    </tr>\n    <tr>\n      <th>50%</th>\n      <td>26.000000</td>\n      <td>22.000000</td>\n      <td>3.000000</td>\n      <td>1.000000</td>\n      <td>4.000000</td>\n      <td>1.000000</td>\n      <td>3.000000</td>\n      <td>1.000000</td>\n    </tr>\n    <tr>\n      <th>75%</th>\n      <td>34.000000</td>\n      <td>33.000000</td>\n      <td>4.000000</td>\n      <td>1.000000</td>\n      <td>7.000000</td>\n      <td>4.000000</td>\n      <td>6.000000</td>\n      <td>4.000000</td>\n    </tr>\n    <tr>\n      <th>max</th>\n      <td>51.000000</td>\n      <td>45.000000</td>\n      <td>5.000000</td>\n      <td>3.000000</td>\n      <td>10.000000</td>\n      <td>10.000000</td>\n      <td>10.000000</td>\n      <td>10.000000</td>\n    </tr>\n  </tbody>\n</table>\n</div>"
                    },
                    "metadata": {},
                    "execution_count": 77,
                    "output_type": "execute_result"
                }
            ],
            "execution_count": 77
        },
        {
            "cell_type": "markdown",
            "source": [
                "_____________________________________"
            ],
            "metadata": {
                "azdata_cell_guid": "3ef7326f-0257-48f1-b93b-f39335d0b907"
            }
        },
        {
            "cell_type": "markdown",
            "source": [
                "## (2) Data Cleaning:\n",
                "After building the data model, we proceeded with data cleaning and preprocessing. Here’s a summary of the key observations:\n",
                "\n",
                "- The data had no missing values or unusual entries across all tables. Each field, such as age, salary, and years of experience, showed values within expected ranges.\n",
                "- Data entries for categorical variables like gender, marital status, and job roles were consistent without any spelling or formatting issues.\n",
                "- Date fields, such as the employee `HireDate` and `ReviewDate` in the performance review table, were in the correct format and adhered to the expected chronological order.\n",
                "- Numeric fields, including `Salary`, `YearsAtCompany`, and `DistanceFromHome`, were confirmed to contain only valid numbers without any outliers or inconsistent values.\n",
                "\n",
                "## Conclusion:\n",
                "The dataset was thoroughly examined and found to be clean, consistent, and aligned with the designed data model. There were no missing values, illogical entries, or repeated values, ensuring data integrity across all tables. \n",
                "\n",
                "\n",
                "- **Python (pandas, Matplotlib)**: For detailed data Cleaning and visual inspection."
            ],
            "metadata": {
                "azdata_cell_guid": "7256265f-33ab-4a3d-b69a-6094a65201b9"
            },
            "attachments": {}
        },
        {
            "cell_type": "markdown",
            "source": [
                "# END"
            ],
            "metadata": {
                "azdata_cell_guid": "f223fbea-4fdd-44a9-9b50-a6fb5c35b668"
            }
        }
    ]
}