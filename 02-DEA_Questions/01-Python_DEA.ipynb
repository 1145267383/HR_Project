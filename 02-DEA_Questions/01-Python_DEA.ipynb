{
    "metadata": {
        "kernelspec": {
            "name": "python3",
            "display_name": "Python 3",
            "language": "python"
        },
        "language_info": {
            "name": "python",
            "version": "3.11.10",
            "mimetype": "text/x-python",
            "codemirror_mode": {
                "name": "ipython",
                "version": 3
            },
            "pygments_lexer": "ipython3",
            "nbconvert_exporter": "python",
            "file_extension": ".py"
        }
    },
    "nbformat_minor": 2,
    "nbformat": 4,
    "cells": [
        {
            "cell_type": "markdown",
            "source": [
                "# Project: Human Resources Dataset Analysis\n",
                "\n",
                "## Week 2: (1) Exploratory Data Analysis (EDA) And Determine Data Analysis Questions"
            ],
            "metadata": {
                "azdata_cell_guid": "03683ed5-6374-4424-80d2-4db3f3fd702d"
            },
            "attachments": {}
        },
        {
            "cell_type": "code",
            "source": [
                "# import Libraries\n",
                "import numpy as np\n",
                "import pandas as pd\n",
                "import plotly.express as px\n",
                "import matplotlib.pyplot as plt\n",
                "import seaborn as sns\n",
                "import pyodbc\n",
                "\n",
                "pd.options.display.max_rows = None\n",
                "\n",
                "pd.options.display.max_columns = None\n",
                "sns.set()\n"
            ],
            "metadata": {
                "azdata_cell_guid": "c6a4114d-8aa6-4495-a18e-0100b06c1ee1",
                "language": "python",
                "tags": []
            },
            "outputs": [],
            "execution_count": 1
        },
        {
            "cell_type": "code",
            "source": [
                "import pyodbc\n",
                "import pandas as pd\n",
                "\n",
                "def read_sql_query(query):\n",
                "    \n",
                "    server = 'DESKTOP-0CQ5N9B' \n",
                "    database = 'HR_system' \n",
                "    \n",
                "    # SQL Authentication\n",
                "    connection_string = (\n",
                "        f\"Driver={{ODBC Driver 17 for SQL Server}};\" \n",
                "        f\"Server={server};\" \n",
                "        f\"Database={database};\"\n",
                "        f\"Trusted_Connection=yes;\" \n",
                "    )\n",
                "\n",
                "    # Creating connection\n",
                "    try:\n",
                "        connection = pyodbc.connect(connection_string) \n",
                "        print(\"Connection successful!\")\n",
                "\n",
                "        # Use cursor to execute query\n",
                "        cursor = connection.cursor()\n",
                "        cursor.execute(query)\n",
                "        \n",
                "        # Get results\n",
                "        rows = cursor.fetchall()\n",
                "        columns = [column[0] for column in cursor.description] \n",
                "        \n",
                "        # Creating DataFrame\n",
                "        df = pd.DataFrame.from_records(rows, columns=columns)\n",
                "\n",
                "        return df\n",
                "\n",
                "    except Exception as e:\n",
                "        print(f\"Error: {e}\")\n",
                "        return None  \n",
                "    \n",
                "    finally:\n",
                "        # close connection\n",
                "        if 'connection' in locals():  \n",
                "            connection.close()\n",
                ""
            ],
            "metadata": {
                "scrolled": true,
                "azdata_cell_guid": "4cf0de89-3971-49ea-b03a-b774c6b63e06",
                "language": "python",
                "tags": []
            },
            "outputs": [],
            "execution_count": 2
        },
        {
            "cell_type": "markdown",
            "source": [
                "# Employees"
            ],
            "metadata": {
                "azdata_cell_guid": "c2e2f6e0-c35e-4524-93d5-e9f0826a8e9d"
            },
            "attachments": {}
        },
        {
            "cell_type": "code",
            "source": [
                "pth= \"../00-Dataset_Data_Model/\"\n",
                "# employees = pd.read_csv(f\"{pth}01-Employees.csv\")\n",
                "# educationlevels = pd.read_csv(f\"{pth}03-EducationLevels.csv\")\n",
                "\n",
                "\n",
                "## Load Dataset of Employees with EducationLevels as categories\n",
                "query = \"\"\" \n",
                "SELECT \n",
                "    E.EmployeeID,\n",
                "    E.FirstName,\n",
                "    E.LastName,\n",
                "    E.Gender,\n",
                "    E.Age,\n",
                "    E.BusinessTravel,\n",
                "    E.Department,\n",
                "    E.DistanceFromHome,\n",
                "    E.State,\n",
                "    E.Ethnicity,\n",
                "    E.EducationField,\n",
                "    E.JobRole,\n",
                "    E.MaritalStatus,\n",
                "    E.Salary,\n",
                "    E.StockOptionLevel,\n",
                "    E.OverTime,\n",
                "    E.HireDate,\n",
                "    E.Attrition,\n",
                "    E.YearsAtCompany,\n",
                "    E.YearsInMostRecentRole,\n",
                "    E.YearsSinceLastPromotion,\n",
                "    E.YearsWithCurrManager,\n",
                "    EL.EducationLevel AS EducationLevel\n",
                "FROM \n",
                "    Employees E\n",
                "LEFT JOIN \n",
                "    EducationLevels EL ON E.Education = EL.EducationLevelID;\n",
                "\"\"\"\n",
                "\n",
                "employees = read_sql_query(query)\n",
                "\n",
                "employees.head()"
            ],
            "metadata": {
                "azdata_cell_guid": "24640029-a944-4619-8347-04ae158fa423",
                "language": "python"
            },
            "outputs": [
                {
                    "name": "stdout",
                    "text": "Connection successful!\n",
                    "output_type": "stream"
                },
                {
                    "data": {
                        "text/plain": "  EmployeeID FirstName      LastName      Gender  Age      BusinessTravel  \\\n0  001A-8F88   Christy         Jumel        Male   22         Some Travel   \n1  005C-E0FB       Fin  O'Halleghane  Non-Binary   24  Frequent Traveller   \n2  00A3-2445     Wyatt         Ziehm        Male   30         Some Travel   \n3  00B0-F199   Trueman       Jirasek        Male   23         Some Travel   \n4  00D4-DD53     Joyce          Goor      Female   30  Frequent Traveller   \n\n   Department  DistanceFromHome State                  Ethnicity  \\\n0  Technology                40    CA                      White   \n1       Sales                17    CA                      White   \n2  Technology                 6    CA  Black or African American   \n3       Sales                35    CA                      White   \n4  Technology                44    CA  Black or African American   \n\n        EducationField                    JobRole MaritalStatus     Salary  \\\n0  Information Systems          Software Engineer       Married   27763.00   \n1           Marketing             Sales Executive       Married   56155.00   \n2     Computer Science  Machine Learning Engineer       Married  126238.00   \n3           Marketing             Sales Executive       Married   97824.00   \n4     Computer Science          Software Engineer        Single   68508.00   \n\n   StockOptionLevel OverTime    HireDate Attrition  YearsAtCompany  \\\n0                 0       No  2021-09-05        No               1   \n1                 1       No  2017-08-26        No               5   \n2                 0       No  2012-03-08        No              10   \n3                 1      Yes  2020-03-16       Yes               1   \n4                 0      Yes  2012-01-28       Yes               5   \n\n   YearsInMostRecentRole  YearsSinceLastPromotion  YearsWithCurrManager  \\\n0                      0                        1                     0   \n1                      2                        2                     0   \n2                      3                        6                     6   \n3                      0                        1                     0   \n4                      4                        4                     4   \n\n             EducationLevel  \n0                  Masters   \n1                  Masters   \n2              High School   \n3  No Formal Qualifications  \n4  No Formal Qualifications  ",
                        "text/html": "<div>\n<style scoped>\n    .dataframe tbody tr th:only-of-type {\n        vertical-align: middle;\n    }\n\n    .dataframe tbody tr th {\n        vertical-align: top;\n    }\n\n    .dataframe thead th {\n        text-align: right;\n    }\n</style>\n<table border=\"1\" class=\"dataframe\">\n  <thead>\n    <tr style=\"text-align: right;\">\n      <th></th>\n      <th>EmployeeID</th>\n      <th>FirstName</th>\n      <th>LastName</th>\n      <th>Gender</th>\n      <th>Age</th>\n      <th>BusinessTravel</th>\n      <th>Department</th>\n      <th>DistanceFromHome</th>\n      <th>State</th>\n      <th>Ethnicity</th>\n      <th>EducationField</th>\n      <th>JobRole</th>\n      <th>MaritalStatus</th>\n      <th>Salary</th>\n      <th>StockOptionLevel</th>\n      <th>OverTime</th>\n      <th>HireDate</th>\n      <th>Attrition</th>\n      <th>YearsAtCompany</th>\n      <th>YearsInMostRecentRole</th>\n      <th>YearsSinceLastPromotion</th>\n      <th>YearsWithCurrManager</th>\n      <th>EducationLevel</th>\n    </tr>\n  </thead>\n  <tbody>\n    <tr>\n      <th>0</th>\n      <td>001A-8F88</td>\n      <td>Christy</td>\n      <td>Jumel</td>\n      <td>Male</td>\n      <td>22</td>\n      <td>Some Travel</td>\n      <td>Technology</td>\n      <td>40</td>\n      <td>CA</td>\n      <td>White</td>\n      <td>Information Systems</td>\n      <td>Software Engineer</td>\n      <td>Married</td>\n      <td>27763.00</td>\n      <td>0</td>\n      <td>No</td>\n      <td>2021-09-05</td>\n      <td>No</td>\n      <td>1</td>\n      <td>0</td>\n      <td>1</td>\n      <td>0</td>\n      <td>Masters</td>\n    </tr>\n    <tr>\n      <th>1</th>\n      <td>005C-E0FB</td>\n      <td>Fin</td>\n      <td>O'Halleghane</td>\n      <td>Non-Binary</td>\n      <td>24</td>\n      <td>Frequent Traveller</td>\n      <td>Sales</td>\n      <td>17</td>\n      <td>CA</td>\n      <td>White</td>\n      <td>Marketing</td>\n      <td>Sales Executive</td>\n      <td>Married</td>\n      <td>56155.00</td>\n      <td>1</td>\n      <td>No</td>\n      <td>2017-08-26</td>\n      <td>No</td>\n      <td>5</td>\n      <td>2</td>\n      <td>2</td>\n      <td>0</td>\n      <td>Masters</td>\n    </tr>\n    <tr>\n      <th>2</th>\n      <td>00A3-2445</td>\n      <td>Wyatt</td>\n      <td>Ziehm</td>\n      <td>Male</td>\n      <td>30</td>\n      <td>Some Travel</td>\n      <td>Technology</td>\n      <td>6</td>\n      <td>CA</td>\n      <td>Black or African American</td>\n      <td>Computer Science</td>\n      <td>Machine Learning Engineer</td>\n      <td>Married</td>\n      <td>126238.00</td>\n      <td>0</td>\n      <td>No</td>\n      <td>2012-03-08</td>\n      <td>No</td>\n      <td>10</td>\n      <td>3</td>\n      <td>6</td>\n      <td>6</td>\n      <td>High School</td>\n    </tr>\n    <tr>\n      <th>3</th>\n      <td>00B0-F199</td>\n      <td>Trueman</td>\n      <td>Jirasek</td>\n      <td>Male</td>\n      <td>23</td>\n      <td>Some Travel</td>\n      <td>Sales</td>\n      <td>35</td>\n      <td>CA</td>\n      <td>White</td>\n      <td>Marketing</td>\n      <td>Sales Executive</td>\n      <td>Married</td>\n      <td>97824.00</td>\n      <td>1</td>\n      <td>Yes</td>\n      <td>2020-03-16</td>\n      <td>Yes</td>\n      <td>1</td>\n      <td>0</td>\n      <td>1</td>\n      <td>0</td>\n      <td>No Formal Qualifications</td>\n    </tr>\n    <tr>\n      <th>4</th>\n      <td>00D4-DD53</td>\n      <td>Joyce</td>\n      <td>Goor</td>\n      <td>Female</td>\n      <td>30</td>\n      <td>Frequent Traveller</td>\n      <td>Technology</td>\n      <td>44</td>\n      <td>CA</td>\n      <td>Black or African American</td>\n      <td>Computer Science</td>\n      <td>Software Engineer</td>\n      <td>Single</td>\n      <td>68508.00</td>\n      <td>0</td>\n      <td>Yes</td>\n      <td>2012-01-28</td>\n      <td>Yes</td>\n      <td>5</td>\n      <td>4</td>\n      <td>4</td>\n      <td>4</td>\n      <td>No Formal Qualifications</td>\n    </tr>\n  </tbody>\n</table>\n</div>"
                    },
                    "metadata": {},
                    "execution_count": 137,
                    "output_type": "execute_result"
                }
            ],
            "execution_count": 137
        },
        {
            "cell_type": "code",
            "source": [
                "employees[\"HireDate\"]=pd.to_datetime(employees[\"HireDate\"], format='%Y-%m-%d', errors='coerce')"
            ],
            "metadata": {
                "azdata_cell_guid": "93a95ac8-589a-4437-83bd-3882e328d24d",
                "language": "python"
            },
            "outputs": [],
            "execution_count": 147
        },
        {
            "cell_type": "code",
            "source": [
                "# Display employees data information\r\n",
                "employees.info()\r\n",
                ""
            ],
            "metadata": {
                "azdata_cell_guid": "3f0ea093-2c91-4723-8e23-df783a3239e6",
                "language": "python",
                "scrolled": false,
                "tags": []
            },
            "outputs": [
                {
                    "name": "stdout",
                    "text": "<class 'pandas.core.frame.DataFrame'>\nRangeIndex: 1470 entries, 0 to 1469\nData columns (total 23 columns):\n #   Column                   Non-Null Count  Dtype         \n---  ------                   --------------  -----         \n 0   EmployeeID               1470 non-null   object        \n 1   FirstName                1470 non-null   object        \n 2   LastName                 1470 non-null   object        \n 3   Gender                   1470 non-null   object        \n 4   Age                      1470 non-null   int64         \n 5   BusinessTravel           1470 non-null   object        \n 6   Department               1470 non-null   object        \n 7   DistanceFromHome         1470 non-null   int64         \n 8   State                    1470 non-null   object        \n 9   Ethnicity                1470 non-null   object        \n 10  EducationField           1470 non-null   object        \n 11  JobRole                  1470 non-null   object        \n 12  MaritalStatus            1470 non-null   object        \n 13  Salary                   1470 non-null   object        \n 14  StockOptionLevel         1470 non-null   int64         \n 15  OverTime                 1470 non-null   object        \n 16  HireDate                 1470 non-null   datetime64[ns]\n 17  Attrition                1470 non-null   object        \n 18  YearsAtCompany           1470 non-null   int64         \n 19  YearsInMostRecentRole    1470 non-null   int64         \n 20  YearsSinceLastPromotion  1470 non-null   int64         \n 21  YearsWithCurrManager     1470 non-null   int64         \n 22  EducationLevel           1470 non-null   object        \ndtypes: datetime64[ns](1), int64(7), object(15)\nmemory usage: 264.3+ KB\n",
                    "output_type": "stream"
                }
            ],
            "execution_count": 148
        },
        {
            "cell_type": "markdown",
            "source": [
                "\r\n",
                "## Summary statistics"
            ],
            "metadata": {
                "azdata_cell_guid": "23a6bab8-95d0-4299-b0db-df450fc74202"
            },
            "attachments": {}
        },
        {
            "cell_type": "code",
            "source": [
                "numeric_employees = [\r\n",
                "    \"Age\",\r\n",
                "    \"DistanceFromHome\",\r\n",
                "    \"Salary\",\r\n",
                "    \"StockOptionLevel\",\r\n",
                "    \"OverTime\",\r\n",
                "    \"YearsAtCompany\",\r\n",
                "    \"YearsInMostRecentRole\",\r\n",
                "    \"YearsSinceLastPromotion\",\r\n",
                "    \"YearsWithCurrManager\"\r\n",
                "]\r\n",
                "\r\n",
                "categorical_employees =[\r\n",
                "    \"Gender\",\r\n",
                "    \"BusinessTravel\",\r\n",
                "    \"Department\",\r\n",
                "    \"State\",\r\n",
                "    \"Ethnicity\",\r\n",
                "    \"EducationField\",\r\n",
                "    \"JobRole\",\r\n",
                "    \"MaritalStatus\",\r\n",
                "    \"Attrition\",\r\n",
                "    \"EducationLevel\"\r\n",
                "]\r\n",
                ""
            ],
            "metadata": {
                "azdata_cell_guid": "07743bf8-4ecd-45c4-b72a-b049fabf8717",
                "language": "python"
            },
            "outputs": [],
            "execution_count": 149
        },
        {
            "cell_type": "code",
            "source": [
                "# Summary statistics of numeric\r\n",
                "employees[numeric_employees].describe()\r\n",
                ""
            ],
            "metadata": {
                "scrolled": true,
                "azdata_cell_guid": "9b177afc-fd94-4b9d-a393-8c4e6ee1497b",
                "language": "python"
            },
            "outputs": [
                {
                    "data": {
                        "text/plain": "               Age  DistanceFromHome  StockOptionLevel  YearsAtCompany  \\\ncount  1470.000000       1470.000000       1470.000000     1470.000000   \nmean     28.989796         22.502721          0.793878        4.562585   \nstd       7.993055         12.811124          0.852077        3.288048   \nmin      18.000000          1.000000          0.000000        0.000000   \n25%      23.000000         12.000000          0.000000        2.000000   \n50%      26.000000         22.000000          1.000000        4.000000   \n75%      34.000000         33.000000          1.000000        7.000000   \nmax      51.000000         45.000000          3.000000       10.000000   \n\n       YearsInMostRecentRole  YearsSinceLastPromotion  YearsWithCurrManager  \ncount            1470.000000              1470.000000           1470.000000  \nmean                2.293197                 3.440816              2.239456  \nstd                 2.539093                 2.945194              2.505774  \nmin                 0.000000                 0.000000              0.000000  \n25%                 0.000000                 1.000000              0.000000  \n50%                 1.000000                 3.000000              1.000000  \n75%                 4.000000                 6.000000              4.000000  \nmax                10.000000                10.000000             10.000000  ",
                        "text/html": "<div>\n<style scoped>\n    .dataframe tbody tr th:only-of-type {\n        vertical-align: middle;\n    }\n\n    .dataframe tbody tr th {\n        vertical-align: top;\n    }\n\n    .dataframe thead th {\n        text-align: right;\n    }\n</style>\n<table border=\"1\" class=\"dataframe\">\n  <thead>\n    <tr style=\"text-align: right;\">\n      <th></th>\n      <th>Age</th>\n      <th>DistanceFromHome</th>\n      <th>StockOptionLevel</th>\n      <th>YearsAtCompany</th>\n      <th>YearsInMostRecentRole</th>\n      <th>YearsSinceLastPromotion</th>\n      <th>YearsWithCurrManager</th>\n    </tr>\n  </thead>\n  <tbody>\n    <tr>\n      <th>count</th>\n      <td>1470.000000</td>\n      <td>1470.000000</td>\n      <td>1470.000000</td>\n      <td>1470.000000</td>\n      <td>1470.000000</td>\n      <td>1470.000000</td>\n      <td>1470.000000</td>\n    </tr>\n    <tr>\n      <th>mean</th>\n      <td>28.989796</td>\n      <td>22.502721</td>\n      <td>0.793878</td>\n      <td>4.562585</td>\n      <td>2.293197</td>\n      <td>3.440816</td>\n      <td>2.239456</td>\n    </tr>\n    <tr>\n      <th>std</th>\n      <td>7.993055</td>\n      <td>12.811124</td>\n      <td>0.852077</td>\n      <td>3.288048</td>\n      <td>2.539093</td>\n      <td>2.945194</td>\n      <td>2.505774</td>\n    </tr>\n    <tr>\n      <th>min</th>\n      <td>18.000000</td>\n      <td>1.000000</td>\n      <td>0.000000</td>\n      <td>0.000000</td>\n      <td>0.000000</td>\n      <td>0.000000</td>\n      <td>0.000000</td>\n    </tr>\n    <tr>\n      <th>25%</th>\n      <td>23.000000</td>\n      <td>12.000000</td>\n      <td>0.000000</td>\n      <td>2.000000</td>\n      <td>0.000000</td>\n      <td>1.000000</td>\n      <td>0.000000</td>\n    </tr>\n    <tr>\n      <th>50%</th>\n      <td>26.000000</td>\n      <td>22.000000</td>\n      <td>1.000000</td>\n      <td>4.000000</td>\n      <td>1.000000</td>\n      <td>3.000000</td>\n      <td>1.000000</td>\n    </tr>\n    <tr>\n      <th>75%</th>\n      <td>34.000000</td>\n      <td>33.000000</td>\n      <td>1.000000</td>\n      <td>7.000000</td>\n      <td>4.000000</td>\n      <td>6.000000</td>\n      <td>4.000000</td>\n    </tr>\n    <tr>\n      <th>max</th>\n      <td>51.000000</td>\n      <td>45.000000</td>\n      <td>3.000000</td>\n      <td>10.000000</td>\n      <td>10.000000</td>\n      <td>10.000000</td>\n      <td>10.000000</td>\n    </tr>\n  </tbody>\n</table>\n</div>"
                    },
                    "metadata": {},
                    "execution_count": 150,
                    "output_type": "execute_result"
                }
            ],
            "execution_count": 150
        },
        {
            "cell_type": "code",
            "source": [
                "# Summary statistics of categorical\r\n",
                "employees[categorical_employees].describe().T\r\n",
                ""
            ],
            "metadata": {
                "azdata_cell_guid": "908d4f78-53dd-445f-8d64-4c49cdf92045",
                "language": "python",
                "tags": []
            },
            "outputs": [
                {
                    "data": {
                        "text/plain": "               count unique               top  freq\nGender          1470      4            Female   675\nBusinessTravel  1470      3       Some Travel  1043\nDepartment      1470      3        Technology   961\nState           1470      3                CA   875\nEthnicity       1470      7             White   860\nEducationField  1470      9  Computer Science   440\nJobRole         1470     13   Sales Executive   327\nMaritalStatus   1470      3           Married   624\nAttrition       1470      2                No  1233\nEducationLevel  1470      5        Bachelors    572",
                        "text/html": "<div>\n<style scoped>\n    .dataframe tbody tr th:only-of-type {\n        vertical-align: middle;\n    }\n\n    .dataframe tbody tr th {\n        vertical-align: top;\n    }\n\n    .dataframe thead th {\n        text-align: right;\n    }\n</style>\n<table border=\"1\" class=\"dataframe\">\n  <thead>\n    <tr style=\"text-align: right;\">\n      <th></th>\n      <th>count</th>\n      <th>unique</th>\n      <th>top</th>\n      <th>freq</th>\n    </tr>\n  </thead>\n  <tbody>\n    <tr>\n      <th>Gender</th>\n      <td>1470</td>\n      <td>4</td>\n      <td>Female</td>\n      <td>675</td>\n    </tr>\n    <tr>\n      <th>BusinessTravel</th>\n      <td>1470</td>\n      <td>3</td>\n      <td>Some Travel</td>\n      <td>1043</td>\n    </tr>\n    <tr>\n      <th>Department</th>\n      <td>1470</td>\n      <td>3</td>\n      <td>Technology</td>\n      <td>961</td>\n    </tr>\n    <tr>\n      <th>State</th>\n      <td>1470</td>\n      <td>3</td>\n      <td>CA</td>\n      <td>875</td>\n    </tr>\n    <tr>\n      <th>Ethnicity</th>\n      <td>1470</td>\n      <td>7</td>\n      <td>White</td>\n      <td>860</td>\n    </tr>\n    <tr>\n      <th>EducationField</th>\n      <td>1470</td>\n      <td>9</td>\n      <td>Computer Science</td>\n      <td>440</td>\n    </tr>\n    <tr>\n      <th>JobRole</th>\n      <td>1470</td>\n      <td>13</td>\n      <td>Sales Executive</td>\n      <td>327</td>\n    </tr>\n    <tr>\n      <th>MaritalStatus</th>\n      <td>1470</td>\n      <td>3</td>\n      <td>Married</td>\n      <td>624</td>\n    </tr>\n    <tr>\n      <th>Attrition</th>\n      <td>1470</td>\n      <td>2</td>\n      <td>No</td>\n      <td>1233</td>\n    </tr>\n    <tr>\n      <th>EducationLevel</th>\n      <td>1470</td>\n      <td>5</td>\n      <td>Bachelors</td>\n      <td>572</td>\n    </tr>\n  </tbody>\n</table>\n</div>"
                    },
                    "metadata": {},
                    "execution_count": 151,
                    "output_type": "execute_result"
                }
            ],
            "execution_count": 151
        },
        {
            "cell_type": "code",
            "source": [
                "# Summary statistics of categorical\r\n",
                "for cat_e in categorical_employees:\r\n",
                "    print(f\"Summary statistics of: {cat_e}\")\r\n",
                "    print((employees[cat_e].value_counts(normalize=True)*100).to_string(index=True, header=True,float_format='%.2f%%'))\r\n",
                "    print(\"\\n\")  \r\n",
                ""
            ],
            "metadata": {
                "azdata_cell_guid": "cd214abb-daa2-41fc-b7a4-328220871ab0",
                "language": "python",
                "tags": []
            },
            "outputs": [
{
    "name": "stdout",
    "text": "Summary statistics of: Gender\nGender\nFemale              45.92%\nMale                44.29%\nNon-Binary           8.44%\nPrefer Not To Say    1.36%\n\n\nSummary statistics of: BusinessTravel\nBusinessTravel\nSome Travel          70.95%\nFrequent Traveller   18.84%\nNo Travel            10.20%\n\n\nSummary statistics of: Department\nDepartment\nTechnology        65.37%\nSales             30.34%\nHuman Resources    4.29%\n\n\nSummary statistics of: State\nState\nCA   59.52%\nNY   28.50%\nIL   11.97%\n\n\nSummary statistics of: Ethnicity\nEthnicity\nWhite                              58.50%\nBlack or African American          14.08%\nMixed or multiple ethnic groups    13.47%\nAsian or Asian American             7.69%\nAmerican Indian or Alaska Native    3.40%\nNative Hawaiian                     1.77%\nOther                               1.09%\n\n\nSummary statistics of: EducationField\nEducationField\nComputer Science      29.93%\nInformation Systems   24.69%\nMarketing             11.29%\nMarketing             10.82%\nEconomics              6.87%\nBusiness Studies       6.39%\nOther                  5.58%\nTechnical Degree       2.59%\nHuman Resources        1.84%\n\n\nSummary statistics of: JobRole\nJobRole\nSales Executive             22.24%\nSoftware Engineer           20.00%\nData Scientist              17.76%\nMachine Learning Engineer    9.93%\nSenior Software Engineer     8.98%\nSales Representative         5.65%\nEngineering Manager          5.10%\nAnalytics Manager            3.54%\nManager                      2.52%\nHR Executive                 1.90%\nRecruiter                    1.63%\nHR Business Partner          0.48%\nHR Manager                   0.27%\n\n\nSummary statistics of: MaritalStatus\nMaritalStatus\nMarried    42.45%\nSingle     37.35%\nDivorced   20.20%\n\n\nSummary statistics of: Attrition\nAttrition\nNo    83.88%\nYes   16.12%\n\n\nSummary statistics of: EducationLevel\nEducationLevel\nBachelors                  38.91%\nMasters                    27.07%\nHigh School                19.18%\nNo Formal Qualifications   11.56%\nDoctorate                   3.27%\n\n\n",
    "output_type": "stream"
}
],
            "execution_count": 171
        },
        {
            "cell_type": "markdown",
            "source": [
                "__________________________________\r\n",
                "\r\n",
                "## Summary "
            ],
            "metadata": {
                "language": "python",
                "azdata_cell_guid": "74b8b8e4-4043-446e-a45a-4490d6fe65c9"
            },
            "attachments": {}
        },
        {
            "cell_type": "code",
            "source": [
                ""
            ],
            "metadata": {
                "language": "python",
                "azdata_cell_guid": "f4bd6216-852d-4e49-b9cd-465815fa0b0d"
            },
            "outputs": [],
            "execution_count": null
        },
        {
            "cell_type": "markdown",
            "source": [
                ""
            ],
            "metadata": {
                "language": "python",
                "azdata_cell_guid": "bfd238c3-af20-449f-940b-8af13294df90"
            }
        },
        {
            "cell_type": "code",
            "source": [
                ""
            ],
            "metadata": {
                "language": "python",
                "azdata_cell_guid": "d9893787-809c-4c7a-aca7-f12fc5d421c1"
            },
            "outputs": [],
            "execution_count": null
        },
        {
            "cell_type": "markdown",
            "source": [
                ""
            ],
            "metadata": {
                "language": "python",
                "azdata_cell_guid": "6954b39c-7b55-4bb8-aab5-9fcc76da21b8"
            }
        },
        {
            "cell_type": "markdown",
            "source": [
                "____________________________"
            ],
            "metadata": {
                "azdata_cell_guid": "5e111d45-1919-49db-80aa-fbb6346b3ceb"
            }
        },
        {
            "cell_type": "markdown",
            "source": [
                "____________________________"
            ],
            "metadata": {
                "azdata_cell_guid": "84db67ca-4887-4e2f-bb2c-9f76b66f5849"
            }
        },
        {
            "cell_type": "markdown",
            "source": [
                "__________________________"
            ],
            "metadata": {
                "azdata_cell_guid": "79d28b0d-04f5-43ef-90a0-0c3cd842a66b"
            }
        },
        {
            "cell_type": "markdown",
            "source": [
                "__________________________"
            ],
            "metadata": {
                "azdata_cell_guid": "f04559b5-033b-4009-ae39-7f1e401ae72c"
            }
        },
        {
            "cell_type": "markdown",
            "source": [
                "### PerformanceRating:"
            ],
            "metadata": {
                "azdata_cell_guid": "23498fdf-3b48-4f2d-8878-cac3b5558994"
            }
        },
        {
            "cell_type": "code",
            "source": [
                "# Reading Dataset of PerformanceRating.\n",
                "#performancerating = pd.read_csv(f\"{pth}02-PerformanceRating.csv\")\n",
                "#satisfactionlevels = pd.read_csv(f\"{pth}04-SatisfactionLevels.csv\")\n",
                "#ratinglevels = pd.read_csv(f\"{pth}05-RatingLevels.csv\")\n",
                "\n",
                "\n",
                "## Load Dataset of PerformanceRating with SatisfactionLevels and RatingLevels as categories\n",
                "query = \"\"\" \n",
                "SELECT \n",
                "    PR.PerformanceID,\n",
                "    PR.EmployeeID,\n",
                "    PR.ReviewDate,\n",
                "    PR.TrainingOpportunitiesWithinYear,\n",
                "    PR.TrainingOpportunitiesTaken,\n",
                "    SL1.SatisfactionLevel AS EnvironmentSatisfactionLevel,\n",
                "    SL2.SatisfactionLevel AS JobSatisfactionLevel,\n",
                "    SL3.SatisfactionLevel AS RelationshipSatisfactionLevel,\n",
                "    SL4.SatisfactionLevel AS WorkLifeBalanceLevel,\n",
                "    RL1.RatingLevel AS SelfRatingLevel,\n",
                "    RL2.RatingLevel AS ManagerRatingLevel\n",
                "FROM \n",
                "    PerformanceRating PR\n",
                "LEFT JOIN \n",
                "    SatisfactionLevels SL1 ON PR.EnvironmentSatisfaction = SL1.SatisfactionID\n",
                "LEFT JOIN \n",
                "    SatisfactionLevels SL2 ON PR.JobSatisfaction = SL2.SatisfactionID\n",
                "LEFT JOIN \n",
                "    SatisfactionLevels SL3 ON PR.RelationshipSatisfaction = SL3.SatisfactionID\n",
                "LEFT JOIN \n",
                "    SatisfactionLevels SL4 ON PR.WorkLifeBalance = SL4.SatisfactionID\n",
                "LEFT JOIN \n",
                "    RatingLevels RL1 ON PR.SelfRating = RL1.RatingID\n",
                "LEFT JOIN \n",
                "    RatingLevels RL2 ON PR.ManagerRating = RL2.RatingID;\n",
                "\"\"\"\n",
                "\n",
                "performancerating = read_sql_query(query)\n",
                "\n",
                "performancerating.head()"
            ],
            "metadata": {
                "scrolled": true,
                "azdata_cell_guid": "917bf43d-0c3a-45c2-adbd-82513396e4ec",
                "language": "python",
                "tags": []
            },
            "outputs": [
                {
                    "name": "stdout",
                    "text": "Connection successful!\n",
                    "output_type": "stream"
                },
                {
                    "data": {
                        "text/plain": "  PerformanceID EmployeeID  ReviewDate  TrainingOpportunitiesWithinYear  \\\n0          PR01  79F7-78EC  2013-01-02                                1   \n1          PR02  B61E-0F26  2013-01-03                                1   \n2          PR03  F5E3-48BB  2013-01-03                                3   \n3          PR04  0678-748A  2013-01-04                                2   \n4          PR05  541F-3E19  2013-01-04                                1   \n\n   TrainingOpportunitiesTaken EnvironmentSatisfactionLevel  \\\n0                           0               Very Satisfied   \n1                           3               Very Satisfied   \n2                           2                      Neutral   \n3                           0               Very Satisfied   \n4                           0               Very Satisfied   \n\n  JobSatisfactionLevel RelationshipSatisfactionLevel WorkLifeBalanceLevel  \\\n0           Satisfied                 Very Satisfied           Satisfied    \n1           Satisfied                     Satisfied            Satisfied    \n2           Satisfied                 Very Satisfied              Neutral   \n3              Neutral                  Dissatisfied         Dissatisfied   \n4         Dissatisfied                       Neutral           Satisfied    \n\n        SelfRatingLevel    ManagerRatingLevel  \n0  Exceeds Expectation   Exceeds Expectation   \n1  Exceeds Expectation      Meets Expectation  \n2      Above and Beyond  Exceeds Expectation   \n3     Meets Expectation     Needs Improvement  \n4  Exceeds Expectation      Meets Expectation  ",
                        "text/html": "<div>\n<style scoped>\n    .dataframe tbody tr th:only-of-type {\n        vertical-align: middle;\n    }\n\n    .dataframe tbody tr th {\n        vertical-align: top;\n    }\n\n    .dataframe thead th {\n        text-align: right;\n    }\n</style>\n<table border=\"1\" class=\"dataframe\">\n  <thead>\n    <tr style=\"text-align: right;\">\n      <th></th>\n      <th>PerformanceID</th>\n      <th>EmployeeID</th>\n      <th>ReviewDate</th>\n      <th>TrainingOpportunitiesWithinYear</th>\n      <th>TrainingOpportunitiesTaken</th>\n      <th>EnvironmentSatisfactionLevel</th>\n      <th>JobSatisfactionLevel</th>\n      <th>RelationshipSatisfactionLevel</th>\n      <th>WorkLifeBalanceLevel</th>\n      <th>SelfRatingLevel</th>\n      <th>ManagerRatingLevel</th>\n    </tr>\n  </thead>\n  <tbody>\n    <tr>\n      <th>0</th>\n      <td>PR01</td>\n      <td>79F7-78EC</td>\n      <td>2013-01-02</td>\n      <td>1</td>\n      <td>0</td>\n      <td>Very Satisfied</td>\n      <td>Satisfied</td>\n      <td>Very Satisfied</td>\n      <td>Satisfied</td>\n      <td>Exceeds Expectation</td>\n      <td>Exceeds Expectation</td>\n    </tr>\n    <tr>\n      <th>1</th>\n      <td>PR02</td>\n      <td>B61E-0F26</td>\n      <td>2013-01-03</td>\n      <td>1</td>\n      <td>3</td>\n      <td>Very Satisfied</td>\n      <td>Satisfied</td>\n      <td>Satisfied</td>\n      <td>Satisfied</td>\n      <td>Exceeds Expectation</td>\n      <td>Meets Expectation</td>\n    </tr>\n    <tr>\n      <th>2</th>\n      <td>PR03</td>\n      <td>F5E3-48BB</td>\n      <td>2013-01-03</td>\n      <td>3</td>\n      <td>2</td>\n      <td>Neutral</td>\n      <td>Satisfied</td>\n      <td>Very Satisfied</td>\n      <td>Neutral</td>\n      <td>Above and Beyond</td>\n      <td>Exceeds Expectation</td>\n    </tr>\n    <tr>\n      <th>3</th>\n      <td>PR04</td>\n      <td>0678-748A</td>\n      <td>2013-01-04</td>\n      <td>2</td>\n      <td>0</td>\n      <td>Very Satisfied</td>\n      <td>Neutral</td>\n      <td>Dissatisfied</td>\n      <td>Dissatisfied</td>\n      <td>Meets Expectation</td>\n      <td>Needs Improvement</td>\n    </tr>\n    <tr>\n      <th>4</th>\n      <td>PR05</td>\n      <td>541F-3E19</td>\n      <td>2013-01-04</td>\n      <td>1</td>\n      <td>0</td>\n      <td>Very Satisfied</td>\n      <td>Dissatisfied</td>\n      <td>Neutral</td>\n      <td>Satisfied</td>\n      <td>Exceeds Expectation</td>\n      <td>Meets Expectation</td>\n    </tr>\n  </tbody>\n</table>\n</div>"
                    },
                    "metadata": {},
                    "execution_count": 89,
                    "output_type": "execute_result"
                }
            ],
            "execution_count": 89
        },
        {
            "cell_type": "code",
            "source": [
                "performancerating[\"ReviewDate\"]=pd.to_datetime(performancerating[\"ReviewDate\"], format='%Y-%m-%d', errors='coerce')"
            ],
            "metadata": {
                "language": "python",
                "azdata_cell_guid": "400da25b-cf18-45fc-ac9c-2e48acb74b11"
            },
            "outputs": [],
            "execution_count": 119
        },
        {
            "cell_type": "code",
            "source": [
                "performancerating.info()\r\n",
                ""
            ],
            "metadata": {
                "azdata_cell_guid": "42457c52-d1bb-40b1-88a1-767629bf0c71",
                "language": "python"
            },
            "outputs": [
                {
                    "name": "stdout",
                    "text": "<class 'pandas.core.frame.DataFrame'>\nRangeIndex: 6709 entries, 0 to 6708\nData columns (total 11 columns):\n #   Column                           Non-Null Count  Dtype         \n---  ------                           --------------  -----         \n 0   PerformanceID                    6709 non-null   object        \n 1   EmployeeID                       6709 non-null   object        \n 2   ReviewDate                       6709 non-null   datetime64[ns]\n 3   TrainingOpportunitiesWithinYear  6709 non-null   int64         \n 4   TrainingOpportunitiesTaken       6709 non-null   int64         \n 5   EnvironmentSatisfactionLevel     6709 non-null   object        \n 6   JobSatisfactionLevel             6709 non-null   object        \n 7   RelationshipSatisfactionLevel    6709 non-null   object        \n 8   WorkLifeBalanceLevel             6709 non-null   object        \n 9   SelfRatingLevel                  6709 non-null   object        \n 10  ManagerRatingLevel               6709 non-null   object        \ndtypes: datetime64[ns](1), int64(2), object(8)\nmemory usage: 576.7+ KB\n",
                    "output_type": "stream"
                }
            ],
            "execution_count": 121
        },
        {
            "cell_type": "markdown",
            "source": [
                "# Summary statistics"
            ],
            "metadata": {
                "azdata_cell_guid": "82a1fb6a-cdf8-4e3c-a955-698b624c2b1b"
            },
            "attachments": {}
        },
        {
            "cell_type": "code",
            "source": [
                "numeric_performance = [\r\n",
                "    \"ReviewDate\", \r\n",
                "    \"TrainingOpportunitiesWithinYear\",\r\n",
                "    \"TrainingOpportunitiesTaken\",\r\n",
                "]\r\n",
                "\r\n",
                "\r\n",
                "categorical_performance = [\r\n",
                "     \"EnvironmentSatisfactionLevel\", \r\n",
                "     \"JobSatisfactionLevel\", \r\n",
                "     \"RelationshipSatisfactionLevel\",\r\n",
                "     \"WorkLifeBalanceLevel\", \r\n",
                "     \"SelfRatingLevel\",\r\n",
                "     \"ManagerRatingLevel\"\r\n",
                "]\r\n",
                "\r\n",
                ""
            ],
            "metadata": {
                "language": "python",
                "azdata_cell_guid": "dced550e-f56a-4cec-b971-7854e3af2f03"
            },
            "outputs": [],
            "execution_count": 122
        },
        {
            "cell_type": "code",
            "source": [
                "# Summary statistics of numeric\r\n",
                "performancerating[numeric_performance].describe()\r\n",
                ""
            ],
            "metadata": {
                "azdata_cell_guid": "3fbeef56-0b88-4cc3-9e63-8a288bfcc952",
                "language": "python",
                "tags": []
            },
            "outputs": [
                {
                    "data": {
                        "text/plain": "                          ReviewDate  TrainingOpportunitiesWithinYear  \\\ncount                           6709                      6709.000000   \nmean   2019-04-14 05:12:04.936652544                         2.012968   \nmin              2013-01-02 00:00:00                         1.000000   \n25%              2017-05-21 00:00:00                         1.000000   \n50%              2019-09-15 00:00:00                         2.000000   \n75%              2021-06-01 00:00:00                         3.000000   \nmax              2022-12-31 00:00:00                         3.000000   \nstd                              NaN                         0.820310   \n\n       TrainingOpportunitiesTaken  \ncount                 6709.000000  \nmean                     1.017290  \nmin                      0.000000  \n25%                      0.000000  \n50%                      1.000000  \n75%                      2.000000  \nmax                      3.000000  \nstd                      0.950316  ",
                        "text/html": "<div>\n<style scoped>\n    .dataframe tbody tr th:only-of-type {\n        vertical-align: middle;\n    }\n\n    .dataframe tbody tr th {\n        vertical-align: top;\n    }\n\n    .dataframe thead th {\n        text-align: right;\n    }\n</style>\n<table border=\"1\" class=\"dataframe\">\n  <thead>\n    <tr style=\"text-align: right;\">\n      <th></th>\n      <th>ReviewDate</th>\n      <th>TrainingOpportunitiesWithinYear</th>\n      <th>TrainingOpportunitiesTaken</th>\n    </tr>\n  </thead>\n  <tbody>\n    <tr>\n      <th>count</th>\n      <td>6709</td>\n      <td>6709.000000</td>\n      <td>6709.000000</td>\n    </tr>\n    <tr>\n      <th>mean</th>\n      <td>2019-04-14 05:12:04.936652544</td>\n      <td>2.012968</td>\n      <td>1.017290</td>\n    </tr>\n    <tr>\n      <th>min</th>\n      <td>2013-01-02 00:00:00</td>\n      <td>1.000000</td>\n      <td>0.000000</td>\n    </tr>\n    <tr>\n      <th>25%</th>\n      <td>2017-05-21 00:00:00</td>\n      <td>1.000000</td>\n      <td>0.000000</td>\n    </tr>\n    <tr>\n      <th>50%</th>\n      <td>2019-09-15 00:00:00</td>\n      <td>2.000000</td>\n      <td>1.000000</td>\n    </tr>\n    <tr>\n      <th>75%</th>\n      <td>2021-06-01 00:00:00</td>\n      <td>3.000000</td>\n      <td>2.000000</td>\n    </tr>\n    <tr>\n      <th>max</th>\n      <td>2022-12-31 00:00:00</td>\n      <td>3.000000</td>\n      <td>3.000000</td>\n    </tr>\n    <tr>\n      <th>std</th>\n      <td>NaN</td>\n      <td>0.820310</td>\n      <td>0.950316</td>\n    </tr>\n  </tbody>\n</table>\n</div>"
                    },
                    "metadata": {},
                    "execution_count": 123,
                    "output_type": "execute_result"
                }
            ],
            "execution_count": 123
        },
        {
            "cell_type": "code",
            "source": [
                "# Summary statistics of categorical\r\n",
                "performancerating[categorical_performance].describe().T"
            ],
            "metadata": {
                "language": "python",
                "azdata_cell_guid": "d7e0fa43-646d-4791-aeae-39a564528584"
            },
            "outputs": [
                {
                    "data": {
                        "text/plain": "                              count unique                top  freq\nEnvironmentSatisfactionLevel   6709      5            Neutral  2211\nJobSatisfactionLevel           6709      5         Satisfied   1685\nRelationshipSatisfactionLevel  6709      5         Satisfied   1690\nWorkLifeBalanceLevel           6709      5         Satisfied   1706\nSelfRatingLevel                6709      3  Meets Expectation  2290\nManagerRatingLevel             6709      4  Meets Expectation  2223",
                        "text/html": "<div>\n<style scoped>\n    .dataframe tbody tr th:only-of-type {\n        vertical-align: middle;\n    }\n\n    .dataframe tbody tr th {\n        vertical-align: top;\n    }\n\n    .dataframe thead th {\n        text-align: right;\n    }\n</style>\n<table border=\"1\" class=\"dataframe\">\n  <thead>\n    <tr style=\"text-align: right;\">\n      <th></th>\n      <th>count</th>\n      <th>unique</th>\n      <th>top</th>\n      <th>freq</th>\n    </tr>\n  </thead>\n  <tbody>\n    <tr>\n      <th>EnvironmentSatisfactionLevel</th>\n      <td>6709</td>\n      <td>5</td>\n      <td>Neutral</td>\n      <td>2211</td>\n    </tr>\n    <tr>\n      <th>JobSatisfactionLevel</th>\n      <td>6709</td>\n      <td>5</td>\n      <td>Satisfied</td>\n      <td>1685</td>\n    </tr>\n    <tr>\n      <th>RelationshipSatisfactionLevel</th>\n      <td>6709</td>\n      <td>5</td>\n      <td>Satisfied</td>\n      <td>1690</td>\n    </tr>\n    <tr>\n      <th>WorkLifeBalanceLevel</th>\n      <td>6709</td>\n      <td>5</td>\n      <td>Satisfied</td>\n      <td>1706</td>\n    </tr>\n    <tr>\n      <th>SelfRatingLevel</th>\n      <td>6709</td>\n      <td>3</td>\n      <td>Meets Expectation</td>\n      <td>2290</td>\n    </tr>\n    <tr>\n      <th>ManagerRatingLevel</th>\n      <td>6709</td>\n      <td>4</td>\n      <td>Meets Expectation</td>\n      <td>2223</td>\n    </tr>\n  </tbody>\n</table>\n</div>"
                    },
                    "metadata": {},
                    "execution_count": 132,
                    "output_type": "execute_result"
                }
            ],
            "execution_count": 132
        },
        {
            "cell_type": "code",
            "source": [
                "# Summary statistics of categorical\r\n",
                "cat_summary_per = {}\r\n",
                "\r\n",
                "for cat_c in categorical_performance:\r\n",
                "    print(f\"Summary statistics of: {cat_c}\")\r\n",
                "    print((performancerating[cat_c].value_counts(normalize=True)*100).to_string(index=True, header=True,float_format='%.2f%%'))\r\n",
                "    print(\"\\n\")  \r\n",
                ""
            ],
            "metadata": {
                "azdata_cell_guid": "3ff87e84-afaf-429b-9124-82983269f5b1",
                "language": "python",
                "tags": []
            },
            "outputs": [
                {
                    "name": "stdout",
                    "text": "Summary statistics of: EnvironmentSatisfactionLevel\nEnvironmentSatisfactionLevel\nNeutral             32.96%\nSatisfied           32.42%\nVery Satisfied      30.50%\nDissatisfied         2.10%\nVery Dissatisfied    2.03%\n\n\nSummary statistics of: JobSatisfactionLevel\nJobSatisfactionLevel\nSatisfied           25.12%\nDissatisfied        24.95%\nNeutral             24.61%\nVery Satisfied      23.39%\nVery Dissatisfied    1.94%\n\n\nSummary statistics of: RelationshipSatisfactionLevel\nRelationshipSatisfactionLevel\nSatisfied           25.19%\nDissatisfied        25.15%\nNeutral             24.24%\nVery Satisfied      23.39%\nVery Dissatisfied    2.04%\n\n\nSummary statistics of: WorkLifeBalanceLevel\nWorkLifeBalanceLevel\nSatisfied           25.43%\nDissatisfied        25.37%\nNeutral             24.89%\nVery Satisfied      22.51%\nVery Dissatisfied    1.80%\n\n\nSummary statistics of: SelfRatingLevel\nSelfRatingLevel\nMeets Expectation      34.13%\nExceeds Expectation    33.33%\nAbove and Beyond       32.54%\n\n\nSummary statistics of: ManagerRatingLevel\nManagerRatingLevel\nMeets Expectation      33.13%\nExceeds Expectation    33.09%\nNeeds Improvement      17.77%\nAbove and Beyond       16.01%\n\n\n",
                    "output_type": "stream"
                }
            ],
            "execution_count": 170
        },
        {
            "cell_type": "markdown",
            "source": [
                "____________________________\r\n",
                ""
            ],
            "metadata": {
                "language": "python",
                "azdata_cell_guid": "fca080b2-ead5-46de-b0e3-b8dad8ea73d6"
            },
            "attachments": {}
        },
        {
            "cell_type": "markdown",
            "source": [
                "____________________________\r\n",
                ""
            ],
            "metadata": {
                "language": "python",
                "azdata_cell_guid": "e0a92818-a40b-4090-8fc5-28f3e5494e73"
            },
            "attachments": {}
        },
        {
            "cell_type": "markdown",
            "source": [
                "____________________________"
            ],
            "metadata": {
                "language": "python",
                "azdata_cell_guid": "3cafa1a1-f536-469d-9771-90c41231e747"
            },
            "attachments": {}
        },
        {
            "cell_type": "markdown",
            "source": [
                "### Save dataset in one file Visual Dashboard."
            ],
            "metadata": {
                "language": "python",
                "azdata_cell_guid": "9644f4c6-9b8e-4de9-bbbc-f8ccfa16184e"
            },
            "attachments": {}
        },
        {
            "cell_type": "code",
            "source": [
                "query = \"\"\" \r\n",
                "SELECT \r\n",
                "    E.EmployeeID,\r\n",
                "    E.FirstName,\r\n",
                "    E.LastName,\r\n",
                "    E.Gender,\r\n",
                "    E.Age,\r\n",
                "    E.BusinessTravel,\r\n",
                "    E.Department,\r\n",
                "    E.DistanceFromHome,\r\n",
                "    E.State,\r\n",
                "    E.Ethnicity,\r\n",
                "    E.EducationField,\r\n",
                "    E.JobRole,\r\n",
                "    E.MaritalStatus,\r\n",
                "    E.Salary,\r\n",
                "    E.StockOptionLevel,\r\n",
                "    E.OverTime,\r\n",
                "    E.HireDate,\r\n",
                "    E.Attrition,\r\n",
                "    E.YearsAtCompany,\r\n",
                "    E.YearsInMostRecentRole,\r\n",
                "    E.YearsSinceLastPromotion,\r\n",
                "    E.YearsWithCurrManager,\r\n",
                "    EL.EducationLevel AS EducationLevel,\r\n",
                "    PR.PerformanceID,\r\n",
                "    PR.ReviewDate,\r\n",
                "    PR.TrainingOpportunitiesWithinYear,\r\n",
                "    PR.TrainingOpportunitiesTaken,\r\n",
                "    SL1.SatisfactionLevel AS EnvironmentSatisfactionLevel,\r\n",
                "    SL2.SatisfactionLevel AS JobSatisfactionLevel,\r\n",
                "    SL3.SatisfactionLevel AS RelationshipSatisfactionLevel,\r\n",
                "    SL4.SatisfactionLevel AS WorkLifeBalanceLevel,\r\n",
                "    RL1.RatingLevel AS SelfRatingLevel,\r\n",
                "    RL2.RatingLevel AS ManagerRatingLevel\r\n",
                "FROM \r\n",
                "    Employees E\r\n",
                "LEFT JOIN \r\n",
                "    EducationLevels EL ON E.Education = EL.EducationLevelID\r\n",
                "LEFT JOIN \r\n",
                "    PerformanceRating PR ON E.EmployeeID = PR.EmployeeID\r\n",
                "LEFT JOIN \r\n",
                "    SatisfactionLevels SL1 ON PR.EnvironmentSatisfaction = SL1.SatisfactionID\r\n",
                "LEFT JOIN \r\n",
                "    SatisfactionLevels SL2 ON PR.JobSatisfaction = SL2.SatisfactionID\r\n",
                "LEFT JOIN \r\n",
                "    SatisfactionLevels SL3 ON PR.RelationshipSatisfaction = SL3.SatisfactionID\r\n",
                "LEFT JOIN \r\n",
                "    SatisfactionLevels SL4 ON PR.WorkLifeBalance = SL4.SatisfactionID\r\n",
                "LEFT JOIN \r\n",
                "    RatingLevels RL1 ON PR.SelfRating = RL1.RatingID\r\n",
                "LEFT JOIN \r\n",
                "    RatingLevels RL2 ON PR.ManagerRating = RL2.RatingID;\r\n",
                "\"\"\"\r\n",
                "\r\n",
                "\r\n",
                "data_employees = read_sql_query(query)\r\n",
                "\r\n",
                "\r\n",
                "data_employees.head()"
            ],
            "metadata": {
                "azdata_cell_guid": "e3354331-2998-46bd-a598-4864cb63076f",
                "language": "python",
                "tags": []
            },
            "outputs": [
                {
                    "name": "stdout",
                    "text": "Connection successful!\n",
                    "output_type": "stream"
                },
                {
                    "data": {
                        "text/plain": "  EmployeeID FirstName      LastName      Gender  Age      BusinessTravel  \\\n0  001A-8F88   Christy         Jumel        Male   22         Some Travel   \n1  005C-E0FB       Fin  O'Halleghane  Non-Binary   24  Frequent Traveller   \n2  005C-E0FB       Fin  O'Halleghane  Non-Binary   24  Frequent Traveller   \n3  005C-E0FB       Fin  O'Halleghane  Non-Binary   24  Frequent Traveller   \n4  00A3-2445     Wyatt         Ziehm        Male   30         Some Travel   \n\n   Department  DistanceFromHome State                  Ethnicity  \\\n0  Technology                40    CA                      White   \n1       Sales                17    CA                      White   \n2       Sales                17    CA                      White   \n3       Sales                17    CA                      White   \n4  Technology                 6    CA  Black or African American   \n\n        EducationField                    JobRole MaritalStatus     Salary  \\\n0  Information Systems          Software Engineer       Married   27763.00   \n1           Marketing             Sales Executive       Married   56155.00   \n2           Marketing             Sales Executive       Married   56155.00   \n3           Marketing             Sales Executive       Married   56155.00   \n4     Computer Science  Machine Learning Engineer       Married  126238.00   \n\n   StockOptionLevel OverTime    HireDate Attrition  YearsAtCompany  \\\n0                 0       No  2021-09-05        No               1   \n1                 1       No  2017-08-26        No               5   \n2                 1       No  2017-08-26        No               5   \n3                 1       No  2017-08-26        No               5   \n4                 0       No  2012-03-08        No              10   \n\n   YearsInMostRecentRole  YearsSinceLastPromotion  YearsWithCurrManager  \\\n0                      0                        1                     0   \n1                      2                        2                     0   \n2                      2                        2                     0   \n3                      2                        2                     0   \n4                      3                        6                     6   \n\n  EducationLevel PerformanceID  ReviewDate  TrainingOpportunitiesWithinYear  \\\n0       Masters           None        None                              NaN   \n1       Masters         PR4067  2020-06-17                              1.0   \n2       Masters         PR5070  2021-06-17                              1.0   \n3       Masters         PR6165  2022-06-17                              3.0   \n4   High School         PR1165  2016-06-19                              2.0   \n\n   TrainingOpportunitiesTaken EnvironmentSatisfactionLevel  \\\n0                         NaN                         None   \n1                         2.0                      Neutral   \n2                         1.0                   Satisfied    \n3                         0.0                      Neutral   \n4                         2.0                   Satisfied    \n\n  JobSatisfactionLevel RelationshipSatisfactionLevel WorkLifeBalanceLevel  \\\n0                 None                          None                 None   \n1              Neutral                  Dissatisfied         Dissatisfied   \n2           Satisfied                 Very Satisfied       Very Satisfied   \n3           Satisfied                 Very Satisfied           Satisfied    \n4       Very Satisfied                    Satisfied        Very Satisfied   \n\n        SelfRatingLevel    ManagerRatingLevel  \n0                  None                  None  \n1  Exceeds Expectation      Meets Expectation  \n2     Meets Expectation     Meets Expectation  \n3  Exceeds Expectation   Exceeds Expectation   \n4  Exceeds Expectation      Meets Expectation  ",
                        "text/html": "<div>\n<style scoped>\n    .dataframe tbody tr th:only-of-type {\n        vertical-align: middle;\n    }\n\n    .dataframe tbody tr th {\n        vertical-align: top;\n    }\n\n    .dataframe thead th {\n        text-align: right;\n    }\n</style>\n<table border=\"1\" class=\"dataframe\">\n  <thead>\n    <tr style=\"text-align: right;\">\n      <th></th>\n      <th>EmployeeID</th>\n      <th>FirstName</th>\n      <th>LastName</th>\n      <th>Gender</th>\n      <th>Age</th>\n      <th>BusinessTravel</th>\n      <th>Department</th>\n      <th>DistanceFromHome</th>\n      <th>State</th>\n      <th>Ethnicity</th>\n      <th>EducationField</th>\n      <th>JobRole</th>\n      <th>MaritalStatus</th>\n      <th>Salary</th>\n      <th>StockOptionLevel</th>\n      <th>OverTime</th>\n      <th>HireDate</th>\n      <th>Attrition</th>\n      <th>YearsAtCompany</th>\n      <th>YearsInMostRecentRole</th>\n      <th>YearsSinceLastPromotion</th>\n      <th>YearsWithCurrManager</th>\n      <th>EducationLevel</th>\n      <th>PerformanceID</th>\n      <th>ReviewDate</th>\n      <th>TrainingOpportunitiesWithinYear</th>\n      <th>TrainingOpportunitiesTaken</th>\n      <th>EnvironmentSatisfactionLevel</th>\n      <th>JobSatisfactionLevel</th>\n      <th>RelationshipSatisfactionLevel</th>\n      <th>WorkLifeBalanceLevel</th>\n      <th>SelfRatingLevel</th>\n      <th>ManagerRatingLevel</th>\n    </tr>\n  </thead>\n  <tbody>\n    <tr>\n      <th>0</th>\n      <td>001A-8F88</td>\n      <td>Christy</td>\n      <td>Jumel</td>\n      <td>Male</td>\n      <td>22</td>\n      <td>Some Travel</td>\n      <td>Technology</td>\n      <td>40</td>\n      <td>CA</td>\n      <td>White</td>\n      <td>Information Systems</td>\n      <td>Software Engineer</td>\n      <td>Married</td>\n      <td>27763.00</td>\n      <td>0</td>\n      <td>No</td>\n      <td>2021-09-05</td>\n      <td>No</td>\n      <td>1</td>\n      <td>0</td>\n      <td>1</td>\n      <td>0</td>\n      <td>Masters</td>\n      <td>None</td>\n      <td>None</td>\n      <td>NaN</td>\n      <td>NaN</td>\n      <td>None</td>\n      <td>None</td>\n      <td>None</td>\n      <td>None</td>\n      <td>None</td>\n      <td>None</td>\n    </tr>\n    <tr>\n      <th>1</th>\n      <td>005C-E0FB</td>\n      <td>Fin</td>\n      <td>O'Halleghane</td>\n      <td>Non-Binary</td>\n      <td>24</td>\n      <td>Frequent Traveller</td>\n      <td>Sales</td>\n      <td>17</td>\n      <td>CA</td>\n      <td>White</td>\n      <td>Marketing</td>\n      <td>Sales Executive</td>\n      <td>Married</td>\n      <td>56155.00</td>\n      <td>1</td>\n      <td>No</td>\n      <td>2017-08-26</td>\n      <td>No</td>\n      <td>5</td>\n      <td>2</td>\n      <td>2</td>\n      <td>0</td>\n      <td>Masters</td>\n      <td>PR4067</td>\n      <td>2020-06-17</td>\n      <td>1.0</td>\n      <td>2.0</td>\n      <td>Neutral</td>\n      <td>Neutral</td>\n      <td>Dissatisfied</td>\n      <td>Dissatisfied</td>\n      <td>Exceeds Expectation</td>\n      <td>Meets Expectation</td>\n    </tr>\n    <tr>\n      <th>2</th>\n      <td>005C-E0FB</td>\n      <td>Fin</td>\n      <td>O'Halleghane</td>\n      <td>Non-Binary</td>\n      <td>24</td>\n      <td>Frequent Traveller</td>\n      <td>Sales</td>\n      <td>17</td>\n      <td>CA</td>\n      <td>White</td>\n      <td>Marketing</td>\n      <td>Sales Executive</td>\n      <td>Married</td>\n      <td>56155.00</td>\n      <td>1</td>\n      <td>No</td>\n      <td>2017-08-26</td>\n      <td>No</td>\n      <td>5</td>\n      <td>2</td>\n      <td>2</td>\n      <td>0</td>\n      <td>Masters</td>\n      <td>PR5070</td>\n      <td>2021-06-17</td>\n      <td>1.0</td>\n      <td>1.0</td>\n      <td>Satisfied</td>\n      <td>Satisfied</td>\n      <td>Very Satisfied</td>\n      <td>Very Satisfied</td>\n      <td>Meets Expectation</td>\n      <td>Meets Expectation</td>\n    </tr>\n    <tr>\n      <th>3</th>\n      <td>005C-E0FB</td>\n      <td>Fin</td>\n      <td>O'Halleghane</td>\n      <td>Non-Binary</td>\n      <td>24</td>\n      <td>Frequent Traveller</td>\n      <td>Sales</td>\n      <td>17</td>\n      <td>CA</td>\n      <td>White</td>\n      <td>Marketing</td>\n      <td>Sales Executive</td>\n      <td>Married</td>\n      <td>56155.00</td>\n      <td>1</td>\n      <td>No</td>\n      <td>2017-08-26</td>\n      <td>No</td>\n      <td>5</td>\n      <td>2</td>\n      <td>2</td>\n      <td>0</td>\n      <td>Masters</td>\n      <td>PR6165</td>\n      <td>2022-06-17</td>\n      <td>3.0</td>\n      <td>0.0</td>\n      <td>Neutral</td>\n      <td>Satisfied</td>\n      <td>Very Satisfied</td>\n      <td>Satisfied</td>\n      <td>Exceeds Expectation</td>\n      <td>Exceeds Expectation</td>\n    </tr>\n    <tr>\n      <th>4</th>\n      <td>00A3-2445</td>\n      <td>Wyatt</td>\n      <td>Ziehm</td>\n      <td>Male</td>\n      <td>30</td>\n      <td>Some Travel</td>\n      <td>Technology</td>\n      <td>6</td>\n      <td>CA</td>\n      <td>Black or African American</td>\n      <td>Computer Science</td>\n      <td>Machine Learning Engineer</td>\n      <td>Married</td>\n      <td>126238.00</td>\n      <td>0</td>\n      <td>No</td>\n      <td>2012-03-08</td>\n      <td>No</td>\n      <td>10</td>\n      <td>3</td>\n      <td>6</td>\n      <td>6</td>\n      <td>High School</td>\n      <td>PR1165</td>\n      <td>2016-06-19</td>\n      <td>2.0</td>\n      <td>2.0</td>\n      <td>Satisfied</td>\n      <td>Very Satisfied</td>\n      <td>Satisfied</td>\n      <td>Very Satisfied</td>\n      <td>Exceeds Expectation</td>\n      <td>Meets Expectation</td>\n    </tr>\n  </tbody>\n</table>\n</div>"
                    },
                    "metadata": {},
                    "execution_count": 94,
                    "output_type": "execute_result"
                }
            ],
            "execution_count": 94
        },
        {
            "cell_type": "code",
            "source": [
                "data_employees.info()"
            ],
            "metadata": {
                "azdata_cell_guid": "b055377d-4e26-488a-81c6-deff748e55bb",
                "language": "python"
            },
            "outputs": [
                {
                    "name": "stdout",
                    "text": "<class 'pandas.core.frame.DataFrame'>\nRangeIndex: 6899 entries, 0 to 6898\nData columns (total 33 columns):\n #   Column                           Non-Null Count  Dtype  \n---  ------                           --------------  -----  \n 0   EmployeeID                       6899 non-null   object \n 1   FirstName                        6899 non-null   object \n 2   LastName                         6899 non-null   object \n 3   Gender                           6899 non-null   object \n 4   Age                              6899 non-null   int64  \n 5   BusinessTravel                   6899 non-null   object \n 6   Department                       6899 non-null   object \n 7   DistanceFromHome                 6899 non-null   int64  \n 8   State                            6899 non-null   object \n 9   Ethnicity                        6899 non-null   object \n 10  EducationField                   6899 non-null   object \n 11  JobRole                          6899 non-null   object \n 12  MaritalStatus                    6899 non-null   object \n 13  Salary                           6899 non-null   object \n 14  StockOptionLevel                 6899 non-null   int64  \n 15  OverTime                         6899 non-null   object \n 16  HireDate                         6899 non-null   object \n 17  Attrition                        6899 non-null   object \n 18  YearsAtCompany                   6899 non-null   int64  \n 19  YearsInMostRecentRole            6899 non-null   int64  \n 20  YearsSinceLastPromotion          6899 non-null   int64  \n 21  YearsWithCurrManager             6899 non-null   int64  \n 22  EducationLevel                   6899 non-null   object \n 23  PerformanceID                    6709 non-null   object \n 24  ReviewDate                       6709 non-null   object \n 25  TrainingOpportunitiesWithinYear  6709 non-null   float64\n 26  TrainingOpportunitiesTaken       6709 non-null   float64\n 27  EnvironmentSatisfactionLevel     6709 non-null   object \n 28  JobSatisfactionLevel             6709 non-null   object \n 29  RelationshipSatisfactionLevel    6709 non-null   object \n 30  WorkLifeBalanceLevel             6709 non-null   object \n 31  SelfRatingLevel                  6709 non-null   object \n 32  ManagerRatingLevel               6709 non-null   object \ndtypes: float64(2), int64(7), object(24)\nmemory usage: 1.7+ MB\n",
                    "output_type": "stream"
                }
            ],
            "execution_count": 95
        },
        {
            "cell_type": "code",
            "source": [
                "data_employees.to_csv(f'{pth}06-All_Data_Employees.csv', index=False, encoding='utf-8-sig')\r\n",
                ""
            ],
            "metadata": {
                "azdata_cell_guid": "aaa39c4c-a0e0-47eb-8117-d63f6a0795b9",
                "language": "python"
            },
            "outputs": [],
            "execution_count": 97
        },
        {
            "cell_type": "markdown",
            "source": [
                "_____________________________________"
            ],
            "metadata": {
                "azdata_cell_guid": "3ef7326f-0257-48f1-b93b-f39335d0b907"
            }
        },
        {
            "cell_type": "markdown",
            "source": [
                "## (2) Data Cleaning:\n",
                "After building the data model, we proceeded with data cleaning and preprocessing. Here’s a summary of the key observations:\n",
                "\n",
                "- The data had no missing values or unusual entries across all tables. Each field, such as age, salary, and years of experience, showed values within expected ranges.\n",
                "- Data entries for categorical variables like gender, marital status, and job roles were consistent without any spelling or formatting issues.\n",
                "- Date fields, such as the employee `HireDate` and `ReviewDate` in the performance review table, were in the correct format and adhered to the expected chronological order.\n",
                "- Numeric fields, including `Salary`, `YearsAtCompany`, and `DistanceFromHome`, were confirmed to contain only valid numbers without any outliers or inconsistent values.\n",
                "\n",
                "## Conclusion:\n",
                "The dataset was thoroughly examined and found to be clean, consistent, and aligned with the designed data model. There were no missing values, illogical entries, or repeated values, ensuring data integrity across all tables. \n",
                "\n",
                "\n",
                "- **Python (pandas, Matplotlib)**: For detailed data Cleaning and visual inspection."
            ],
            "metadata": {
                "azdata_cell_guid": "7256265f-33ab-4a3d-b69a-6094a65201b9"
            },
            "attachments": {}
        },
        {
            "cell_type": "markdown",
            "source": [
                "# END"
            ],
            "metadata": {
                "azdata_cell_guid": "f223fbea-4fdd-44a9-9b50-a6fb5c35b668"
            }
        }
    ]
}